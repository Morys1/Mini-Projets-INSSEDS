{
 "cells": [
  {
   "cell_type": "markdown",
   "id": "07a75ce9",
   "metadata": {},
   "source": [
    "# MINI-PROJET STAT INFERENTIELLE"
   ]
  },
  {
   "cell_type": "code",
   "execution_count": 409,
   "id": "02cec417",
   "metadata": {},
   "outputs": [],
   "source": [
    "import numpy as np\n",
    "import pandas as pd\n",
    "import matplotlib.pyplot as plt\n",
    "import seaborn as sns\n",
    "import scipy.stats as stats\n",
    "import missingno as msno # Visualiser les NaN\n",
    "from scipy.stats import chi2_contingency# Test de Khy-deux\n",
    "import statsmodels.api as sm\n",
    "from statsmodels.stats.proportion import proportions_ztest # z-test \n",
    "from scipy.stats import shapiro, ttest_ind, bartlett # t-test studen\n"
   ]
  },
  {
   "cell_type": "markdown",
   "id": "4cbdcfb3",
   "metadata": {},
   "source": [
    "## Importation et lecture du Jeu de données "
   ]
  },
  {
   "cell_type": "code",
   "execution_count": 132,
   "id": "6805dcdc",
   "metadata": {},
   "outputs": [],
   "source": [
    "donnees = pd.read_csv(\"satisfaction_hopital.csv\", sep=';')"
   ]
  },
  {
   "cell_type": "code",
   "execution_count": 133,
   "id": "fa7e0289",
   "metadata": {},
   "outputs": [],
   "source": [
    "df = donnees.copy()"
   ]
  },
  {
   "cell_type": "code",
   "execution_count": 134,
   "id": "d5dfa74f",
   "metadata": {
    "collapsed": true
   },
   "outputs": [
    {
     "data": {
      "text/html": [
       "<div>\n",
       "<style scoped>\n",
       "    .dataframe tbody tr th:only-of-type {\n",
       "        vertical-align: middle;\n",
       "    }\n",
       "\n",
       "    .dataframe tbody tr th {\n",
       "        vertical-align: top;\n",
       "    }\n",
       "\n",
       "    .dataframe thead th {\n",
       "        text-align: right;\n",
       "    }\n",
       "</style>\n",
       "<table border=\"1\" class=\"dataframe\">\n",
       "  <thead>\n",
       "    <tr style=\"text-align: right;\">\n",
       "      <th></th>\n",
       "      <th>service</th>\n",
       "      <th>sexe</th>\n",
       "      <th>age</th>\n",
       "      <th>profession</th>\n",
       "      <th>amelioration.sante</th>\n",
       "      <th>amelioration.moral</th>\n",
       "      <th>recommander</th>\n",
       "      <th>score.relation</th>\n",
       "      <th>score,information</th>\n",
       "    </tr>\n",
       "  </thead>\n",
       "  <tbody>\n",
       "    <tr>\n",
       "      <th>0</th>\n",
       "      <td>3</td>\n",
       "      <td>0</td>\n",
       "      <td>41.0</td>\n",
       "      <td>4.0</td>\n",
       "      <td>1.0</td>\n",
       "      <td>0.0</td>\n",
       "      <td>1.0</td>\n",
       "      <td>36.0</td>\n",
       "      <td>22.0</td>\n",
       "    </tr>\n",
       "    <tr>\n",
       "      <th>1</th>\n",
       "      <td>3</td>\n",
       "      <td>1</td>\n",
       "      <td>29.0</td>\n",
       "      <td>8.0</td>\n",
       "      <td>2.0</td>\n",
       "      <td>3.0</td>\n",
       "      <td>2.0</td>\n",
       "      <td>33.0</td>\n",
       "      <td>36.0</td>\n",
       "    </tr>\n",
       "    <tr>\n",
       "      <th>2</th>\n",
       "      <td>3</td>\n",
       "      <td>1</td>\n",
       "      <td>83.0</td>\n",
       "      <td>2.0</td>\n",
       "      <td>2.0</td>\n",
       "      <td>1.0</td>\n",
       "      <td>2.0</td>\n",
       "      <td>40.0</td>\n",
       "      <td>37.0</td>\n",
       "    </tr>\n",
       "    <tr>\n",
       "      <th>3</th>\n",
       "      <td>3</td>\n",
       "      <td>0</td>\n",
       "      <td>66.0</td>\n",
       "      <td>3.0</td>\n",
       "      <td>2.0</td>\n",
       "      <td>0.0</td>\n",
       "      <td>2.0</td>\n",
       "      <td>32.0</td>\n",
       "      <td>35.0</td>\n",
       "    </tr>\n",
       "    <tr>\n",
       "      <th>4</th>\n",
       "      <td>3</td>\n",
       "      <td>1</td>\n",
       "      <td>84.0</td>\n",
       "      <td>NaN</td>\n",
       "      <td>NaN</td>\n",
       "      <td>NaN</td>\n",
       "      <td>NaN</td>\n",
       "      <td>NaN</td>\n",
       "      <td>NaN</td>\n",
       "    </tr>\n",
       "  </tbody>\n",
       "</table>\n",
       "</div>"
      ],
      "text/plain": [
       "   service  sexe   age  profession  amelioration.sante  amelioration.moral  \\\n",
       "0        3     0  41.0         4.0                 1.0                 0.0   \n",
       "1        3     1  29.0         8.0                 2.0                 3.0   \n",
       "2        3     1  83.0         2.0                 2.0                 1.0   \n",
       "3        3     0  66.0         3.0                 2.0                 0.0   \n",
       "4        3     1  84.0         NaN                 NaN                 NaN   \n",
       "\n",
       "   recommander  score.relation  score,information  \n",
       "0          1.0            36.0               22.0  \n",
       "1          2.0            33.0               36.0  \n",
       "2          2.0            40.0               37.0  \n",
       "3          2.0            32.0               35.0  \n",
       "4          NaN             NaN                NaN  "
      ]
     },
     "execution_count": 134,
     "metadata": {},
     "output_type": "execute_result"
    }
   ],
   "source": [
    "df.head()"
   ]
  },
  {
   "cell_type": "code",
   "execution_count": 135,
   "id": "2a00822c",
   "metadata": {
    "collapsed": true
   },
   "outputs": [
    {
     "name": "stdout",
     "output_type": "stream",
     "text": [
      "<class 'pandas.core.frame.DataFrame'>\n",
      "RangeIndex: 534 entries, 0 to 533\n",
      "Data columns (total 9 columns):\n",
      " #   Column              Non-Null Count  Dtype  \n",
      "---  ------              --------------  -----  \n",
      " 0   service             534 non-null    int64  \n",
      " 1   sexe                534 non-null    int64  \n",
      " 2   age                 528 non-null    float64\n",
      " 3   profession          427 non-null    float64\n",
      " 4   amelioration.sante  376 non-null    float64\n",
      " 5   amelioration.moral  383 non-null    float64\n",
      " 6   recommander         405 non-null    float64\n",
      " 7   score.relation      349 non-null    float64\n",
      " 8   score,information   358 non-null    float64\n",
      "dtypes: float64(7), int64(2)\n",
      "memory usage: 37.7 KB\n"
     ]
    }
   ],
   "source": [
    "df.info()"
   ]
  },
  {
   "cell_type": "code",
   "execution_count": 136,
   "id": "b144144e",
   "metadata": {},
   "outputs": [],
   "source": [
    "# Renommer les colonnes\n",
    "df.rename(columns={'amelioration.sante':'AmelioSante', 'amelioration.moral':'AmelioMorale', \n",
    "                   'score.relation':'ScoreRelation', 'score,information':'ScoreInfo'}, inplace=True)"
   ]
  },
  {
   "cell_type": "code",
   "execution_count": 137,
   "id": "46493317",
   "metadata": {
    "collapsed": true
   },
   "outputs": [
    {
     "data": {
      "text/html": [
       "<div>\n",
       "<style scoped>\n",
       "    .dataframe tbody tr th:only-of-type {\n",
       "        vertical-align: middle;\n",
       "    }\n",
       "\n",
       "    .dataframe tbody tr th {\n",
       "        vertical-align: top;\n",
       "    }\n",
       "\n",
       "    .dataframe thead th {\n",
       "        text-align: right;\n",
       "    }\n",
       "</style>\n",
       "<table border=\"1\" class=\"dataframe\">\n",
       "  <thead>\n",
       "    <tr style=\"text-align: right;\">\n",
       "      <th></th>\n",
       "      <th>service</th>\n",
       "      <th>sexe</th>\n",
       "      <th>age</th>\n",
       "      <th>profession</th>\n",
       "      <th>AmelioSante</th>\n",
       "      <th>AmelioMorale</th>\n",
       "      <th>recommander</th>\n",
       "      <th>ScoreRelation</th>\n",
       "      <th>ScoreInfo</th>\n",
       "    </tr>\n",
       "  </thead>\n",
       "  <tbody>\n",
       "    <tr>\n",
       "      <th>0</th>\n",
       "      <td>3</td>\n",
       "      <td>0</td>\n",
       "      <td>41.0</td>\n",
       "      <td>4.0</td>\n",
       "      <td>1.0</td>\n",
       "      <td>0.0</td>\n",
       "      <td>1.0</td>\n",
       "      <td>36.0</td>\n",
       "      <td>22.0</td>\n",
       "    </tr>\n",
       "    <tr>\n",
       "      <th>1</th>\n",
       "      <td>3</td>\n",
       "      <td>1</td>\n",
       "      <td>29.0</td>\n",
       "      <td>8.0</td>\n",
       "      <td>2.0</td>\n",
       "      <td>3.0</td>\n",
       "      <td>2.0</td>\n",
       "      <td>33.0</td>\n",
       "      <td>36.0</td>\n",
       "    </tr>\n",
       "    <tr>\n",
       "      <th>2</th>\n",
       "      <td>3</td>\n",
       "      <td>1</td>\n",
       "      <td>83.0</td>\n",
       "      <td>2.0</td>\n",
       "      <td>2.0</td>\n",
       "      <td>1.0</td>\n",
       "      <td>2.0</td>\n",
       "      <td>40.0</td>\n",
       "      <td>37.0</td>\n",
       "    </tr>\n",
       "    <tr>\n",
       "      <th>3</th>\n",
       "      <td>3</td>\n",
       "      <td>0</td>\n",
       "      <td>66.0</td>\n",
       "      <td>3.0</td>\n",
       "      <td>2.0</td>\n",
       "      <td>0.0</td>\n",
       "      <td>2.0</td>\n",
       "      <td>32.0</td>\n",
       "      <td>35.0</td>\n",
       "    </tr>\n",
       "    <tr>\n",
       "      <th>4</th>\n",
       "      <td>3</td>\n",
       "      <td>1</td>\n",
       "      <td>84.0</td>\n",
       "      <td>NaN</td>\n",
       "      <td>NaN</td>\n",
       "      <td>NaN</td>\n",
       "      <td>NaN</td>\n",
       "      <td>NaN</td>\n",
       "      <td>NaN</td>\n",
       "    </tr>\n",
       "  </tbody>\n",
       "</table>\n",
       "</div>"
      ],
      "text/plain": [
       "   service  sexe   age  profession  AmelioSante  AmelioMorale  recommander  \\\n",
       "0        3     0  41.0         4.0          1.0           0.0          1.0   \n",
       "1        3     1  29.0         8.0          2.0           3.0          2.0   \n",
       "2        3     1  83.0         2.0          2.0           1.0          2.0   \n",
       "3        3     0  66.0         3.0          2.0           0.0          2.0   \n",
       "4        3     1  84.0         NaN          NaN           NaN          NaN   \n",
       "\n",
       "   ScoreRelation  ScoreInfo  \n",
       "0           36.0       22.0  \n",
       "1           33.0       36.0  \n",
       "2           40.0       37.0  \n",
       "3           32.0       35.0  \n",
       "4            NaN        NaN  "
      ]
     },
     "execution_count": 137,
     "metadata": {},
     "output_type": "execute_result"
    }
   ],
   "source": [
    "df.head()"
   ]
  },
  {
   "cell_type": "markdown",
   "id": "d01c416e",
   "metadata": {},
   "source": [
    "## Changer le type des colonnes"
   ]
  },
  {
   "cell_type": "code",
   "execution_count": 172,
   "id": "72ed2dcb",
   "metadata": {},
   "outputs": [],
   "source": [
    "col = ['service', 'sexe', 'profession', 'AmelioSante', 'AmelioMorale', 'recommander']\n",
    "for nom in col: \n",
    "    df[nom]=df[nom].astype('category')"
   ]
  },
  {
   "cell_type": "code",
   "execution_count": 173,
   "id": "d0174c3b",
   "metadata": {
    "collapsed": true
   },
   "outputs": [
    {
     "name": "stdout",
     "output_type": "stream",
     "text": [
      "<class 'pandas.core.frame.DataFrame'>\n",
      "RangeIndex: 534 entries, 0 to 533\n",
      "Data columns (total 9 columns):\n",
      " #   Column         Non-Null Count  Dtype   \n",
      "---  ------         --------------  -----   \n",
      " 0   service        534 non-null    category\n",
      " 1   sexe           534 non-null    category\n",
      " 2   age            528 non-null    float64 \n",
      " 3   profession     427 non-null    category\n",
      " 4   AmelioSante    376 non-null    category\n",
      " 5   AmelioMorale   383 non-null    category\n",
      " 6   recommander    405 non-null    category\n",
      " 7   ScoreRelation  349 non-null    float64 \n",
      " 8   ScoreInfo      358 non-null    float64 \n",
      "dtypes: category(6), float64(3)\n",
      "memory usage: 17.1 KB\n"
     ]
    }
   ],
   "source": [
    "df.info()"
   ]
  },
  {
   "cell_type": "code",
   "execution_count": 174,
   "id": "75f45163",
   "metadata": {
    "collapsed": true
   },
   "outputs": [
    {
     "data": {
      "text/html": [
       "<div>\n",
       "<style scoped>\n",
       "    .dataframe tbody tr th:only-of-type {\n",
       "        vertical-align: middle;\n",
       "    }\n",
       "\n",
       "    .dataframe tbody tr th {\n",
       "        vertical-align: top;\n",
       "    }\n",
       "\n",
       "    .dataframe thead th {\n",
       "        text-align: right;\n",
       "    }\n",
       "</style>\n",
       "<table border=\"1\" class=\"dataframe\">\n",
       "  <thead>\n",
       "    <tr style=\"text-align: right;\">\n",
       "      <th></th>\n",
       "      <th>service</th>\n",
       "      <th>sexe</th>\n",
       "      <th>profession</th>\n",
       "      <th>AmelioSante</th>\n",
       "      <th>AmelioMorale</th>\n",
       "      <th>recommander</th>\n",
       "    </tr>\n",
       "  </thead>\n",
       "  <tbody>\n",
       "    <tr>\n",
       "      <th>count</th>\n",
       "      <td>534</td>\n",
       "      <td>534</td>\n",
       "      <td>427.0</td>\n",
       "      <td>376.0</td>\n",
       "      <td>383.0</td>\n",
       "      <td>405.0</td>\n",
       "    </tr>\n",
       "    <tr>\n",
       "      <th>unique</th>\n",
       "      <td>8</td>\n",
       "      <td>2</td>\n",
       "      <td>8.0</td>\n",
       "      <td>4.0</td>\n",
       "      <td>4.0</td>\n",
       "      <td>3.0</td>\n",
       "    </tr>\n",
       "    <tr>\n",
       "      <th>top</th>\n",
       "      <td>5</td>\n",
       "      <td>0</td>\n",
       "      <td>3.0</td>\n",
       "      <td>3.0</td>\n",
       "      <td>1.0</td>\n",
       "      <td>2.0</td>\n",
       "    </tr>\n",
       "    <tr>\n",
       "      <th>freq</th>\n",
       "      <td>71</td>\n",
       "      <td>268</td>\n",
       "      <td>124.0</td>\n",
       "      <td>161.0</td>\n",
       "      <td>179.0</td>\n",
       "      <td>269.0</td>\n",
       "    </tr>\n",
       "  </tbody>\n",
       "</table>\n",
       "</div>"
      ],
      "text/plain": [
       "        service  sexe  profession  AmelioSante  AmelioMorale  recommander\n",
       "count       534   534       427.0        376.0         383.0        405.0\n",
       "unique        8     2         8.0          4.0           4.0          3.0\n",
       "top           5     0         3.0          3.0           1.0          2.0\n",
       "freq         71   268       124.0        161.0         179.0        269.0"
      ]
     },
     "execution_count": 174,
     "metadata": {},
     "output_type": "execute_result"
    }
   ],
   "source": [
    "df.describe(include='category')"
   ]
  },
  {
   "cell_type": "code",
   "execution_count": 175,
   "id": "aeceee7a",
   "metadata": {
    "collapsed": true
   },
   "outputs": [
    {
     "data": {
      "text/html": [
       "<div>\n",
       "<style scoped>\n",
       "    .dataframe tbody tr th:only-of-type {\n",
       "        vertical-align: middle;\n",
       "    }\n",
       "\n",
       "    .dataframe tbody tr th {\n",
       "        vertical-align: top;\n",
       "    }\n",
       "\n",
       "    .dataframe thead th {\n",
       "        text-align: right;\n",
       "    }\n",
       "</style>\n",
       "<table border=\"1\" class=\"dataframe\">\n",
       "  <thead>\n",
       "    <tr style=\"text-align: right;\">\n",
       "      <th></th>\n",
       "      <th>age</th>\n",
       "      <th>ScoreRelation</th>\n",
       "      <th>ScoreInfo</th>\n",
       "    </tr>\n",
       "  </thead>\n",
       "  <tbody>\n",
       "    <tr>\n",
       "      <th>count</th>\n",
       "      <td>528.000000</td>\n",
       "      <td>349.000000</td>\n",
       "      <td>358.000000</td>\n",
       "    </tr>\n",
       "    <tr>\n",
       "      <th>mean</th>\n",
       "      <td>58.212121</td>\n",
       "      <td>35.217765</td>\n",
       "      <td>31.910615</td>\n",
       "    </tr>\n",
       "    <tr>\n",
       "      <th>std</th>\n",
       "      <td>17.809249</td>\n",
       "      <td>4.623606</td>\n",
       "      <td>6.793295</td>\n",
       "    </tr>\n",
       "    <tr>\n",
       "      <th>min</th>\n",
       "      <td>18.000000</td>\n",
       "      <td>13.000000</td>\n",
       "      <td>13.000000</td>\n",
       "    </tr>\n",
       "    <tr>\n",
       "      <th>25%</th>\n",
       "      <td>45.000000</td>\n",
       "      <td>33.000000</td>\n",
       "      <td>28.000000</td>\n",
       "    </tr>\n",
       "    <tr>\n",
       "      <th>50%</th>\n",
       "      <td>60.000000</td>\n",
       "      <td>36.000000</td>\n",
       "      <td>33.000000</td>\n",
       "    </tr>\n",
       "    <tr>\n",
       "      <th>75%</th>\n",
       "      <td>72.000000</td>\n",
       "      <td>39.000000</td>\n",
       "      <td>38.000000</td>\n",
       "    </tr>\n",
       "    <tr>\n",
       "      <th>max</th>\n",
       "      <td>97.000000</td>\n",
       "      <td>40.000000</td>\n",
       "      <td>40.000000</td>\n",
       "    </tr>\n",
       "  </tbody>\n",
       "</table>\n",
       "</div>"
      ],
      "text/plain": [
       "              age  ScoreRelation   ScoreInfo\n",
       "count  528.000000     349.000000  358.000000\n",
       "mean    58.212121      35.217765   31.910615\n",
       "std     17.809249       4.623606    6.793295\n",
       "min     18.000000      13.000000   13.000000\n",
       "25%     45.000000      33.000000   28.000000\n",
       "50%     60.000000      36.000000   33.000000\n",
       "75%     72.000000      39.000000   38.000000\n",
       "max     97.000000      40.000000   40.000000"
      ]
     },
     "execution_count": 175,
     "metadata": {},
     "output_type": "execute_result"
    }
   ],
   "source": [
    "df.describe()"
   ]
  },
  {
   "cell_type": "markdown",
   "id": "d15d4207",
   "metadata": {},
   "source": [
    "## Visualisation des NaN"
   ]
  },
  {
   "cell_type": "code",
   "execution_count": 176,
   "id": "d11498dd",
   "metadata": {
    "collapsed": true
   },
   "outputs": [
    {
     "data": {
      "image/png": "[encoded data removed]",
      "text/plain": [
       "<Figure size 1800x720 with 3 Axes>"
      ]
     },
     "metadata": {
      "needs_background": "light"
     },
     "output_type": "display_data"
    }
   ],
   "source": [
    "msno.bar(df)\n",
    "plt.title('VISUALISATION DES VALEURS MANQUANTES')\n",
    "plt.show()"
   ]
  },
  {
   "cell_type": "code",
   "execution_count": 144,
   "id": "a87bea49",
   "metadata": {},
   "outputs": [],
   "source": [
    "# msno.matrix(df)\n",
    "# plt.title('VISUALISATION DES VALEURS MANQUANTES')\n",
    "# plt.show()"
   ]
  },
  {
   "cell_type": "code",
   "execution_count": 145,
   "id": "7cae5659",
   "metadata": {},
   "outputs": [],
   "source": [
    "# msno.heatmap(df)\n",
    "# plt.title('VISUALISATION DES VALEURS MANQUANTES')\n",
    "# plt.show()"
   ]
  },
  {
   "cell_type": "markdown",
   "id": "250574f2",
   "metadata": {},
   "source": [
    "## Traitement des valeurs manquantes "
   ]
  },
  {
   "cell_type": "code",
   "execution_count": 177,
   "id": "63f73155",
   "metadata": {
    "collapsed": true
   },
   "outputs": [
    {
     "data": {
      "text/plain": [
       "service            0\n",
       "sexe               0\n",
       "age                6\n",
       "profession       107\n",
       "AmelioSante      158\n",
       "AmelioMorale     151\n",
       "recommander      129\n",
       "ScoreRelation    185\n",
       "ScoreInfo        176\n",
       "dtype: int64"
      ]
     },
     "execution_count": 177,
     "metadata": {},
     "output_type": "execute_result"
    }
   ],
   "source": [
    "# Comptage des NaN\n",
    "df.isna().sum()"
   ]
  },
  {
   "cell_type": "code",
   "execution_count": 178,
   "id": "44ddb922",
   "metadata": {
    "collapsed": true
   },
   "outputs": [
    {
     "data": {
      "text/plain": [
       "service           0.0\n",
       "sexe              0.0\n",
       "age               1.0\n",
       "profession       20.0\n",
       "AmelioSante      30.0\n",
       "AmelioMorale     28.0\n",
       "recommander      24.0\n",
       "ScoreRelation    35.0\n",
       "ScoreInfo        33.0\n",
       "dtype: float64"
      ]
     },
     "execution_count": 178,
     "metadata": {},
     "output_type": "execute_result"
    }
   ],
   "source": [
    "# Pourcentage des NaN\n",
    "round(df.isna().mean(), 2)*100"
   ]
  },
  {
   "cell_type": "code",
   "execution_count": 95,
   "id": "1de6bf53",
   "metadata": {},
   "outputs": [],
   "source": [
    "# # Changement des types des variables\n",
    "# col = ['service', 'sexe', 'profession', 'AmelioSante', 'AmelioMorale', 'recommander']\n",
    "# for nom in col: \n",
    "#     df[nom]=df[nom].astype('int')"
   ]
  },
  {
   "cell_type": "code",
   "execution_count": 205,
   "id": "69b4869c",
   "metadata": {
    "collapsed": true
   },
   "outputs": [
    {
     "name": "stdout",
     "output_type": "stream",
     "text": [
      "<class 'pandas.core.frame.DataFrame'>\n",
      "RangeIndex: 534 entries, 0 to 533\n",
      "Data columns (total 9 columns):\n",
      " #   Column         Non-Null Count  Dtype   \n",
      "---  ------         --------------  -----   \n",
      " 0   service        534 non-null    category\n",
      " 1   sexe           534 non-null    category\n",
      " 2   age            528 non-null    float64 \n",
      " 3   profession     427 non-null    category\n",
      " 4   AmelioSante    376 non-null    category\n",
      " 5   AmelioMorale   383 non-null    category\n",
      " 6   recommander    405 non-null    category\n",
      " 7   ScoreRelation  349 non-null    float64 \n",
      " 8   ScoreInfo      358 non-null    float64 \n",
      "dtypes: category(6), float64(3)\n",
      "memory usage: 17.1 KB\n"
     ]
    }
   ],
   "source": [
    "df.info()"
   ]
  },
  {
   "cell_type": "code",
   "execution_count": 206,
   "id": "d4976f04",
   "metadata": {},
   "outputs": [],
   "source": [
    "# import the KNNimputer class\n",
    "from sklearn.impute import KNNImputer"
   ]
  },
  {
   "cell_type": "code",
   "execution_count": 207,
   "id": "da38a2ba",
   "metadata": {},
   "outputs": [],
   "source": [
    "# create an object for KNNImputer\n",
    "imputer = KNNImputer(n_neighbors=10)"
   ]
  },
  {
   "cell_type": "code",
   "execution_count": 208,
   "id": "b2c0d66e",
   "metadata": {},
   "outputs": [],
   "source": [
    "# Imputation\n",
    "dfImputer = imputer.fit_transform(df)"
   ]
  },
  {
   "cell_type": "code",
   "execution_count": 209,
   "id": "e2aefd0e",
   "metadata": {
    "collapsed": true
   },
   "outputs": [
    {
     "data": {
      "text/html": [
       "<div>\n",
       "<style scoped>\n",
       "    .dataframe tbody tr th:only-of-type {\n",
       "        vertical-align: middle;\n",
       "    }\n",
       "\n",
       "    .dataframe tbody tr th {\n",
       "        vertical-align: top;\n",
       "    }\n",
       "\n",
       "    .dataframe thead th {\n",
       "        text-align: right;\n",
       "    }\n",
       "</style>\n",
       "<table border=\"1\" class=\"dataframe\">\n",
       "  <thead>\n",
       "    <tr style=\"text-align: right;\">\n",
       "      <th></th>\n",
       "      <th>0</th>\n",
       "      <th>1</th>\n",
       "      <th>2</th>\n",
       "      <th>3</th>\n",
       "      <th>4</th>\n",
       "      <th>5</th>\n",
       "      <th>6</th>\n",
       "      <th>7</th>\n",
       "      <th>8</th>\n",
       "    </tr>\n",
       "  </thead>\n",
       "  <tbody>\n",
       "    <tr>\n",
       "      <th>0</th>\n",
       "      <td>3.0</td>\n",
       "      <td>0.0</td>\n",
       "      <td>41.0</td>\n",
       "      <td>4.0</td>\n",
       "      <td>1.0</td>\n",
       "      <td>0.0</td>\n",
       "      <td>1.0</td>\n",
       "      <td>36.0</td>\n",
       "      <td>22.0</td>\n",
       "    </tr>\n",
       "    <tr>\n",
       "      <th>1</th>\n",
       "      <td>3.0</td>\n",
       "      <td>1.0</td>\n",
       "      <td>29.0</td>\n",
       "      <td>8.0</td>\n",
       "      <td>2.0</td>\n",
       "      <td>3.0</td>\n",
       "      <td>2.0</td>\n",
       "      <td>33.0</td>\n",
       "      <td>36.0</td>\n",
       "    </tr>\n",
       "    <tr>\n",
       "      <th>2</th>\n",
       "      <td>3.0</td>\n",
       "      <td>1.0</td>\n",
       "      <td>83.0</td>\n",
       "      <td>2.0</td>\n",
       "      <td>2.0</td>\n",
       "      <td>1.0</td>\n",
       "      <td>2.0</td>\n",
       "      <td>40.0</td>\n",
       "      <td>37.0</td>\n",
       "    </tr>\n",
       "    <tr>\n",
       "      <th>3</th>\n",
       "      <td>3.0</td>\n",
       "      <td>0.0</td>\n",
       "      <td>66.0</td>\n",
       "      <td>3.0</td>\n",
       "      <td>2.0</td>\n",
       "      <td>0.0</td>\n",
       "      <td>2.0</td>\n",
       "      <td>32.0</td>\n",
       "      <td>35.0</td>\n",
       "    </tr>\n",
       "    <tr>\n",
       "      <th>4</th>\n",
       "      <td>3.0</td>\n",
       "      <td>1.0</td>\n",
       "      <td>84.0</td>\n",
       "      <td>4.5</td>\n",
       "      <td>2.5</td>\n",
       "      <td>1.1</td>\n",
       "      <td>1.8</td>\n",
       "      <td>37.2</td>\n",
       "      <td>30.3</td>\n",
       "    </tr>\n",
       "  </tbody>\n",
       "</table>\n",
       "</div>"
      ],
      "text/plain": [
       "     0    1     2    3    4    5    6     7     8\n",
       "0  3.0  0.0  41.0  4.0  1.0  0.0  1.0  36.0  22.0\n",
       "1  3.0  1.0  29.0  8.0  2.0  3.0  2.0  33.0  36.0\n",
       "2  3.0  1.0  83.0  2.0  2.0  1.0  2.0  40.0  37.0\n",
       "3  3.0  0.0  66.0  3.0  2.0  0.0  2.0  32.0  35.0\n",
       "4  3.0  1.0  84.0  4.5  2.5  1.1  1.8  37.2  30.3"
      ]
     },
     "execution_count": 209,
     "metadata": {},
     "output_type": "execute_result"
    }
   ],
   "source": [
    "dfSansNan = pd.DataFrame(dfImputer)\n",
    "dfSansNan.head()"
   ]
  },
  {
   "cell_type": "code",
   "execution_count": 210,
   "id": "117ea9d8",
   "metadata": {
    "collapsed": true
   },
   "outputs": [
    {
     "name": "stdout",
     "output_type": "stream",
     "text": [
      "<class 'pandas.core.frame.DataFrame'>\n",
      "RangeIndex: 534 entries, 0 to 533\n",
      "Data columns (total 9 columns):\n",
      " #   Column  Non-Null Count  Dtype  \n",
      "---  ------  --------------  -----  \n",
      " 0   0       534 non-null    float64\n",
      " 1   1       534 non-null    float64\n",
      " 2   2       534 non-null    float64\n",
      " 3   3       534 non-null    float64\n",
      " 4   4       534 non-null    float64\n",
      " 5   5       534 non-null    float64\n",
      " 6   6       534 non-null    float64\n",
      " 7   7       534 non-null    float64\n",
      " 8   8       534 non-null    float64\n",
      "dtypes: float64(9)\n",
      "memory usage: 37.7 KB\n"
     ]
    }
   ],
   "source": [
    "dfSansNan.info()"
   ]
  },
  {
   "cell_type": "code",
   "execution_count": 211,
   "id": "5934ae77",
   "metadata": {},
   "outputs": [],
   "source": [
    "# Renommer les colonnes\n",
    "dfSansNan.rename(columns={0:'service', 1:'sexe', 2:'age', 3:'profession', 4:'AmelioSante', 5:'AmelioMorale', 6:'recommander', \n",
    "                   7:'ScoreRelation', 8:'ScoreInfo'}, inplace=True)"
   ]
  },
  {
   "cell_type": "code",
   "execution_count": 213,
   "id": "827e85d3",
   "metadata": {
    "collapsed": true
   },
   "outputs": [
    {
     "data": {
      "text/html": [
       "<div>\n",
       "<style scoped>\n",
       "    .dataframe tbody tr th:only-of-type {\n",
       "        vertical-align: middle;\n",
       "    }\n",
       "\n",
       "    .dataframe tbody tr th {\n",
       "        vertical-align: top;\n",
       "    }\n",
       "\n",
       "    .dataframe thead th {\n",
       "        text-align: right;\n",
       "    }\n",
       "</style>\n",
       "<table border=\"1\" class=\"dataframe\">\n",
       "  <thead>\n",
       "    <tr style=\"text-align: right;\">\n",
       "      <th></th>\n",
       "      <th>service</th>\n",
       "      <th>sexe</th>\n",
       "      <th>age</th>\n",
       "      <th>profession</th>\n",
       "      <th>AmelioSante</th>\n",
       "      <th>AmelioMorale</th>\n",
       "      <th>recommander</th>\n",
       "      <th>ScoreRelation</th>\n",
       "      <th>ScoreInfo</th>\n",
       "    </tr>\n",
       "  </thead>\n",
       "  <tbody>\n",
       "    <tr>\n",
       "      <th>0</th>\n",
       "      <td>3.0</td>\n",
       "      <td>0.0</td>\n",
       "      <td>41.0</td>\n",
       "      <td>4.0</td>\n",
       "      <td>1.0</td>\n",
       "      <td>0.0</td>\n",
       "      <td>1.0</td>\n",
       "      <td>36.0</td>\n",
       "      <td>22.0</td>\n",
       "    </tr>\n",
       "    <tr>\n",
       "      <th>1</th>\n",
       "      <td>3.0</td>\n",
       "      <td>1.0</td>\n",
       "      <td>29.0</td>\n",
       "      <td>8.0</td>\n",
       "      <td>2.0</td>\n",
       "      <td>3.0</td>\n",
       "      <td>2.0</td>\n",
       "      <td>33.0</td>\n",
       "      <td>36.0</td>\n",
       "    </tr>\n",
       "    <tr>\n",
       "      <th>2</th>\n",
       "      <td>3.0</td>\n",
       "      <td>1.0</td>\n",
       "      <td>83.0</td>\n",
       "      <td>2.0</td>\n",
       "      <td>2.0</td>\n",
       "      <td>1.0</td>\n",
       "      <td>2.0</td>\n",
       "      <td>40.0</td>\n",
       "      <td>37.0</td>\n",
       "    </tr>\n",
       "    <tr>\n",
       "      <th>3</th>\n",
       "      <td>3.0</td>\n",
       "      <td>0.0</td>\n",
       "      <td>66.0</td>\n",
       "      <td>3.0</td>\n",
       "      <td>2.0</td>\n",
       "      <td>0.0</td>\n",
       "      <td>2.0</td>\n",
       "      <td>32.0</td>\n",
       "      <td>35.0</td>\n",
       "    </tr>\n",
       "    <tr>\n",
       "      <th>4</th>\n",
       "      <td>3.0</td>\n",
       "      <td>1.0</td>\n",
       "      <td>84.0</td>\n",
       "      <td>4.5</td>\n",
       "      <td>2.5</td>\n",
       "      <td>1.1</td>\n",
       "      <td>1.8</td>\n",
       "      <td>37.2</td>\n",
       "      <td>30.3</td>\n",
       "    </tr>\n",
       "  </tbody>\n",
       "</table>\n",
       "</div>"
      ],
      "text/plain": [
       "   service  sexe   age  profession  AmelioSante  AmelioMorale  recommander  \\\n",
       "0      3.0   0.0  41.0         4.0          1.0           0.0          1.0   \n",
       "1      3.0   1.0  29.0         8.0          2.0           3.0          2.0   \n",
       "2      3.0   1.0  83.0         2.0          2.0           1.0          2.0   \n",
       "3      3.0   0.0  66.0         3.0          2.0           0.0          2.0   \n",
       "4      3.0   1.0  84.0         4.5          2.5           1.1          1.8   \n",
       "\n",
       "   ScoreRelation  ScoreInfo  \n",
       "0           36.0       22.0  \n",
       "1           33.0       36.0  \n",
       "2           40.0       37.0  \n",
       "3           32.0       35.0  \n",
       "4           37.2       30.3  "
      ]
     },
     "execution_count": 213,
     "metadata": {},
     "output_type": "execute_result"
    }
   ],
   "source": [
    "dfSansNan.head()"
   ]
  },
  {
   "cell_type": "code",
   "execution_count": 216,
   "id": "547c7e09",
   "metadata": {},
   "outputs": [],
   "source": [
    "# Changement des types des variables\n",
    "col = ['service', 'sexe', 'profession', 'AmelioSante', 'AmelioMorale', 'recommander']\n",
    "for nom in col: \n",
    "    dfSansNan[nom]=dfSansNan[nom].astype('category')"
   ]
  },
  {
   "cell_type": "code",
   "execution_count": 217,
   "id": "4ce871e1",
   "metadata": {
    "collapsed": true
   },
   "outputs": [
    {
     "name": "stdout",
     "output_type": "stream",
     "text": [
      "<class 'pandas.core.frame.DataFrame'>\n",
      "RangeIndex: 534 entries, 0 to 533\n",
      "Data columns (total 9 columns):\n",
      " #   Column         Non-Null Count  Dtype   \n",
      "---  ------         --------------  -----   \n",
      " 0   service        534 non-null    category\n",
      " 1   sexe           534 non-null    category\n",
      " 2   age            534 non-null    float64 \n",
      " 3   profession     534 non-null    category\n",
      " 4   AmelioSante    534 non-null    category\n",
      " 5   AmelioMorale   534 non-null    category\n",
      " 6   recommander    534 non-null    category\n",
      " 7   ScoreRelation  534 non-null    float64 \n",
      " 8   ScoreInfo      534 non-null    float64 \n",
      "dtypes: category(6), float64(3)\n",
      "memory usage: 19.2 KB\n"
     ]
    }
   ],
   "source": [
    "dfSansNan.info()"
   ]
  },
  {
   "cell_type": "code",
   "execution_count": 218,
   "id": "b28eb6ef",
   "metadata": {
    "collapsed": true
   },
   "outputs": [
    {
     "data": {
      "text/plain": [
       "service          0\n",
       "sexe             0\n",
       "age              0\n",
       "profession       0\n",
       "AmelioSante      0\n",
       "AmelioMorale     0\n",
       "recommander      0\n",
       "ScoreRelation    0\n",
       "ScoreInfo        0\n",
       "dtype: int64"
      ]
     },
     "execution_count": 218,
     "metadata": {},
     "output_type": "execute_result"
    }
   ],
   "source": [
    "# Verification des NaN\n",
    "dfSansNan.isna().sum()"
   ]
  },
  {
   "cell_type": "code",
   "execution_count": 219,
   "id": "59f67c7d",
   "metadata": {
    "collapsed": true
   },
   "outputs": [
    {
     "data": {
      "image/png": "[encoded data removed]",
      "text/plain": [
       "<Figure size 1800x720 with 3 Axes>"
      ]
     },
     "metadata": {
      "needs_background": "light"
     },
     "output_type": "display_data"
    }
   ],
   "source": [
    "# Visualisation des NaN\n",
    "msno.bar(dfSansNan)\n",
    "plt.title('VISUALISATION DES VALEURS MANQUANTES')\n",
    "plt.show()"
   ]
  },
  {
   "cell_type": "markdown",
   "id": "78247aec",
   "metadata": {},
   "source": [
    "## Traitement des doublons"
   ]
  },
  {
   "cell_type": "code",
   "execution_count": 220,
   "id": "47a78015",
   "metadata": {},
   "outputs": [
    {
     "data": {
      "text/plain": [
       "12"
      ]
     },
     "execution_count": 220,
     "metadata": {},
     "output_type": "execute_result"
    }
   ],
   "source": [
    "#Comptage du nombre de doublon\n",
    "len(dfSansNan[dfSansNan.duplicated()])"
   ]
  },
  {
   "cell_type": "code",
   "execution_count": 254,
   "id": "39250b25",
   "metadata": {},
   "outputs": [],
   "source": [
    "#Suppression des doublons\n",
    "dfOk=dfSansNan.drop_duplicates()"
   ]
  },
  {
   "cell_type": "code",
   "execution_count": 266,
   "id": "e7f64b11",
   "metadata": {
    "collapsed": true
   },
   "outputs": [
    {
     "name": "stdout",
     "output_type": "stream",
     "text": [
      "<class 'pandas.core.frame.DataFrame'>\n",
      "Int64Index: 522 entries, 0 to 533\n",
      "Data columns (total 9 columns):\n",
      " #   Column         Non-Null Count  Dtype  \n",
      "---  ------         --------------  -----  \n",
      " 0   service        522 non-null    int32  \n",
      " 1   sexe           522 non-null    int32  \n",
      " 2   age            522 non-null    float64\n",
      " 3   profession     522 non-null    int32  \n",
      " 4   AmelioSante    522 non-null    int32  \n",
      " 5   AmelioMorale   522 non-null    int32  \n",
      " 6   recommander    522 non-null    int32  \n",
      " 7   ScoreRelation  522 non-null    float64\n",
      " 8   ScoreInfo      522 non-null    float64\n",
      "dtypes: float64(3), int32(6)\n",
      "memory usage: 28.5 KB\n"
     ]
    }
   ],
   "source": [
    "dfOk.info()"
   ]
  },
  {
   "cell_type": "code",
   "execution_count": 268,
   "id": "4ed991ce",
   "metadata": {
    "collapsed": true
   },
   "outputs": [
    {
     "name": "stderr",
     "output_type": "stream",
     "text": [
      "C:\\Users\\THINKPAD\\AppData\\Local\\Temp\\ipykernel_13120\\252588879.py:4: SettingWithCopyWarning: \n",
      "A value is trying to be set on a copy of a slice from a DataFrame.\n",
      "Try using .loc[row_indexer,col_indexer] = value instead\n",
      "\n",
      "See the caveats in the documentation: https://pandas.pydata.org/pandas-docs/stable/user_guide/indexing.html#returning-a-view-versus-a-copy\n",
      "  dfOk.loc[:, nom]=dfOk.loc[:, nom].astype('int')\n"
     ]
    }
   ],
   "source": [
    "# Changement des types des variables\n",
    "col = ['service', 'sexe', 'profession', 'AmelioSante', 'AmelioMorale', 'recommander']\n",
    "for nom in col: \n",
    "    dfOk.loc[:, nom]=dfOk.loc[:, nom].astype('int')"
   ]
  },
  {
   "cell_type": "code",
   "execution_count": 279,
   "id": "ea516a64",
   "metadata": {
    "collapsed": true
   },
   "outputs": [
    {
     "name": "stderr",
     "output_type": "stream",
     "text": [
      "C:\\Users\\THINKPAD\\AppData\\Local\\Temp\\ipykernel_13120\\1663260493.py:4: SettingWithCopyWarning: \n",
      "A value is trying to be set on a copy of a slice from a DataFrame.\n",
      "Try using .loc[row_indexer,col_indexer] = value instead\n",
      "\n",
      "See the caveats in the documentation: https://pandas.pydata.org/pandas-docs/stable/user_guide/indexing.html#returning-a-view-versus-a-copy\n",
      "  dfOk.loc[:, (nom)]=dfOk.loc[:, (nom)].astype('category')\n",
      "C:\\Users\\THINKPAD\\AppData\\Local\\Temp\\ipykernel_13120\\1663260493.py:4: SettingWithCopyWarning: \n",
      "A value is trying to be set on a copy of a slice from a DataFrame.\n",
      "Try using .loc[row_indexer,col_indexer] = value instead\n",
      "\n",
      "See the caveats in the documentation: https://pandas.pydata.org/pandas-docs/stable/user_guide/indexing.html#returning-a-view-versus-a-copy\n",
      "  dfOk.loc[:, (nom)]=dfOk.loc[:, (nom)].astype('category')\n",
      "C:\\Users\\THINKPAD\\AppData\\Local\\Temp\\ipykernel_13120\\1663260493.py:4: SettingWithCopyWarning: \n",
      "A value is trying to be set on a copy of a slice from a DataFrame.\n",
      "Try using .loc[row_indexer,col_indexer] = value instead\n",
      "\n",
      "See the caveats in the documentation: https://pandas.pydata.org/pandas-docs/stable/user_guide/indexing.html#returning-a-view-versus-a-copy\n",
      "  dfOk.loc[:, (nom)]=dfOk.loc[:, (nom)].astype('category')\n",
      "C:\\Users\\THINKPAD\\AppData\\Local\\Temp\\ipykernel_13120\\1663260493.py:4: SettingWithCopyWarning: \n",
      "A value is trying to be set on a copy of a slice from a DataFrame.\n",
      "Try using .loc[row_indexer,col_indexer] = value instead\n",
      "\n",
      "See the caveats in the documentation: https://pandas.pydata.org/pandas-docs/stable/user_guide/indexing.html#returning-a-view-versus-a-copy\n",
      "  dfOk.loc[:, (nom)]=dfOk.loc[:, (nom)].astype('category')\n",
      "C:\\Users\\THINKPAD\\AppData\\Local\\Temp\\ipykernel_13120\\1663260493.py:4: SettingWithCopyWarning: \n",
      "A value is trying to be set on a copy of a slice from a DataFrame.\n",
      "Try using .loc[row_indexer,col_indexer] = value instead\n",
      "\n",
      "See the caveats in the documentation: https://pandas.pydata.org/pandas-docs/stable/user_guide/indexing.html#returning-a-view-versus-a-copy\n",
      "  dfOk.loc[:, (nom)]=dfOk.loc[:, (nom)].astype('category')\n",
      "C:\\Users\\THINKPAD\\AppData\\Local\\Temp\\ipykernel_13120\\1663260493.py:4: SettingWithCopyWarning: \n",
      "A value is trying to be set on a copy of a slice from a DataFrame.\n",
      "Try using .loc[row_indexer,col_indexer] = value instead\n",
      "\n",
      "See the caveats in the documentation: https://pandas.pydata.org/pandas-docs/stable/user_guide/indexing.html#returning-a-view-versus-a-copy\n",
      "  dfOk.loc[:, (nom)]=dfOk.loc[:, (nom)].astype('category')\n"
     ]
    }
   ],
   "source": [
    "# Changement des types des variables\n",
    "col = ['service', 'sexe', 'profession', 'AmelioSante', 'AmelioMorale', 'recommander']\n",
    "for nom in col: \n",
    "    dfOk.loc[:, (nom)]=dfOk.loc[:, (nom)].astype('category')"
   ]
  },
  {
   "cell_type": "code",
   "execution_count": null,
   "id": "b344e834",
   "metadata": {},
   "outputs": [],
   "source": [
    "dfOk[]"
   ]
  },
  {
   "cell_type": "code",
   "execution_count": 263,
   "id": "f5abfccd",
   "metadata": {},
   "outputs": [
    {
     "data": {
      "text/plain": [
       "CategoricalDtype(categories=[0.0, 1.0], ordered=False)"
      ]
     },
     "execution_count": 263,
     "metadata": {},
     "output_type": "execute_result"
    }
   ],
   "source": [
    "# dfOk.describe(include='category')\n",
    "dfOk['sexe'].dtype"
   ]
  },
  {
   "cell_type": "code",
   "execution_count": 253,
   "id": "34432e84",
   "metadata": {
    "collapsed": true
   },
   "outputs": [
    {
     "name": "stdout",
     "output_type": "stream",
     "text": [
      "0.0\n",
      "1.0\n",
      "0.0\n",
      "1.0\n"
     ]
    }
   ],
   "source": [
    "liste = [\"Homme\", \"Femme\"]\n",
    "\n",
    "for genre in liste:\n",
    "    for num in dfOk['sexe'].unique():\n",
    "        print(num)\n",
    "#         dfOk['sexe'] = dfOk['sexe'].replace({num: genre})\n",
    "\n",
    "# Afficher le résultat final\n",
    "# print(dfOk['sexe'])"
   ]
  },
  {
   "cell_type": "code",
   "execution_count": 245,
   "id": "50e25aa3",
   "metadata": {},
   "outputs": [
    {
     "data": {
      "text/plain": [
       "['Femme']\n",
       "Categories (1, object): ['Femme']"
      ]
     },
     "execution_count": 245,
     "metadata": {},
     "output_type": "execute_result"
    }
   ],
   "source": [
    "dfOk['sexe'].unique()"
   ]
  },
  {
   "cell_type": "code",
   "execution_count": 244,
   "id": "91fb929f",
   "metadata": {
    "collapsed": true
   },
   "outputs": [
    {
     "data": {
      "text/plain": [
       "count       522\n",
       "unique        1\n",
       "top       Femme\n",
       "freq        522\n",
       "Name: sexe, dtype: object"
      ]
     },
     "execution_count": 244,
     "metadata": {},
     "output_type": "execute_result"
    }
   ],
   "source": [
    "dfOk['sexe'].describe()"
   ]
  },
  {
   "cell_type": "code",
   "execution_count": 236,
   "id": "54d44ef0",
   "metadata": {},
   "outputs": [
    {
     "data": {
      "text/plain": [
       "0"
      ]
     },
     "execution_count": 236,
     "metadata": {},
     "output_type": "execute_result"
    }
   ],
   "source": [
    "len(dfOk[dfOk.duplicated()])"
   ]
  },
  {
   "cell_type": "raw",
   "id": "5298e00e",
   "metadata": {},
   "source": [
    "Le resultat ci-dessus montre qu'il n'y a plus de doublons dans notre dataset\n",
    "Il n'y a également plus de NaN dans notre DataSet\n",
    "Nous pouvons Alors passer à l analyse a proprement dite."
   ]
  },
  {
   "cell_type": "markdown",
   "id": "d38281fb",
   "metadata": {},
   "source": [
    "## Traitement des valeurs aberrantes"
   ]
  },
  {
   "cell_type": "code",
   "execution_count": 237,
   "id": "2d405eb6",
   "metadata": {
    "collapsed": true
   },
   "outputs": [
    {
     "data": {
      "image/png": "[encoded data removed]",
      "text/plain": [
       "<Figure size 1080x504 with 1 Axes>"
      ]
     },
     "metadata": {
      "needs_background": "light"
     },
     "output_type": "display_data"
    }
   ],
   "source": [
    "plt.figure(figsize=(15, 7))\n",
    "plt.boxplot(dfOk)\n",
    "plt.title('VISUALISATION DES VALEURS ABERRANTES')\n",
    "plt.xticks()\n",
    "plt.show() "
   ]
  },
  {
   "cell_type": "code",
   "execution_count": 238,
   "id": "66746867",
   "metadata": {
    "collapsed": true
   },
   "outputs": [
    {
     "data": {
      "image/png": "[encoded data removed]",
      "text/plain": [
       "<Figure size 720x504 with 1 Axes>"
      ]
     },
     "metadata": {
      "needs_background": "light"
     },
     "output_type": "display_data"
    }
   ],
   "source": [
    "plt.figure(figsize=(10, 7))\n",
    "plt.boxplot(dfOk['ScoreRelation'])\n",
    "plt.title('VISUALISATION APPROFONDIE DE ScoreRelation AVANT WINZORISATION')\n",
    "plt.show() "
   ]
  },
  {
   "cell_type": "code",
   "execution_count": 239,
   "id": "430417dc",
   "metadata": {},
   "outputs": [],
   "source": [
    "from scipy.stats.mstats import winsorize # Pour Winzorizer"
   ]
  },
  {
   "cell_type": "code",
   "execution_count": 240,
   "id": "dd7581cd",
   "metadata": {
    "collapsed": true
   },
   "outputs": [
    {
     "data": {
      "text/plain": [
       "0      36.0\n",
       "1      33.0\n",
       "2      40.0\n",
       "3      32.0\n",
       "4      37.2\n",
       "       ... \n",
       "529    35.4\n",
       "530    35.3\n",
       "531    32.0\n",
       "532    30.0\n",
       "533    36.0\n",
       "Name: ScoreRelation, Length: 522, dtype: float64"
      ]
     },
     "execution_count": 240,
     "metadata": {},
     "output_type": "execute_result"
    }
   ],
   "source": [
    "dfOk.loc[:,('ScoreRelation')]"
   ]
  },
  {
   "cell_type": "code",
   "execution_count": 241,
   "id": "6964ad65",
   "metadata": {
    "collapsed": true
   },
   "outputs": [
    {
     "name": "stderr",
     "output_type": "stream",
     "text": [
      "C:\\Users\\THINKPAD\\AppData\\Local\\Temp\\ipykernel_13120\\1174329566.py:1: SettingWithCopyWarning: \n",
      "A value is trying to be set on a copy of a slice from a DataFrame.\n",
      "Try using .loc[row_indexer,col_indexer] = value instead\n",
      "\n",
      "See the caveats in the documentation: https://pandas.pydata.org/pandas-docs/stable/user_guide/indexing.html#returning-a-view-versus-a-copy\n",
      "  dfOk.loc[:,('ScoreRelation')] = winsorize(dfOk.loc[:,('ScoreRelation')], (0.05,0.05))\n"
     ]
    }
   ],
   "source": [
    "dfOk.loc[:,('ScoreRelation')] = winsorize(dfOk.loc[:,('ScoreRelation')], (0.05,0.05))"
   ]
  },
  {
   "cell_type": "code",
   "execution_count": 242,
   "id": "2f2844af",
   "metadata": {
    "collapsed": true
   },
   "outputs": [
    {
     "data": {
      "image/png": "[encoded data removed]",
      "text/plain": [
       "<Figure size 720x504 with 1 Axes>"
      ]
     },
     "metadata": {
      "needs_background": "light"
     },
     "output_type": "display_data"
    }
   ],
   "source": [
    "plt.figure(figsize=(10, 7))\n",
    "plt.boxplot(dfOk['ScoreRelation'])\n",
    "plt.title('VISUALISATION DE ScoreRelation APRES WINZORISATION')\n",
    "plt.show()"
   ]
  },
  {
   "cell_type": "markdown",
   "id": "e30d7145",
   "metadata": {},
   "source": [
    "# II- Statistique Inferentielle"
   ]
  },
  {
   "cell_type": "markdown",
   "id": "8b1a4da8",
   "metadata": {},
   "source": [
    "## 1- Tests de comparaison de deux proportions"
   ]
  },
  {
   "cell_type": "markdown",
   "id": "da6f87c8",
   "metadata": {},
   "source": [
    "### a- *La proportion de sujets recommandant le service dans lequel ils sont passés est-il le même quel que soit le genre ?*\n"
   ]
  },
  {
   "cell_type": "raw",
   "id": "a8d2d288",
   "metadata": {},
   "source": [
    "En d'autres termes, est-ce que la proportion d'homme qui recommande un service est significativement differente de la proportion des femmes qui recommande?"
   ]
  },
  {
   "cell_type": "markdown",
   "id": "b17cee34",
   "metadata": {},
   "source": [
    "#### Selection et recodage des variables d'intérêt "
   ]
  },
  {
   "cell_type": "code",
   "execution_count": 330,
   "id": "bc0e6207",
   "metadata": {},
   "outputs": [],
   "source": [
    "# Modalité genre\n",
    "sexe = dfOk['sexe']\n",
    "\n",
    "# Modalité recommander\n",
    "recommander = dfOk['recommander']"
   ]
  },
  {
   "cell_type": "code",
   "execution_count": 331,
   "id": "41f71a08",
   "metadata": {
    "collapsed": true
   },
   "outputs": [
    {
     "name": "stdout",
     "output_type": "stream",
     "text": [
      "0    homme\n",
      "1    femme\n",
      "2    femme\n",
      "3    homme\n",
      "4    femme\n",
      "Name: sexe, dtype: category\n",
      "Categories (2, object): ['homme', 'femme']\n"
     ]
    }
   ],
   "source": [
    "# Recoder les modalités\n",
    "# sexe = sexe.astype('category')\n",
    "sexe = sexe.replace({0:'homme', 1:'femme'})\n",
    "print(sexe.head())"
   ]
  },
  {
   "cell_type": "code",
   "execution_count": 338,
   "id": "5a04b4b2",
   "metadata": {
    "collapsed": true
   },
   "outputs": [
    {
     "name": "stdout",
     "output_type": "stream",
     "text": [
      "0    Oui, probablement\n",
      "1        Oui, sûrement\n",
      "2        Oui, sûrement\n",
      "3        Oui, sûrement\n",
      "4    Oui, probablement\n",
      "Name: recommander, dtype: category\n",
      "Categories (3, object): ['Non', 'Oui, probablement', 'Oui, sûrement']\n"
     ]
    }
   ],
   "source": [
    "# Recoder les modalités\n",
    "recommander = recommander.replace({0:'Non', 1:'Oui, probablement', 2:'Oui, sûrement'})\n",
    "print(recommander.head())"
   ]
  },
  {
   "cell_type": "markdown",
   "id": "f9159c01",
   "metadata": {},
   "source": [
    "#### Effectifs et tableau de contingence "
   ]
  },
  {
   "cell_type": "code",
   "execution_count": 337,
   "id": "126f83ff",
   "metadata": {
    "collapsed": true
   },
   "outputs": [
    {
     "name": "stdout",
     "output_type": "stream",
     "text": [
      "       nombre\n",
      "sexe         \n",
      "homme     262\n",
      "femme     260\n"
     ]
    }
   ],
   "source": [
    "# Afficher les effectifs par modalité \n",
    "Effsexe = sexe.value_counts().reset_index().rename(columns={'index':'sexe', 'sexe':'nombre' }).set_index('sexe')\n",
    "print(Effsexe)"
   ]
  },
  {
   "cell_type": "code",
   "execution_count": 341,
   "id": "c3fa7aaa",
   "metadata": {
    "collapsed": true
   },
   "outputs": [
    {
     "name": "stdout",
     "output_type": "stream",
     "text": [
      "                   nombre\n",
      "recommandation           \n",
      "Oui, sûrement         273\n",
      "Oui, probablement     233\n",
      "Non                    16\n"
     ]
    }
   ],
   "source": [
    "# Afficher les effectifs par modalité \n",
    "Effrecom = recommander.value_counts().reset_index().rename(columns={'index':'recommandation', 'recommander':'nombre' }).set_index('recommandation')\n",
    "print(Effrecom)"
   ]
  },
  {
   "cell_type": "code",
   "execution_count": 347,
   "id": "baeecffb",
   "metadata": {},
   "outputs": [
    {
     "name": "stdout",
     "output_type": "stream",
     "text": [
      "sexe               homme  femme\n",
      "recommander                    \n",
      "Non                   10      6\n",
      "Oui, probablement    112    121\n",
      "Oui, sûrement        140    133\n"
     ]
    }
   ],
   "source": [
    "# Tableau de contingence\n",
    "tableau = pd.crosstab(recommander, sexe)\n",
    "print(tableau)"
   ]
  },
  {
   "cell_type": "code",
   "execution_count": 379,
   "id": "c02fd8ec",
   "metadata": {},
   "outputs": [],
   "source": [
    "# Tableau des effectifs marginaux\n",
    "margeCol = tableau.sum(axis=0)\n"
   ]
  },
  {
   "cell_type": "markdown",
   "id": "1308d36f",
   "metadata": {},
   "source": [
    "#### Les hypothèses"
   ]
  },
  {
   "cell_type": "raw",
   "id": "fcc2ce29",
   "metadata": {},
   "source": [
    "Les hypothèses sont:\n",
    "H0: Les recommandations sont significativement liées au genre.\n",
    "H1: Les recommandations ne sont pas significativement liées au genre."
   ]
  },
  {
   "cell_type": "markdown",
   "id": "4fa6e83a",
   "metadata": {},
   "source": [
    "#### Les Conditions "
   ]
  },
  {
   "cell_type": "markdown",
   "id": "a4f964c0",
   "metadata": {},
   "source": [
    "##### a- L'Independance des deux groupes"
   ]
  },
  {
   "cell_type": "code",
   "execution_count": 353,
   "id": "cf2121ab",
   "metadata": {
    "collapsed": true
   },
   "outputs": [
    {
     "ename": "TypeError",
     "evalue": "ufunc 'isfinite' not supported for the input types, and the inputs could not be safely coerced to any supported types according to the casting rule ''safe''",
     "output_type": "error",
     "traceback": [
      "\u001b[1;31m---------------------------------------------------------------------------\u001b[0m",
      "\u001b[1;31mTypeError\u001b[0m                                 Traceback (most recent call last)",
      "Input \u001b[1;32mIn [353]\u001b[0m, in \u001b[0;36m<cell line: 3>\u001b[1;34m()\u001b[0m\n\u001b[0;32m      1\u001b[0m \u001b[38;5;66;03m# Visualisation de l'indépendance  QQplot\u001b[39;00m\n\u001b[1;32m----> 3\u001b[0m \u001b[43msm\u001b[49m\u001b[38;5;241;43m.\u001b[39;49m\u001b[43mqqplot\u001b[49m\u001b[43m(\u001b[49m\u001b[43mrecommander\u001b[49m\u001b[43m,\u001b[49m\u001b[43m \u001b[49m\u001b[43mline\u001b[49m\u001b[38;5;241;43m=\u001b[39;49m\u001b[38;5;124;43m'\u001b[39;49m\u001b[38;5;124;43m45\u001b[39;49m\u001b[38;5;124;43m'\u001b[39;49m\u001b[43m,\u001b[49m\u001b[43m \u001b[49m\u001b[43mfit\u001b[49m\u001b[38;5;241;43m=\u001b[39;49m\u001b[38;5;28;43;01mTrue\u001b[39;49;00m\u001b[43m)\u001b[49m\n\u001b[0;32m      4\u001b[0m plt\u001b[38;5;241m.\u001b[39mtitle(\u001b[38;5;124m'\u001b[39m\u001b[38;5;124mQQ Plot\u001b[39m\u001b[38;5;124m'\u001b[39m)\n\u001b[0;32m      5\u001b[0m plt\u001b[38;5;241m.\u001b[39mshow()\n",
      "File \u001b[1;32m~\\Anaconda3\\lib\\site-packages\\statsmodels\\graphics\\gofplots.py:688\u001b[0m, in \u001b[0;36mqqplot\u001b[1;34m(data, dist, distargs, a, loc, scale, fit, line, ax, **plotkwargs)\u001b[0m\n\u001b[0;32m    581\u001b[0m \u001b[38;5;28;01mdef\u001b[39;00m \u001b[38;5;21mqqplot\u001b[39m(\n\u001b[0;32m    582\u001b[0m     data,\n\u001b[0;32m    583\u001b[0m     dist\u001b[38;5;241m=\u001b[39mstats\u001b[38;5;241m.\u001b[39mnorm,\n\u001b[1;32m   (...)\u001b[0m\n\u001b[0;32m    591\u001b[0m     \u001b[38;5;241m*\u001b[39m\u001b[38;5;241m*\u001b[39mplotkwargs,\n\u001b[0;32m    592\u001b[0m ):\n\u001b[0;32m    593\u001b[0m     \u001b[38;5;124;03m\"\"\"\u001b[39;00m\n\u001b[0;32m    594\u001b[0m \u001b[38;5;124;03m    Q-Q plot of the quantiles of x versus the quantiles/ppf of a distribution.\u001b[39;00m\n\u001b[0;32m    595\u001b[0m \n\u001b[1;32m   (...)\u001b[0m\n\u001b[0;32m    686\u001b[0m \u001b[38;5;124;03m    .. plot:: plots/graphics_gofplots_qqplot.py\u001b[39;00m\n\u001b[0;32m    687\u001b[0m \u001b[38;5;124;03m    \"\"\"\u001b[39;00m\n\u001b[1;32m--> 688\u001b[0m     probplot \u001b[38;5;241m=\u001b[39m \u001b[43mProbPlot\u001b[49m\u001b[43m(\u001b[49m\n\u001b[0;32m    689\u001b[0m \u001b[43m        \u001b[49m\u001b[43mdata\u001b[49m\u001b[43m,\u001b[49m\u001b[43m \u001b[49m\u001b[43mdist\u001b[49m\u001b[38;5;241;43m=\u001b[39;49m\u001b[43mdist\u001b[49m\u001b[43m,\u001b[49m\u001b[43m \u001b[49m\u001b[43mdistargs\u001b[49m\u001b[38;5;241;43m=\u001b[39;49m\u001b[43mdistargs\u001b[49m\u001b[43m,\u001b[49m\u001b[43m \u001b[49m\u001b[43mfit\u001b[49m\u001b[38;5;241;43m=\u001b[39;49m\u001b[43mfit\u001b[49m\u001b[43m,\u001b[49m\u001b[43m \u001b[49m\u001b[43ma\u001b[49m\u001b[38;5;241;43m=\u001b[39;49m\u001b[43ma\u001b[49m\u001b[43m,\u001b[49m\u001b[43m \u001b[49m\u001b[43mloc\u001b[49m\u001b[38;5;241;43m=\u001b[39;49m\u001b[43mloc\u001b[49m\u001b[43m,\u001b[49m\u001b[43m \u001b[49m\u001b[43mscale\u001b[49m\u001b[38;5;241;43m=\u001b[39;49m\u001b[43mscale\u001b[49m\n\u001b[0;32m    690\u001b[0m \u001b[43m    \u001b[49m\u001b[43m)\u001b[49m\n\u001b[0;32m    691\u001b[0m     fig \u001b[38;5;241m=\u001b[39m probplot\u001b[38;5;241m.\u001b[39mqqplot(ax\u001b[38;5;241m=\u001b[39max, line\u001b[38;5;241m=\u001b[39mline, \u001b[38;5;241m*\u001b[39m\u001b[38;5;241m*\u001b[39mplotkwargs)\n\u001b[0;32m    692\u001b[0m     \u001b[38;5;28;01mreturn\u001b[39;00m fig\n",
      "File \u001b[1;32m~\\Anaconda3\\lib\\site-packages\\statsmodels\\graphics\\gofplots.py:223\u001b[0m, in \u001b[0;36mProbPlot.__init__\u001b[1;34m(self, data, dist, fit, distargs, a, loc, scale)\u001b[0m\n\u001b[0;32m    221\u001b[0m     \u001b[38;5;28mself\u001b[39m\u001b[38;5;241m.\u001b[39mfit_params \u001b[38;5;241m=\u001b[39m np\u001b[38;5;241m.\u001b[39mr_[fit_params, \u001b[38;5;28mself\u001b[39m\u001b[38;5;241m.\u001b[39mloc, \u001b[38;5;28mself\u001b[39m\u001b[38;5;241m.\u001b[39mscale]\n\u001b[0;32m    222\u001b[0m \u001b[38;5;28;01melif\u001b[39;00m fit:\n\u001b[1;32m--> 223\u001b[0m     \u001b[38;5;28mself\u001b[39m\u001b[38;5;241m.\u001b[39mfit_params \u001b[38;5;241m=\u001b[39m \u001b[43mdist\u001b[49m\u001b[38;5;241;43m.\u001b[39;49m\u001b[43mfit\u001b[49m\u001b[43m(\u001b[49m\u001b[43mdata\u001b[49m\u001b[43m)\u001b[49m\n\u001b[0;32m    224\u001b[0m     \u001b[38;5;28mself\u001b[39m\u001b[38;5;241m.\u001b[39mloc \u001b[38;5;241m=\u001b[39m \u001b[38;5;28mself\u001b[39m\u001b[38;5;241m.\u001b[39mfit_params[\u001b[38;5;241m-\u001b[39m\u001b[38;5;241m2\u001b[39m]\n\u001b[0;32m    225\u001b[0m     \u001b[38;5;28mself\u001b[39m\u001b[38;5;241m.\u001b[39mscale \u001b[38;5;241m=\u001b[39m \u001b[38;5;28mself\u001b[39m\u001b[38;5;241m.\u001b[39mfit_params[\u001b[38;5;241m-\u001b[39m\u001b[38;5;241m1\u001b[39m]\n",
      "File \u001b[1;32m~\\Anaconda3\\lib\\site-packages\\scipy\\stats\\_continuous_distns.py:62\u001b[0m, in \u001b[0;36m_call_super_mom.<locals>.wrapper\u001b[1;34m(self, *args, **kwds)\u001b[0m\n\u001b[0;32m     60\u001b[0m     \u001b[38;5;28;01mreturn\u001b[39;00m \u001b[38;5;28msuper\u001b[39m(\u001b[38;5;28mtype\u001b[39m(\u001b[38;5;28mself\u001b[39m), \u001b[38;5;28mself\u001b[39m)\u001b[38;5;241m.\u001b[39mfit(\u001b[38;5;241m*\u001b[39margs, \u001b[38;5;241m*\u001b[39m\u001b[38;5;241m*\u001b[39mkwds)\n\u001b[0;32m     61\u001b[0m \u001b[38;5;28;01melse\u001b[39;00m:\n\u001b[1;32m---> 62\u001b[0m     \u001b[38;5;28;01mreturn\u001b[39;00m fun(\u001b[38;5;28mself\u001b[39m, \u001b[38;5;241m*\u001b[39margs, \u001b[38;5;241m*\u001b[39m\u001b[38;5;241m*\u001b[39mkwds)\n",
      "File \u001b[1;32m~\\Anaconda3\\lib\\site-packages\\scipy\\stats\\_continuous_distns.py:362\u001b[0m, in \u001b[0;36mnorm_gen.fit\u001b[1;34m(self, data, **kwds)\u001b[0m\n\u001b[0;32m    357\u001b[0m     \u001b[38;5;28;01mraise\u001b[39;00m \u001b[38;5;167;01mValueError\u001b[39;00m(\u001b[38;5;124m\"\u001b[39m\u001b[38;5;124mAll parameters fixed. There is nothing to \u001b[39m\u001b[38;5;124m\"\u001b[39m\n\u001b[0;32m    358\u001b[0m                      \u001b[38;5;124m\"\u001b[39m\u001b[38;5;124moptimize.\u001b[39m\u001b[38;5;124m\"\u001b[39m)\n\u001b[0;32m    360\u001b[0m data \u001b[38;5;241m=\u001b[39m np\u001b[38;5;241m.\u001b[39masarray(data)\n\u001b[1;32m--> 362\u001b[0m \u001b[38;5;28;01mif\u001b[39;00m \u001b[38;5;129;01mnot\u001b[39;00m \u001b[43mnp\u001b[49m\u001b[38;5;241;43m.\u001b[39;49m\u001b[43misfinite\u001b[49m\u001b[43m(\u001b[49m\u001b[43mdata\u001b[49m\u001b[43m)\u001b[49m\u001b[38;5;241m.\u001b[39mall():\n\u001b[0;32m    363\u001b[0m     \u001b[38;5;28;01mraise\u001b[39;00m \u001b[38;5;167;01mRuntimeError\u001b[39;00m(\u001b[38;5;124m\"\u001b[39m\u001b[38;5;124mThe data contains non-finite values.\u001b[39m\u001b[38;5;124m\"\u001b[39m)\n\u001b[0;32m    365\u001b[0m \u001b[38;5;28;01mif\u001b[39;00m floc \u001b[38;5;129;01mis\u001b[39;00m \u001b[38;5;28;01mNone\u001b[39;00m:\n",
      "\u001b[1;31mTypeError\u001b[0m: ufunc 'isfinite' not supported for the input types, and the inputs could not be safely coerced to any supported types according to the casting rule ''safe''"
     ]
    }
   ],
   "source": [
    "# Visualisation de l'indépendance  QQplot\n",
    "\n",
    "sm.qqplot(recommander, line='45', fit=True)\n",
    "plt.title('QQ Plot')\n",
    "plt.show()"
   ]
  },
  {
   "cell_type": "code",
   "execution_count": 355,
   "id": "b8e67773",
   "metadata": {
    "collapsed": true
   },
   "outputs": [
    {
     "data": {
      "image/png": "[encoded data removed]",
      "text/plain": [
       "<Figure size 432x288 with 2 Axes>"
      ]
     },
     "metadata": {
      "needs_background": "light"
     },
     "output_type": "display_data"
    }
   ],
   "source": [
    "sns.heatmap(tableau, annot=True, cmap=\"YlGnBu\")\n",
    "plt.show()"
   ]
  },
  {
   "cell_type": "code",
   "execution_count": 368,
   "id": "c776bb13",
   "metadata": {
    "collapsed": true
   },
   "outputs": [
    {
     "name": "stdout",
     "output_type": "stream",
     "text": [
      "Statistique de test du Chi-2 : 0.0\n",
      "Valeur p : 1.0\n",
      "Degrés de liberté : 0\n",
      "Tableau de fréquences attendues :\n",
      "[[262.]\n",
      " [260.]]\n",
      "On ne rejette pas l'hypothèse nulle. Les variables sont indépendantes.\n"
     ]
    }
   ],
   "source": [
    "# Test d'Independance pour la variable sexe\n",
    "\n",
    "# Effectuer le test du Chi-2\n",
    "chi2_stat, p_value, dof, expected = chi2_contingency(Effsexe)\n",
    "\n",
    "# Imprimer les résultats\n",
    "print(f\"Statistique de test du Chi-2 : {chi2_stat}\")\n",
    "print(f\"Valeur p : {p_value}\")\n",
    "print(f\"Degrés de liberté : {dof}\")\n",
    "print(\"Tableau de fréquences attendues :\")\n",
    "print(expected)\n",
    "\n",
    "# Interpréter les résultats\n",
    "alpha = 0.05\n",
    "if p_value < alpha:\n",
    "    print(\"On rejette l'hypothèse nulle. Les variables ne sont pas indépendantes.\")\n",
    "else:\n",
    "    print(\"On ne rejette pas l'hypothèse nulle. Les variables sont indépendantes.\")"
   ]
  },
  {
   "cell_type": "code",
   "execution_count": 369,
   "id": "b4cf2fd3",
   "metadata": {
    "collapsed": true
   },
   "outputs": [
    {
     "name": "stdout",
     "output_type": "stream",
     "text": [
      "Statistique de test du Chi-2 : 0.0\n",
      "Valeur p : 1.0\n",
      "Degrés de liberté : 0\n",
      "Tableau de fréquences attendues :\n",
      "[[273.]\n",
      " [233.]\n",
      " [ 16.]]\n",
      "On ne rejette pas l'hypothèse nulle. Les variables sont indépendantes.\n"
     ]
    }
   ],
   "source": [
    "# Test d'Independance pour la variable recommander\n",
    "\n",
    "# Effectuer le test du Chi-2\n",
    "chi2_stat, p_value, dof, expected = chi2_contingency(Effrecom)\n",
    "\n",
    "# Imprimer les résultats\n",
    "print(f\"Statistique de test du Chi-2 : {chi2_stat}\")\n",
    "print(f\"Valeur p : {p_value}\")\n",
    "print(f\"Degrés de liberté : {dof}\")\n",
    "print(\"Tableau de fréquences attendues :\")\n",
    "print(expected)\n",
    "\n",
    "# Interpréter les résultats\n",
    "alpha = 0.05\n",
    "if p_value < alpha:\n",
    "    print(\"On rejette l'hypothèse nulle. Les variables ne sont pas indépendantes.\")\n",
    "else:\n",
    "    print(\"On ne rejette pas l'hypothèse nulle. Les variables sont indépendantes.\")"
   ]
  },
  {
   "cell_type": "code",
   "execution_count": 349,
   "id": "a1707bdd",
   "metadata": {
    "collapsed": true
   },
   "outputs": [
    {
     "name": "stdout",
     "output_type": "stream",
     "text": [
      "Statistique de test du Chi-2 : 1.5194861349100022\n",
      "Valeur p : 0.4677866011728772\n",
      "Degrés de liberté : 2\n",
      "Tableau de fréquences attendues :\n",
      "[[  8.03065134   7.96934866]\n",
      " [116.94636015 116.05363985]\n",
      " [137.02298851 135.97701149]]\n",
      "On ne rejette pas l'hypothèse nulle. Les variables sont indépendantes.\n"
     ]
    }
   ],
   "source": [
    "# Test d'Independance pour les variables catégorielles\n",
    "\n",
    "# Effectuer le test du Chi-2\n",
    "chi2_stat, p_value, dof, expected = chi2_contingency(tableau)\n",
    "\n",
    "# Imprimer les résultats\n",
    "print(f\"Statistique de test du Chi-2 : {chi2_stat}\")\n",
    "print(f\"Valeur p : {p_value}\")\n",
    "print(f\"Degrés de liberté : {dof}\")\n",
    "print(\"Tableau de fréquences attendues :\")\n",
    "print(expected)\n",
    "\n",
    "# Interpréter les résultats\n",
    "alpha = 0.05\n",
    "if p_value < alpha:\n",
    "    print(\"On rejette l'hypothèse nulle. Les variables ne sont pas indépendantes.\")\n",
    "else:\n",
    "    print(\"On ne rejette pas l'hypothèse nulle. Les variables sont indépendantes.\")"
   ]
  },
  {
   "cell_type": "raw",
   "id": "1f0eff68",
   "metadata": {},
   "source": [
    "Conclusion: les differentes variables sont Indépendantes"
   ]
  },
  {
   "cell_type": "markdown",
   "id": "fa1e9c36",
   "metadata": {},
   "source": [
    "##### b- La normalité des deux groupes"
   ]
  },
  {
   "cell_type": "raw",
   "id": "ed06e3f5",
   "metadata": {},
   "source": [
    "La taille de la population est superieur à 30, donc nous pouvons supposer que les variables suivent la Loi normale"
   ]
  },
  {
   "cell_type": "markdown",
   "id": "b8e53333",
   "metadata": {},
   "source": [
    "##### c- Z-test"
   ]
  },
  {
   "cell_type": "code",
   "execution_count": 380,
   "id": "2a098078",
   "metadata": {
    "collapsed": true
   },
   "outputs": [
    {
     "ename": "NotImplementedError",
     "evalue": "more than two samples are not implemented yet",
     "output_type": "error",
     "traceback": [
      "\u001b[1;31m---------------------------------------------------------------------------\u001b[0m",
      "\u001b[1;31mNotImplementedError\u001b[0m                       Traceback (most recent call last)",
      "Input \u001b[1;32mIn [380]\u001b[0m, in \u001b[0;36m<cell line: 2>\u001b[1;34m()\u001b[0m\n\u001b[0;32m      1\u001b[0m \u001b[38;5;66;03m# Effectuer le test Z pour les proportions\u001b[39;00m\n\u001b[1;32m----> 2\u001b[0m stat, p_value \u001b[38;5;241m=\u001b[39m \u001b[43mproportions_ztest\u001b[49m\u001b[43m(\u001b[49m\u001b[43mtableau\u001b[49m\u001b[43m[\u001b[49m\u001b[38;5;124;43m'\u001b[39;49m\u001b[38;5;124;43mfemme\u001b[39;49m\u001b[38;5;124;43m'\u001b[39;49m\u001b[43m]\u001b[49m\u001b[43m,\u001b[49m\u001b[43m \u001b[49m\u001b[43mtableau\u001b[49m\u001b[43m[\u001b[49m\u001b[38;5;124;43m'\u001b[39;49m\u001b[38;5;124;43mhomme\u001b[39;49m\u001b[38;5;124;43m'\u001b[39;49m\u001b[43m]\u001b[49m\u001b[43m)\u001b[49m\n\u001b[0;32m      4\u001b[0m \u001b[38;5;66;03m# Imprimer les résultats\u001b[39;00m\n\u001b[0;32m      5\u001b[0m \u001b[38;5;28mprint\u001b[39m(\u001b[38;5;124mf\u001b[39m\u001b[38;5;124m\"\u001b[39m\u001b[38;5;124mStatistique de test Z : \u001b[39m\u001b[38;5;132;01m{\u001b[39;00mstat\u001b[38;5;132;01m}\u001b[39;00m\u001b[38;5;124m\"\u001b[39m)\n",
      "File \u001b[1;32m~\\Anaconda3\\lib\\site-packages\\statsmodels\\stats\\proportion.py:851\u001b[0m, in \u001b[0;36mproportions_ztest\u001b[1;34m(count, nobs, value, alternative, prop_var)\u001b[0m\n\u001b[0;32m    849\u001b[0m \u001b[38;5;28;01melse\u001b[39;00m:\n\u001b[0;32m    850\u001b[0m     msg \u001b[38;5;241m=\u001b[39m \u001b[38;5;124m'\u001b[39m\u001b[38;5;124mmore than two samples are not implemented yet\u001b[39m\u001b[38;5;124m'\u001b[39m\n\u001b[1;32m--> 851\u001b[0m     \u001b[38;5;28;01mraise\u001b[39;00m \u001b[38;5;167;01mNotImplementedError\u001b[39;00m(msg)\n\u001b[0;32m    853\u001b[0m p_pooled \u001b[38;5;241m=\u001b[39m np\u001b[38;5;241m.\u001b[39msum(count) \u001b[38;5;241m*\u001b[39m \u001b[38;5;241m1.\u001b[39m \u001b[38;5;241m/\u001b[39m np\u001b[38;5;241m.\u001b[39msum(nobs)\n\u001b[0;32m    855\u001b[0m nobs_fact \u001b[38;5;241m=\u001b[39m np\u001b[38;5;241m.\u001b[39msum(\u001b[38;5;241m1.\u001b[39m \u001b[38;5;241m/\u001b[39m nobs)\n",
      "\u001b[1;31mNotImplementedError\u001b[0m: more than two samples are not implemented yet"
     ]
    }
   ],
   "source": [
    "# Effectuer le test Z pour les proportions\n",
    "stat, p_value = proportions_ztest(tableau['femme'], tableau['homme'])\n",
    "\n",
    "# Imprimer les résultats\n",
    "print(f\"Statistique de test Z : {stat}\")\n",
    "print(f\"Valeur p : {p_value}\")\n",
    "\n",
    "# Interpréter les résultats\n",
    "alpha = 0.05\n",
    "if p_value < alpha:\n",
    "    print(\"On rejette l'hypothèse nulle. Il y a une différence significative entre les proportions.\")\n",
    "else:\n",
    "    print(\"On ne rejette pas l'hypothèse nulle. Il n'y a pas de différence significative entre les proportions.\")"
   ]
  },
  {
   "cell_type": "raw",
   "id": "4fca899e",
   "metadata": {},
   "source": [
    "Ce test ne fonctionne pas au-delà de deux proportions à tester"
   ]
  },
  {
   "cell_type": "markdown",
   "id": "4cfadfae",
   "metadata": {},
   "source": [
    "##### c- Aternative test de Khy-deux"
   ]
  },
  {
   "cell_type": "code",
   "execution_count": 381,
   "id": "6825165f",
   "metadata": {
    "collapsed": true
   },
   "outputs": [
    {
     "name": "stdout",
     "output_type": "stream",
     "text": [
      "Statistique de test du Chi-2 : 1.5194861349100022\n",
      "Valeur p : 0.4677866011728772\n",
      "Degrés de liberté : 2\n",
      "Tableau de fréquences attendues :\n",
      "[[  8.03065134   7.96934866]\n",
      " [116.94636015 116.05363985]\n",
      " [137.02298851 135.97701149]]\n",
      "On ne rejette pas l'hypothèse nulle. Il n'y a pas de différence significative entre les proportions.\n"
     ]
    }
   ],
   "source": [
    "# Effectuer le test du Chi-2\n",
    "chi2_stat, p_value, dof, expected = chi2_contingency(tableau)\n",
    "\n",
    "# Imprimer les résultats\n",
    "print(f\"Statistique de test du Chi-2 : {chi2_stat}\")\n",
    "print(f\"Valeur p : {p_value}\")\n",
    "print(f\"Degrés de liberté : {dof}\")\n",
    "print(\"Tableau de fréquences attendues :\")\n",
    "print(expected)\n",
    "\n",
    "# Interpréter les résultats\n",
    "alpha = 0.05\n",
    "if p_value < alpha:\n",
    "    print(\"On rejette l'hypothèse nulle. Il y a une différence significative entre les proportions.\")\n",
    "else:\n",
    "    print(\"On ne rejette pas l'hypothèse nulle. Il n'y a pas de différence significative entre les proportions.\")"
   ]
  },
  {
   "cell_type": "raw",
   "id": "b25634b4",
   "metadata": {},
   "source": [
    "En conclusion, la proportion de sujets recommandant le service dans lequel il est passée est le même quelque soit le genre.\n",
    "C'est à dire que la proportion des femmes qui recommandent les service n'est pas significativement different de la celle des hommes. "
   ]
  },
  {
   "cell_type": "markdown",
   "id": "b01477d0",
   "metadata": {},
   "source": [
    "### b- *La moyenne du score de relation est-il significativement différent chez les hommes et chez les femmes ?*\n"
   ]
  },
  {
   "cell_type": "raw",
   "id": "cf8b1a9e",
   "metadata": {},
   "source": [
    "En d'autres termes, le score relatif à la qualité de la relation avec le personnel soignant lors du sejour est-il significativement different d'un sexe à l'autre ?\n",
    "\n",
    "La question \"La moyenne du score de relation est-elle significativement différente chez les hommes et chez les femmes ?\" suggère que vous souhaitez déterminer s'il existe une différence significative dans les scores de relation entre deux groupes, à savoir les hommes et les femmes. Cela peut être interprété comme une comparaison des moyennes des scores de relation entre ces deux groupes."
   ]
  },
  {
   "cell_type": "markdown",
   "id": "3ff382e3",
   "metadata": {},
   "source": [
    "#### Selection et recodage des variables d'intérêt "
   ]
  },
  {
   "cell_type": "code",
   "execution_count": 396,
   "id": "d2175712",
   "metadata": {},
   "outputs": [],
   "source": [
    "# Modalité genre\n",
    "sexe = dfOk['sexe']\n",
    "\n",
    "# Modalité Scorerelation\n",
    "relation = dfOk['ScoreRelation']"
   ]
  },
  {
   "cell_type": "code",
   "execution_count": 401,
   "id": "4ed69cb8",
   "metadata": {},
   "outputs": [
    {
     "name": "stdout",
     "output_type": "stream",
     "text": [
      "0    homme\n",
      "1    femme\n",
      "2    femme\n",
      "3    homme\n",
      "4    femme\n",
      "Name: sexe, dtype: category\n",
      "Categories (2, object): ['homme', 'femme']\n"
     ]
    }
   ],
   "source": [
    "# Recoder les modalités\n",
    "# sexe = sexe.astype('category')\n",
    "df.sexe = sexe.replace({0:'homme', 1:'femme'})\n",
    "print(sexe.head())"
   ]
  },
  {
   "cell_type": "code",
   "execution_count": null,
   "id": "d738294d",
   "metadata": {},
   "outputs": [],
   "source": []
  },
  {
   "cell_type": "markdown",
   "id": "80fc1aa9",
   "metadata": {},
   "source": [
    "#### 1- Comparaison graphique des sous-populations  "
   ]
  },
  {
   "cell_type": "code",
   "execution_count": 402,
   "id": "2708f56c",
   "metadata": {},
   "outputs": [
    {
     "data": {
      "image/png": "[encoded data removed]",
      "text/plain": [
       "<Figure size 720x720 with 1 Axes>"
      ]
     },
     "metadata": {
      "needs_background": "light"
     },
     "output_type": "display_data"
    }
   ],
   "source": [
    "plt.figure(figsize=(10, 10))\n",
    "sns.boxplot(data=dfOk, x='sexe', y='ScoreRelation')\n",
    "plt.xticks([0, 1], ['Homme', 'Femme'])\n",
    "plt.show()"
   ]
  },
  {
   "cell_type": "raw",
   "id": "8ce4db6f",
   "metadata": {},
   "source": [
    "La visualisation graphique nous montre qu'il n'y a pas grande difference entre les boîtes à moustache "
   ]
  },
  {
   "cell_type": "markdown",
   "id": "f72d8e8e",
   "metadata": {},
   "source": [
    "#### 2- Stat de base des sous-populations  "
   ]
  },
  {
   "cell_type": "code",
   "execution_count": 403,
   "id": "bbd184f0",
   "metadata": {},
   "outputs": [
    {
     "name": "stdout",
     "output_type": "stream",
     "text": [
      "Les moyennes de Score relation par Sexe sont: \n",
      " sexe\n",
      "0    35.488168\n",
      "1    35.162692\n",
      "Name: ScoreRelation, dtype: float64\n",
      "Les ecarts-types de Score relation par Sexe sont: \n",
      " sexe\n",
      "0    3.879879\n",
      "1    3.866043\n",
      "Name: ScoreRelation, dtype: float64\n"
     ]
    }
   ],
   "source": [
    "means = dfOk.groupby('sexe')['ScoreRelation'].mean()\n",
    "print('Les moyennes de Score relation par Sexe sont: \\n', means)\n",
    "\n",
    "ecartp = dfOk.groupby('sexe')['ScoreRelation'].std()\n",
    "print('Les ecarts-types de Score relation par Sexe sont: \\n', ecartp)"
   ]
  },
  {
   "cell_type": "markdown",
   "id": "0a029cb6",
   "metadata": {},
   "source": [
    "#### 3- Test de normalite dans chaque sous-populations  "
   ]
  },
  {
   "cell_type": "code",
   "execution_count": 404,
   "id": "c13ce53b",
   "metadata": {},
   "outputs": [
    {
     "name": "stdout",
     "output_type": "stream",
     "text": [
      "Shapiro test for 0: Statistic=0.85677, P-value=0.00000\n",
      "Shapiro test for 1: Statistic=0.91571, P-value=0.00000\n"
     ]
    }
   ],
   "source": [
    "for sexe in dfOk['sexe'].unique():\n",
    "    stat, p = shapiro(dfOk['ScoreRelation'][dfOk['sexe'] == sexe]) \n",
    "    print(f\"Shapiro test pour la modalité {sexe}: Statistic={stat:.5f}, P-value={p:.5f}\") "
   ]
  },
  {
   "cell_type": "markdown",
   "id": "d269120c",
   "metadata": {},
   "source": [
    "#### 4- Tester l’égalité des variances "
   ]
  },
  {
   "cell_type": "code",
   "execution_count": 413,
   "id": "b60f04b1",
   "metadata": {},
   "outputs": [
    {
     "name": "stdout",
     "output_type": "stream",
     "text": [
      "\n",
      "Bartlett test: Statistic=0.00331, P-value=0.95411\n",
      "On ne rejette pas H0, l'egalite des variances est vérifiée.\n"
     ]
    }
   ],
   "source": [
    "groups = [dfOk['ScoreRelation'][dfOk['sexe'] == sexe] for sexe in dfOk['sexe'].unique()] \n",
    "stat, p = bartlett(*groups) \n",
    "\n",
    "print(f\"\\nBartlett test: Statistic={stat:.5f}, P-value={p:.5f}\")\n",
    "\n",
    "alpha = 0.05\n",
    "if p > alpha:\n",
    "    print(\"On ne rejette pas H0, l'egalite des variances est vérifiée.\")\n",
    "else :\n",
    "    print(\"On rejette H0, la variance est differente d une sous-pop à l'autre.\")"
   ]
  },
  {
   "cell_type": "markdown",
   "id": "fc3c5e6e",
   "metadata": {},
   "source": [
    "#### 5- Tester la significativité du facteur: tester l’égalité des moyennes"
   ]
  },
  {
   "cell_type": "code",
   "execution_count": 417,
   "id": "69006d03",
   "metadata": {
    "collapsed": true
   },
   "outputs": [
    {
     "ename": "ValueError",
     "evalue": "unrecognized data structures: <class 'str'> / <class 'NoneType'>",
     "output_type": "error",
     "traceback": [
      "\u001b[1;31m---------------------------------------------------------------------------\u001b[0m",
      "\u001b[1;31mValueError\u001b[0m                                Traceback (most recent call last)",
      "Input \u001b[1;32mIn [417]\u001b[0m, in \u001b[0;36m<cell line: 1>\u001b[1;34m()\u001b[0m\n\u001b[1;32m----> 1\u001b[0m model \u001b[38;5;241m=\u001b[39m \u001b[43msm\u001b[49m\u001b[38;5;241;43m.\u001b[39;49m\u001b[43mOLS\u001b[49m\u001b[43m(\u001b[49m\u001b[38;5;124;43m'\u001b[39;49m\u001b[38;5;124;43mScoreRelation ~ sexe\u001b[39;49m\u001b[38;5;124;43m'\u001b[39;49m\u001b[43m,\u001b[49m\u001b[43m \u001b[49m\u001b[43mdata\u001b[49m\u001b[38;5;241;43m=\u001b[39;49m\u001b[43mdfOk\u001b[49m\u001b[43m)\u001b[49m\u001b[38;5;241m.\u001b[39mfit() \n\u001b[0;32m      2\u001b[0m anova_table \u001b[38;5;241m=\u001b[39m sm\u001b[38;5;241m.\u001b[39mstats\u001b[38;5;241m.\u001b[39manova_lm(model, typ\u001b[38;5;241m=\u001b[39m\u001b[38;5;241m2\u001b[39m) \n\u001b[0;32m      3\u001b[0m \u001b[38;5;28mprint\u001b[39m(\u001b[38;5;124m\"\u001b[39m\u001b[38;5;130;01m\\n\u001b[39;00m\u001b[38;5;124mANOVA results:\u001b[39m\u001b[38;5;124m\"\u001b[39m) \n",
      "File \u001b[1;32m~\\Anaconda3\\lib\\site-packages\\statsmodels\\regression\\linear_model.py:890\u001b[0m, in \u001b[0;36mOLS.__init__\u001b[1;34m(self, endog, exog, missing, hasconst, **kwargs)\u001b[0m\n\u001b[0;32m    887\u001b[0m     msg \u001b[38;5;241m=\u001b[39m (\u001b[38;5;124m\"\u001b[39m\u001b[38;5;124mWeights are not supported in OLS and will be ignored\u001b[39m\u001b[38;5;124m\"\u001b[39m\n\u001b[0;32m    888\u001b[0m            \u001b[38;5;124m\"\u001b[39m\u001b[38;5;124mAn exception will be raised in the next version.\u001b[39m\u001b[38;5;124m\"\u001b[39m)\n\u001b[0;32m    889\u001b[0m     warnings\u001b[38;5;241m.\u001b[39mwarn(msg, ValueWarning)\n\u001b[1;32m--> 890\u001b[0m \u001b[38;5;28msuper\u001b[39m(OLS, \u001b[38;5;28mself\u001b[39m)\u001b[38;5;241m.\u001b[39m\u001b[38;5;21m__init__\u001b[39m(endog, exog, missing\u001b[38;5;241m=\u001b[39mmissing,\n\u001b[0;32m    891\u001b[0m                           hasconst\u001b[38;5;241m=\u001b[39mhasconst, \u001b[38;5;241m*\u001b[39m\u001b[38;5;241m*\u001b[39mkwargs)\n\u001b[0;32m    892\u001b[0m \u001b[38;5;28;01mif\u001b[39;00m \u001b[38;5;124m\"\u001b[39m\u001b[38;5;124mweights\u001b[39m\u001b[38;5;124m\"\u001b[39m \u001b[38;5;129;01min\u001b[39;00m \u001b[38;5;28mself\u001b[39m\u001b[38;5;241m.\u001b[39m_init_keys:\n\u001b[0;32m    893\u001b[0m     \u001b[38;5;28mself\u001b[39m\u001b[38;5;241m.\u001b[39m_init_keys\u001b[38;5;241m.\u001b[39mremove(\u001b[38;5;124m\"\u001b[39m\u001b[38;5;124mweights\u001b[39m\u001b[38;5;124m\"\u001b[39m)\n",
      "File \u001b[1;32m~\\Anaconda3\\lib\\site-packages\\statsmodels\\regression\\linear_model.py:717\u001b[0m, in \u001b[0;36mWLS.__init__\u001b[1;34m(self, endog, exog, weights, missing, hasconst, **kwargs)\u001b[0m\n\u001b[0;32m    715\u001b[0m \u001b[38;5;28;01melse\u001b[39;00m:\n\u001b[0;32m    716\u001b[0m     weights \u001b[38;5;241m=\u001b[39m weights\u001b[38;5;241m.\u001b[39msqueeze()\n\u001b[1;32m--> 717\u001b[0m \u001b[38;5;28msuper\u001b[39m(WLS, \u001b[38;5;28mself\u001b[39m)\u001b[38;5;241m.\u001b[39m\u001b[38;5;21m__init__\u001b[39m(endog, exog, missing\u001b[38;5;241m=\u001b[39mmissing,\n\u001b[0;32m    718\u001b[0m                           weights\u001b[38;5;241m=\u001b[39mweights, hasconst\u001b[38;5;241m=\u001b[39mhasconst, \u001b[38;5;241m*\u001b[39m\u001b[38;5;241m*\u001b[39mkwargs)\n\u001b[0;32m    719\u001b[0m nobs \u001b[38;5;241m=\u001b[39m \u001b[38;5;28mself\u001b[39m\u001b[38;5;241m.\u001b[39mexog\u001b[38;5;241m.\u001b[39mshape[\u001b[38;5;241m0\u001b[39m]\n\u001b[0;32m    720\u001b[0m weights \u001b[38;5;241m=\u001b[39m \u001b[38;5;28mself\u001b[39m\u001b[38;5;241m.\u001b[39mweights\n",
      "File \u001b[1;32m~\\Anaconda3\\lib\\site-packages\\statsmodels\\regression\\linear_model.py:191\u001b[0m, in \u001b[0;36mRegressionModel.__init__\u001b[1;34m(self, endog, exog, **kwargs)\u001b[0m\n\u001b[0;32m    190\u001b[0m \u001b[38;5;28;01mdef\u001b[39;00m \u001b[38;5;21m__init__\u001b[39m(\u001b[38;5;28mself\u001b[39m, endog, exog, \u001b[38;5;241m*\u001b[39m\u001b[38;5;241m*\u001b[39mkwargs):\n\u001b[1;32m--> 191\u001b[0m     \u001b[38;5;28msuper\u001b[39m(RegressionModel, \u001b[38;5;28mself\u001b[39m)\u001b[38;5;241m.\u001b[39m\u001b[38;5;21m__init__\u001b[39m(endog, exog, \u001b[38;5;241m*\u001b[39m\u001b[38;5;241m*\u001b[39mkwargs)\n\u001b[0;32m    192\u001b[0m     \u001b[38;5;28mself\u001b[39m\u001b[38;5;241m.\u001b[39m_data_attr\u001b[38;5;241m.\u001b[39mextend([\u001b[38;5;124m'\u001b[39m\u001b[38;5;124mpinv_wexog\u001b[39m\u001b[38;5;124m'\u001b[39m, \u001b[38;5;124m'\u001b[39m\u001b[38;5;124mwendog\u001b[39m\u001b[38;5;124m'\u001b[39m, \u001b[38;5;124m'\u001b[39m\u001b[38;5;124mwexog\u001b[39m\u001b[38;5;124m'\u001b[39m, \u001b[38;5;124m'\u001b[39m\u001b[38;5;124mweights\u001b[39m\u001b[38;5;124m'\u001b[39m])\n",
      "File \u001b[1;32m~\\Anaconda3\\lib\\site-packages\\statsmodels\\base\\model.py:267\u001b[0m, in \u001b[0;36mLikelihoodModel.__init__\u001b[1;34m(self, endog, exog, **kwargs)\u001b[0m\n\u001b[0;32m    266\u001b[0m \u001b[38;5;28;01mdef\u001b[39;00m \u001b[38;5;21m__init__\u001b[39m(\u001b[38;5;28mself\u001b[39m, endog, exog\u001b[38;5;241m=\u001b[39m\u001b[38;5;28;01mNone\u001b[39;00m, \u001b[38;5;241m*\u001b[39m\u001b[38;5;241m*\u001b[39mkwargs):\n\u001b[1;32m--> 267\u001b[0m     \u001b[38;5;28msuper\u001b[39m()\u001b[38;5;241m.\u001b[39m\u001b[38;5;21m__init__\u001b[39m(endog, exog, \u001b[38;5;241m*\u001b[39m\u001b[38;5;241m*\u001b[39mkwargs)\n\u001b[0;32m    268\u001b[0m     \u001b[38;5;28mself\u001b[39m\u001b[38;5;241m.\u001b[39minitialize()\n",
      "File \u001b[1;32m~\\Anaconda3\\lib\\site-packages\\statsmodels\\base\\model.py:92\u001b[0m, in \u001b[0;36mModel.__init__\u001b[1;34m(self, endog, exog, **kwargs)\u001b[0m\n\u001b[0;32m     90\u001b[0m missing \u001b[38;5;241m=\u001b[39m kwargs\u001b[38;5;241m.\u001b[39mpop(\u001b[38;5;124m'\u001b[39m\u001b[38;5;124mmissing\u001b[39m\u001b[38;5;124m'\u001b[39m, \u001b[38;5;124m'\u001b[39m\u001b[38;5;124mnone\u001b[39m\u001b[38;5;124m'\u001b[39m)\n\u001b[0;32m     91\u001b[0m hasconst \u001b[38;5;241m=\u001b[39m kwargs\u001b[38;5;241m.\u001b[39mpop(\u001b[38;5;124m'\u001b[39m\u001b[38;5;124mhasconst\u001b[39m\u001b[38;5;124m'\u001b[39m, \u001b[38;5;28;01mNone\u001b[39;00m)\n\u001b[1;32m---> 92\u001b[0m \u001b[38;5;28mself\u001b[39m\u001b[38;5;241m.\u001b[39mdata \u001b[38;5;241m=\u001b[39m \u001b[38;5;28mself\u001b[39m\u001b[38;5;241m.\u001b[39m_handle_data(endog, exog, missing, hasconst,\n\u001b[0;32m     93\u001b[0m                               \u001b[38;5;241m*\u001b[39m\u001b[38;5;241m*\u001b[39mkwargs)\n\u001b[0;32m     94\u001b[0m \u001b[38;5;28mself\u001b[39m\u001b[38;5;241m.\u001b[39mk_constant \u001b[38;5;241m=\u001b[39m \u001b[38;5;28mself\u001b[39m\u001b[38;5;241m.\u001b[39mdata\u001b[38;5;241m.\u001b[39mk_constant\n\u001b[0;32m     95\u001b[0m \u001b[38;5;28mself\u001b[39m\u001b[38;5;241m.\u001b[39mexog \u001b[38;5;241m=\u001b[39m \u001b[38;5;28mself\u001b[39m\u001b[38;5;241m.\u001b[39mdata\u001b[38;5;241m.\u001b[39mexog\n",
      "File \u001b[1;32m~\\Anaconda3\\lib\\site-packages\\statsmodels\\base\\model.py:132\u001b[0m, in \u001b[0;36mModel._handle_data\u001b[1;34m(self, endog, exog, missing, hasconst, **kwargs)\u001b[0m\n\u001b[0;32m    131\u001b[0m \u001b[38;5;28;01mdef\u001b[39;00m \u001b[38;5;21m_handle_data\u001b[39m(\u001b[38;5;28mself\u001b[39m, endog, exog, missing, hasconst, \u001b[38;5;241m*\u001b[39m\u001b[38;5;241m*\u001b[39mkwargs):\n\u001b[1;32m--> 132\u001b[0m     data \u001b[38;5;241m=\u001b[39m handle_data(endog, exog, missing, hasconst, \u001b[38;5;241m*\u001b[39m\u001b[38;5;241m*\u001b[39mkwargs)\n\u001b[0;32m    133\u001b[0m     \u001b[38;5;66;03m# kwargs arrays could have changed, easier to just attach here\u001b[39;00m\n\u001b[0;32m    134\u001b[0m     \u001b[38;5;28;01mfor\u001b[39;00m key \u001b[38;5;129;01min\u001b[39;00m kwargs:\n",
      "File \u001b[1;32m~\\Anaconda3\\lib\\site-packages\\statsmodels\\base\\data.py:672\u001b[0m, in \u001b[0;36mhandle_data\u001b[1;34m(endog, exog, missing, hasconst, **kwargs)\u001b[0m\n\u001b[0;32m    669\u001b[0m \u001b[38;5;28;01mif\u001b[39;00m \u001b[38;5;28misinstance\u001b[39m(exog, (\u001b[38;5;28mlist\u001b[39m, \u001b[38;5;28mtuple\u001b[39m)):\n\u001b[0;32m    670\u001b[0m     exog \u001b[38;5;241m=\u001b[39m np\u001b[38;5;241m.\u001b[39masarray(exog)\n\u001b[1;32m--> 672\u001b[0m klass \u001b[38;5;241m=\u001b[39m \u001b[43mhandle_data_class_factory\u001b[49m\u001b[43m(\u001b[49m\u001b[43mendog\u001b[49m\u001b[43m,\u001b[49m\u001b[43m \u001b[49m\u001b[43mexog\u001b[49m\u001b[43m)\u001b[49m\n\u001b[0;32m    673\u001b[0m \u001b[38;5;28;01mreturn\u001b[39;00m klass(endog, exog\u001b[38;5;241m=\u001b[39mexog, missing\u001b[38;5;241m=\u001b[39mmissing, hasconst\u001b[38;5;241m=\u001b[39mhasconst,\n\u001b[0;32m    674\u001b[0m              \u001b[38;5;241m*\u001b[39m\u001b[38;5;241m*\u001b[39mkwargs)\n",
      "File \u001b[1;32m~\\Anaconda3\\lib\\site-packages\\statsmodels\\base\\data.py:660\u001b[0m, in \u001b[0;36mhandle_data_class_factory\u001b[1;34m(endog, exog)\u001b[0m\n\u001b[0;32m    658\u001b[0m     klass \u001b[38;5;241m=\u001b[39m ModelData\n\u001b[0;32m    659\u001b[0m \u001b[38;5;28;01melse\u001b[39;00m:\n\u001b[1;32m--> 660\u001b[0m     \u001b[38;5;28;01mraise\u001b[39;00m \u001b[38;5;167;01mValueError\u001b[39;00m(\u001b[38;5;124m'\u001b[39m\u001b[38;5;124munrecognized data structures: \u001b[39m\u001b[38;5;132;01m%s\u001b[39;00m\u001b[38;5;124m / \u001b[39m\u001b[38;5;132;01m%s\u001b[39;00m\u001b[38;5;124m'\u001b[39m \u001b[38;5;241m%\u001b[39m\n\u001b[0;32m    661\u001b[0m                      (\u001b[38;5;28mtype\u001b[39m(endog), \u001b[38;5;28mtype\u001b[39m(exog)))\n\u001b[0;32m    662\u001b[0m \u001b[38;5;28;01mreturn\u001b[39;00m klass\n",
      "\u001b[1;31mValueError\u001b[0m: unrecognized data structures: <class 'str'> / <class 'NoneType'>"
     ]
    }
   ],
   "source": [
    "model = sm.OLS('ScoreRelation ~ sexe', data=dfOk).fit() \n",
    "anova_table = sm.stats.anova_lm(model, typ=2) \n",
    "print(\"\\nANOVA results:\") \n",
    "\n",
    "print(anova_table)  "
   ]
  },
  {
   "cell_type": "code",
   "execution_count": 419,
   "id": "52cdcd00",
   "metadata": {},
   "outputs": [
    {
     "ename": "KeyError",
     "evalue": "\"None of [Index(['sexe'], dtype='object')] are in the [columns]\"",
     "output_type": "error",
     "traceback": [
      "\u001b[1;31m---------------------------------------------------------------------------\u001b[0m",
      "\u001b[1;31mKeyError\u001b[0m                                  Traceback (most recent call last)",
      "Input \u001b[1;32mIn [419]\u001b[0m, in \u001b[0;36m<cell line: 4>\u001b[1;34m()\u001b[0m\n\u001b[0;32m      1\u001b[0m \u001b[38;5;28;01mimport\u001b[39;00m \u001b[38;5;21;01mstatsmodels\u001b[39;00m\u001b[38;5;21;01m.\u001b[39;00m\u001b[38;5;21;01mapi\u001b[39;00m \u001b[38;5;28;01mas\u001b[39;00m \u001b[38;5;21;01msm\u001b[39;00m\n\u001b[0;32m      3\u001b[0m \u001b[38;5;66;03m# Assurez-vous que 'sexe' est une variable catégorielle avec des variables indicatrices (dummy variables)\u001b[39;00m\n\u001b[1;32m----> 4\u001b[0m dfOk \u001b[38;5;241m=\u001b[39m \u001b[43mpd\u001b[49m\u001b[38;5;241;43m.\u001b[39;49m\u001b[43mget_dummies\u001b[49m\u001b[43m(\u001b[49m\u001b[43mdfOk\u001b[49m\u001b[43m,\u001b[49m\u001b[43m \u001b[49m\u001b[43mcolumns\u001b[49m\u001b[38;5;241;43m=\u001b[39;49m\u001b[43m[\u001b[49m\u001b[38;5;124;43m'\u001b[39;49m\u001b[38;5;124;43msexe\u001b[39;49m\u001b[38;5;124;43m'\u001b[39;49m\u001b[43m]\u001b[49m\u001b[43m,\u001b[49m\u001b[43m \u001b[49m\u001b[43mdrop_first\u001b[49m\u001b[38;5;241;43m=\u001b[39;49m\u001b[38;5;28;43;01mTrue\u001b[39;49;00m\u001b[43m)\u001b[49m\n\u001b[0;32m      6\u001b[0m \u001b[38;5;66;03m# Modèle OLS avec 'sexe' comme variable indépendante\u001b[39;00m\n\u001b[0;32m      7\u001b[0m model \u001b[38;5;241m=\u001b[39m sm\u001b[38;5;241m.\u001b[39mOLS\u001b[38;5;241m.\u001b[39mfrom_formula(\u001b[38;5;124m'\u001b[39m\u001b[38;5;124mScoreRelation ~ sexe\u001b[39m\u001b[38;5;124m'\u001b[39m, data\u001b[38;5;241m=\u001b[39mdfOk)\u001b[38;5;241m.\u001b[39mfit()\n",
      "File \u001b[1;32m~\\Anaconda3\\lib\\site-packages\\pandas\\core\\reshape\\reshape.py:931\u001b[0m, in \u001b[0;36mget_dummies\u001b[1;34m(data, prefix, prefix_sep, dummy_na, columns, sparse, drop_first, dtype)\u001b[0m\n\u001b[0;32m    929\u001b[0m     \u001b[38;5;28;01mraise\u001b[39;00m \u001b[38;5;167;01mTypeError\u001b[39;00m(\u001b[38;5;124m\"\u001b[39m\u001b[38;5;124mInput must be a list-like for parameter `columns`\u001b[39m\u001b[38;5;124m\"\u001b[39m)\n\u001b[0;32m    930\u001b[0m \u001b[38;5;28;01melse\u001b[39;00m:\n\u001b[1;32m--> 931\u001b[0m     data_to_encode \u001b[38;5;241m=\u001b[39m \u001b[43mdata\u001b[49m\u001b[43m[\u001b[49m\u001b[43mcolumns\u001b[49m\u001b[43m]\u001b[49m\n\u001b[0;32m    933\u001b[0m \u001b[38;5;66;03m# validate prefixes and separator to avoid silently dropping cols\u001b[39;00m\n\u001b[0;32m    934\u001b[0m \u001b[38;5;28;01mdef\u001b[39;00m \u001b[38;5;21mcheck_len\u001b[39m(item, name):\n",
      "File \u001b[1;32m~\\Anaconda3\\lib\\site-packages\\pandas\\core\\frame.py:3511\u001b[0m, in \u001b[0;36mDataFrame.__getitem__\u001b[1;34m(self, key)\u001b[0m\n\u001b[0;32m   3509\u001b[0m     \u001b[38;5;28;01mif\u001b[39;00m is_iterator(key):\n\u001b[0;32m   3510\u001b[0m         key \u001b[38;5;241m=\u001b[39m \u001b[38;5;28mlist\u001b[39m(key)\n\u001b[1;32m-> 3511\u001b[0m     indexer \u001b[38;5;241m=\u001b[39m \u001b[38;5;28;43mself\u001b[39;49m\u001b[38;5;241;43m.\u001b[39;49m\u001b[43mcolumns\u001b[49m\u001b[38;5;241;43m.\u001b[39;49m\u001b[43m_get_indexer_strict\u001b[49m\u001b[43m(\u001b[49m\u001b[43mkey\u001b[49m\u001b[43m,\u001b[49m\u001b[43m \u001b[49m\u001b[38;5;124;43m\"\u001b[39;49m\u001b[38;5;124;43mcolumns\u001b[39;49m\u001b[38;5;124;43m\"\u001b[39;49m\u001b[43m)\u001b[49m[\u001b[38;5;241m1\u001b[39m]\n\u001b[0;32m   3513\u001b[0m \u001b[38;5;66;03m# take() does not accept boolean indexers\u001b[39;00m\n\u001b[0;32m   3514\u001b[0m \u001b[38;5;28;01mif\u001b[39;00m \u001b[38;5;28mgetattr\u001b[39m(indexer, \u001b[38;5;124m\"\u001b[39m\u001b[38;5;124mdtype\u001b[39m\u001b[38;5;124m\"\u001b[39m, \u001b[38;5;28;01mNone\u001b[39;00m) \u001b[38;5;241m==\u001b[39m \u001b[38;5;28mbool\u001b[39m:\n",
      "File \u001b[1;32m~\\Anaconda3\\lib\\site-packages\\pandas\\core\\indexes\\base.py:5782\u001b[0m, in \u001b[0;36mIndex._get_indexer_strict\u001b[1;34m(self, key, axis_name)\u001b[0m\n\u001b[0;32m   5779\u001b[0m \u001b[38;5;28;01melse\u001b[39;00m:\n\u001b[0;32m   5780\u001b[0m     keyarr, indexer, new_indexer \u001b[38;5;241m=\u001b[39m \u001b[38;5;28mself\u001b[39m\u001b[38;5;241m.\u001b[39m_reindex_non_unique(keyarr)\n\u001b[1;32m-> 5782\u001b[0m \u001b[38;5;28;43mself\u001b[39;49m\u001b[38;5;241;43m.\u001b[39;49m\u001b[43m_raise_if_missing\u001b[49m\u001b[43m(\u001b[49m\u001b[43mkeyarr\u001b[49m\u001b[43m,\u001b[49m\u001b[43m \u001b[49m\u001b[43mindexer\u001b[49m\u001b[43m,\u001b[49m\u001b[43m \u001b[49m\u001b[43maxis_name\u001b[49m\u001b[43m)\u001b[49m\n\u001b[0;32m   5784\u001b[0m keyarr \u001b[38;5;241m=\u001b[39m \u001b[38;5;28mself\u001b[39m\u001b[38;5;241m.\u001b[39mtake(indexer)\n\u001b[0;32m   5785\u001b[0m \u001b[38;5;28;01mif\u001b[39;00m \u001b[38;5;28misinstance\u001b[39m(key, Index):\n\u001b[0;32m   5786\u001b[0m     \u001b[38;5;66;03m# GH 42790 - Preserve name from an Index\u001b[39;00m\n",
      "File \u001b[1;32m~\\Anaconda3\\lib\\site-packages\\pandas\\core\\indexes\\base.py:5842\u001b[0m, in \u001b[0;36mIndex._raise_if_missing\u001b[1;34m(self, key, indexer, axis_name)\u001b[0m\n\u001b[0;32m   5840\u001b[0m     \u001b[38;5;28;01mif\u001b[39;00m use_interval_msg:\n\u001b[0;32m   5841\u001b[0m         key \u001b[38;5;241m=\u001b[39m \u001b[38;5;28mlist\u001b[39m(key)\n\u001b[1;32m-> 5842\u001b[0m     \u001b[38;5;28;01mraise\u001b[39;00m \u001b[38;5;167;01mKeyError\u001b[39;00m(\u001b[38;5;124mf\u001b[39m\u001b[38;5;124m\"\u001b[39m\u001b[38;5;124mNone of [\u001b[39m\u001b[38;5;132;01m{\u001b[39;00mkey\u001b[38;5;132;01m}\u001b[39;00m\u001b[38;5;124m] are in the [\u001b[39m\u001b[38;5;132;01m{\u001b[39;00maxis_name\u001b[38;5;132;01m}\u001b[39;00m\u001b[38;5;124m]\u001b[39m\u001b[38;5;124m\"\u001b[39m)\n\u001b[0;32m   5844\u001b[0m not_found \u001b[38;5;241m=\u001b[39m \u001b[38;5;28mlist\u001b[39m(ensure_index(key)[missing_mask\u001b[38;5;241m.\u001b[39mnonzero()[\u001b[38;5;241m0\u001b[39m]]\u001b[38;5;241m.\u001b[39munique())\n\u001b[0;32m   5845\u001b[0m \u001b[38;5;28;01mraise\u001b[39;00m \u001b[38;5;167;01mKeyError\u001b[39;00m(\u001b[38;5;124mf\u001b[39m\u001b[38;5;124m\"\u001b[39m\u001b[38;5;132;01m{\u001b[39;00mnot_found\u001b[38;5;132;01m}\u001b[39;00m\u001b[38;5;124m not in index\u001b[39m\u001b[38;5;124m\"\u001b[39m)\n",
      "\u001b[1;31mKeyError\u001b[0m: \"None of [Index(['sexe'], dtype='object')] are in the [columns]\""
     ]
    }
   ],
   "source": [
    "import statsmodels.api as sm\n",
    "\n",
    "# Assurez-vous que 'sexe' est une variable catégorielle avec des variables indicatrices (dummy variables)\n",
    "dfOk = pd.get_dummies(dfOk, columns=['sexe'], drop_first=True)\n",
    "\n",
    "# Modèle OLS avec 'sexe' comme variable indépendante\n",
    "model = sm.OLS.from_formula('ScoreRelation ~ sexe', data=dfOk).fit()\n",
    "\n",
    "# Tableau ANOVA\n",
    "anova_table = sm.stats.anova_lm(model, typ=2)\n",
    "\n",
    "# Imprimer les résultats\n",
    "print(\"\\nANOVA results:\")\n",
    "print(anova_table)"
   ]
  },
  {
   "cell_type": "markdown",
   "id": "b75d7c86",
   "metadata": {},
   "source": [
    "### Variable age"
   ]
  },
  {
   "cell_type": "code",
   "execution_count": 269,
   "id": "bdff5375",
   "metadata": {
    "collapsed": true
   },
   "outputs": [
    {
     "data": {
      "text/plain": [
       "0    41.0\n",
       "1    29.0\n",
       "2    83.0\n",
       "3    66.0\n",
       "4    84.0\n",
       "Name: age, dtype: float64"
      ]
     },
     "execution_count": 269,
     "metadata": {},
     "output_type": "execute_result"
    }
   ],
   "source": [
    "age = dfOk.loc[:, 'age']\n"
   ]
  },
  {
   "cell_type": "code",
   "execution_count": 47,
   "id": "819fdacc",
   "metadata": {
    "collapsed": true
   },
   "outputs": [
    {
     "name": "stderr",
     "output_type": "stream",
     "text": [
      "C:\\Users\\THINKPAD\\Anaconda3\\lib\\site-packages\\seaborn\\distributions.py:2619: FutureWarning: `distplot` is a deprecated function and will be removed in a future version. Please adapt your code to use either `displot` (a figure-level function with similar flexibility) or `histplot` (an axes-level function for histograms).\n",
      "  warnings.warn(msg, FutureWarning)\n"
     ]
    },
    {
     "data": {
      "image/png": "[encoded data removed]",
      "text/plain": [
       "<Figure size 1080x432 with 2 Axes>"
      ]
     },
     "metadata": {
      "needs_background": "light"
     },
     "output_type": "display_data"
    }
   ],
   "source": [
    "# Histogramme\n",
    "plt.figure(figsize=(15,6))\n",
    "plt.subplot(121)\n",
    "sns.distplot(a=age, bins=10, color='red',\n",
    "             hist_kws={\"edgecolor\": 'white'})\n",
    "plt.xlabel('Ages des patients')\n",
    "plt.title(\"REPARTITION DES AGES DES PATIENTS\")\n",
    "\n",
    "# Boîte à moustaches \n",
    "plt.subplot(122)\n",
    "sns.boxplot(data=age, color='red')\n",
    "# plt.xlabel('Ages des patients')\n",
    "plt.title(\"BOITE À MOUSTACHE DES AGES DES PATIENTS\")\n",
    "plt.show()"
   ]
  },
  {
   "cell_type": "code",
   "execution_count": 48,
   "id": "e685640b",
   "metadata": {},
   "outputs": [
    {
     "data": {
      "text/plain": [
       "NormaltestResult(statistic=30.938546800468213, pvalue=1.9132861301853655e-07)"
      ]
     },
     "execution_count": 48,
     "metadata": {},
     "output_type": "execute_result"
    }
   ],
   "source": [
    "# Test de normalité\n",
    "stats.normaltest(age)"
   ]
  },
  {
   "cell_type": "code",
   "execution_count": 49,
   "id": "a3351b5c",
   "metadata": {
    "collapsed": true
   },
   "outputs": [
    {
     "data": {
      "text/plain": [
       "count    522.0\n",
       "mean      58.0\n",
       "std       18.0\n",
       "min       18.0\n",
       "25%       45.0\n",
       "50%       59.0\n",
       "75%       71.0\n",
       "max       97.0\n",
       "Name: age, dtype: float64"
      ]
     },
     "execution_count": 49,
     "metadata": {},
     "output_type": "execute_result"
    }
   ],
   "source": [
    "# Resumé stat de l'age\n",
    "round(age.describe(), 0)"
   ]
  },
  {
   "cell_type": "code",
   "execution_count": 50,
   "id": "b113faf5",
   "metadata": {
    "collapsed": true
   },
   "outputs": [
    {
     "data": {
      "text/plain": [
       "-0.16862279829393007"
      ]
     },
     "execution_count": 50,
     "metadata": {},
     "output_type": "execute_result"
    }
   ],
   "source": [
    "age.skew()"
   ]
  },
  {
   "cell_type": "code",
   "execution_count": 51,
   "id": "417e581b",
   "metadata": {
    "collapsed": true
   },
   "outputs": [
    {
     "data": {
      "text/plain": [
       "-0.7189577831487912"
      ]
     },
     "execution_count": 51,
     "metadata": {},
     "output_type": "execute_result"
    }
   ],
   "source": [
    "age.kurtosis()"
   ]
  },
  {
   "cell_type": "code",
   "execution_count": 52,
   "id": "31f8ea63",
   "metadata": {},
   "outputs": [],
   "source": [
    "TabEffAge = age.value_counts().reset_index().rename(columns={'index':'Age', 'age':'Nombre'})"
   ]
  },
  {
   "cell_type": "code",
   "execution_count": 53,
   "id": "c1d5f6b7",
   "metadata": {
    "collapsed": true
   },
   "outputs": [
    {
     "data": {
      "text/html": [
       "<div>\n",
       "<style scoped>\n",
       "    .dataframe tbody tr th:only-of-type {\n",
       "        vertical-align: middle;\n",
       "    }\n",
       "\n",
       "    .dataframe tbody tr th {\n",
       "        vertical-align: top;\n",
       "    }\n",
       "\n",
       "    .dataframe thead th {\n",
       "        text-align: right;\n",
       "    }\n",
       "</style>\n",
       "<table border=\"1\" class=\"dataframe\">\n",
       "  <thead>\n",
       "    <tr style=\"text-align: right;\">\n",
       "      <th></th>\n",
       "      <th>Age</th>\n",
       "      <th>Nombre</th>\n",
       "    </tr>\n",
       "  </thead>\n",
       "  <tbody>\n",
       "    <tr>\n",
       "      <th>62</th>\n",
       "      <td>18.0</td>\n",
       "      <td>3</td>\n",
       "    </tr>\n",
       "    <tr>\n",
       "      <th>72</th>\n",
       "      <td>19.0</td>\n",
       "      <td>2</td>\n",
       "    </tr>\n",
       "    <tr>\n",
       "      <th>69</th>\n",
       "      <td>20.0</td>\n",
       "      <td>2</td>\n",
       "    </tr>\n",
       "    <tr>\n",
       "      <th>57</th>\n",
       "      <td>21.0</td>\n",
       "      <td>3</td>\n",
       "    </tr>\n",
       "    <tr>\n",
       "      <th>65</th>\n",
       "      <td>22.0</td>\n",
       "      <td>3</td>\n",
       "    </tr>\n",
       "  </tbody>\n",
       "</table>\n",
       "</div>"
      ],
      "text/plain": [
       "     Age  Nombre\n",
       "62  18.0       3\n",
       "72  19.0       2\n",
       "69  20.0       2\n",
       "57  21.0       3\n",
       "65  22.0       3"
      ]
     },
     "execution_count": 53,
     "metadata": {},
     "output_type": "execute_result"
    }
   ],
   "source": [
    "TabEffAge.sort_values(by='Age').head()"
   ]
  },
  {
   "cell_type": "markdown",
   "id": "7bc1553c",
   "metadata": {},
   "source": [
    "### Variable ScoreRelation"
   ]
  },
  {
   "cell_type": "code",
   "execution_count": 54,
   "id": "7ac9ba02",
   "metadata": {},
   "outputs": [],
   "source": [
    "ScoreRelation = dfOk.loc[:, 'ScoreRelation']"
   ]
  },
  {
   "cell_type": "code",
   "execution_count": 55,
   "id": "897f1f80",
   "metadata": {
    "collapsed": true
   },
   "outputs": [
    {
     "name": "stderr",
     "output_type": "stream",
     "text": [
      "C:\\Users\\THINKPAD\\Anaconda3\\lib\\site-packages\\seaborn\\distributions.py:2619: FutureWarning: `distplot` is a deprecated function and will be removed in a future version. Please adapt your code to use either `displot` (a figure-level function with similar flexibility) or `histplot` (an axes-level function for histograms).\n",
      "  warnings.warn(msg, FutureWarning)\n"
     ]
    },
    {
     "data": {
      "image/png": "[encoded data removed]",
      "text/plain": [
       "<Figure size 1080x360 with 2 Axes>"
      ]
     },
     "metadata": {
      "needs_background": "light"
     },
     "output_type": "display_data"
    }
   ],
   "source": [
    "# Histogramme\n",
    "plt.figure(figsize=(15,5))\n",
    "plt.subplot(121)\n",
    "# sns.histplot(ScoreRelation)\n",
    "sns.distplot(a=ScoreRelation, bins=10, color='blue',\n",
    "             hist_kws={\"edgecolor\": 'white'})\n",
    "plt.xlabel('ScoreRelations des patients')\n",
    "plt.title(\"REPARTITION DES ScoreRelations DES PATIENTS\")\n",
    "\n",
    "# Boîte à moustaches \n",
    "plt.subplot(122)\n",
    "sns.boxplot(data=ScoreRelation)\n",
    "# plt.xlabel('Score des patients')\n",
    "plt.title(\"BOÎTE À MOUSTACHE\")\n",
    "plt.show()"
   ]
  },
  {
   "cell_type": "code",
   "execution_count": 56,
   "id": "0b10e7e8",
   "metadata": {
    "collapsed": true
   },
   "outputs": [
    {
     "name": "stdout",
     "output_type": "stream",
     "text": [
      "La p-value de _age_ est: 1.9132861301853655e-07\n",
      "La p-value de _ScoreRelation_ est: 2.6384468784958472e-08\n",
      "La p-value de _ScoreInfo_ est: 2.5309664767507705e-09\n",
      "On rejette H0, la distribution n'est pas normale.\n"
     ]
    }
   ],
   "source": [
    "#Fonction pour faire le test de Normalité \n",
    "\n",
    "res = [0, 0, 0]\n",
    "\n",
    "for col in dfOk.columns:\n",
    "    if dfOk[col].dtype == 'float64':\n",
    "        for i in range(3):\n",
    "            res[i] = stats.normaltest(dfOk[col]).pvalue\n",
    "        print(f\"La p-value de _{col}_ est: {res[0]}\")\n",
    "        \n",
    "if (res[0]>0.05)==True:\n",
    "    print(\"On accepte H0, la distribution est normale.\")\n",
    "else:\n",
    "    print(\"On rejette H0, la distribution n'est pas normale.\")"
   ]
  },
  {
   "cell_type": "code",
   "execution_count": 57,
   "id": "17c8a1cc",
   "metadata": {
    "collapsed": true
   },
   "outputs": [
    {
     "name": "stdout",
     "output_type": "stream",
     "text": [
      "La p-value du test de normalité pour la colonne age est : [1.9132861301853655e-07]\n",
      "On rejette H0 pour la colonne age, la distribution n'est pas normale.\n",
      "\n",
      "La p-value du test de normalité pour la colonne ScoreRelation est : [2.6384468784958472e-08]\n",
      "On rejette H0 pour la colonne ScoreRelation, la distribution n'est pas normale.\n",
      "\n",
      "La p-value du test de normalité pour la colonne ScoreInfo est : [2.5309664767507705e-09]\n",
      "On rejette H0 pour la colonne ScoreInfo, la distribution n'est pas normale.\n",
      "\n"
     ]
    }
   ],
   "source": [
    "res = []\n",
    "\n",
    "for col in dfOk.columns:\n",
    "    if dfOk[col].dtype == 'float64':\n",
    "        p_values = [stats.normaltest(dfOk[col]).pvalue]\n",
    "        res.append((col, p_values))\n",
    "\n",
    "for col, p_values in res:\n",
    "    print(f\"La p-value du test de normalité pour la colonne {col} est : {p_values}\")\n",
    "\n",
    "    if all(p_value > 0.05 for p_value in p_values):\n",
    "        print(f\"On accepte H0 pour la colonne {col}, la distribution est normale.\\n\")\n",
    "    else:\n",
    "        print(f\"On rejette H0 pour la colonne {col}, la distribution n'est pas normale.\\n\")\n"
   ]
  },
  {
   "cell_type": "code",
   "execution_count": 58,
   "id": "e1d06320",
   "metadata": {
    "collapsed": true
   },
   "outputs": [
    {
     "data": {
      "text/plain": [
       "count    522.0\n",
       "mean      36.0\n",
       "std        3.0\n",
       "min       28.0\n",
       "25%       34.0\n",
       "50%       36.0\n",
       "75%       38.0\n",
       "max       40.0\n",
       "Name: ScoreRelation, dtype: float64"
      ]
     },
     "execution_count": 58,
     "metadata": {},
     "output_type": "execute_result"
    }
   ],
   "source": [
    "# Resumé stat de l'age\n",
    "round(ScoreRelation.describe(), 0)"
   ]
  },
  {
   "cell_type": "code",
   "execution_count": 104,
   "id": "c41395ab",
   "metadata": {
    "collapsed": true
   },
   "outputs": [
    {
     "data": {
      "text/plain": [
       "-0.68"
      ]
     },
     "execution_count": 104,
     "metadata": {},
     "output_type": "execute_result"
    }
   ],
   "source": [
    "round(ScoreRelation.skew(), 2)"
   ]
  },
  {
   "cell_type": "code",
   "execution_count": 129,
   "id": "8161f9bd",
   "metadata": {},
   "outputs": [],
   "source": [
    "def stat_descriptive(tableau):\n",
    "    \n",
    "    resume_stat = print(\"Les statistiques descriptives sont: \\n\", round(tableau.describe(), 2), \"\\n\")\n",
    "    skewness = print(\"Le skewness est:\", round(tableau.skew(), 2), \"\\n\")\n",
    "    kurto = print(\"Le kurtosis est :\", round(tableau.kurtosis(), 2), \"\\n\")\n",
    "    \n",
    "    return(resume_stat, skewness, kurto);"
   ]
  },
  {
   "cell_type": "code",
   "execution_count": 130,
   "id": "7dfe260d",
   "metadata": {
    "collapsed": true
   },
   "outputs": [
    {
     "name": "stdout",
     "output_type": "stream",
     "text": [
      "Les statistiques descriptives sont: \n",
      " count    522.00\n",
      "mean      35.51\n",
      "std        3.33\n",
      "min       28.00\n",
      "25%       33.70\n",
      "50%       36.00\n",
      "75%       38.00\n",
      "max       40.00\n",
      "Name: ScoreRelation, dtype: float64 \n",
      "\n",
      "Le skewness est: -0.68 \n",
      "\n",
      "Le kurtosis est : -0.19 \n",
      "\n"
     ]
    },
    {
     "data": {
      "text/plain": [
       "(None, None, None)"
      ]
     },
     "execution_count": 130,
     "metadata": {},
     "output_type": "execute_result"
    }
   ],
   "source": [
    "stat_descriptive(ScoreRelation)"
   ]
  },
  {
   "cell_type": "code",
   "execution_count": null,
   "id": "632a7b55",
   "metadata": {},
   "outputs": [],
   "source": []
  }
 ],
 "metadata": {
  "kernelspec": {
   "display_name": "Python 3 (ipykernel)",
   "language": "python",
   "name": "python3"
  },
  "language_info": {
   "codemirror_mode": {
    "name": "ipython",
    "version": 3
   },
   "file_extension": ".py",
   "mimetype": "text/x-python",
   "name": "python",
   "nbconvert_exporter": "python",
   "pygments_lexer": "ipython3",
   "version": "3.9.12"
  }
 },
 "nbformat": 4,
 "nbformat_minor": 5
}
