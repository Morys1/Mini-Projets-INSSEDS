{
 "cells": [
  {
   "cell_type": "markdown",
   "id": "07a75ce9",
   "metadata": {},
   "source": [
    "# MINI-PROJET STAT INFERENTIELLE"
   ]
  },
  {
   "cell_type": "code",
   "execution_count": 1,
   "id": "02cec417",
   "metadata": {},
   "outputs": [],
   "source": [
    "import numpy as np\n",
    "import pandas as pd\n",
    "import matplotlib.pyplot as plt\n",
    "import seaborn as sns\n",
    "import scipy.stats as stats\n",
    "import missingno as msno # Visualiser les NaN\n",
    "from scipy.stats import chi2_contingency# Test de Khy-deux\n",
    "import statsmodels.api as sm\n",
    "from statsmodels.stats.proportion import proportions_ztest # z-test \n",
    "from scipy.stats import shapiro, ttest_ind, bartlett, wilcoxon\n"
   ]
  },
  {
   "cell_type": "markdown",
   "id": "4cbdcfb3",
   "metadata": {},
   "source": [
    "## Importation et lecture du Jeu de données "
   ]
  },
  {
   "cell_type": "code",
   "execution_count": 2,
   "id": "6805dcdc",
   "metadata": {},
   "outputs": [],
   "source": [
    "donnees = pd.read_csv(\"satisfaction_hopital.csv\", sep=';')"
   ]
  },
  {
   "cell_type": "code",
   "execution_count": 3,
   "id": "fa7e0289",
   "metadata": {},
   "outputs": [],
   "source": [
    "df = donnees.copy()"
   ]
  },
  {
   "cell_type": "code",
   "execution_count": 4,
   "id": "d5dfa74f",
   "metadata": {},
   "outputs": [
    {
     "data": {
      "text/html": [
       "<div>\n",
       "<style scoped>\n",
       "    .dataframe tbody tr th:only-of-type {\n",
       "        vertical-align: middle;\n",
       "    }\n",
       "\n",
       "    .dataframe tbody tr th {\n",
       "        vertical-align: top;\n",
       "    }\n",
       "\n",
       "    .dataframe thead th {\n",
       "        text-align: right;\n",
       "    }\n",
       "</style>\n",
       "<table border=\"1\" class=\"dataframe\">\n",
       "  <thead>\n",
       "    <tr style=\"text-align: right;\">\n",
       "      <th></th>\n",
       "      <th>service</th>\n",
       "      <th>sexe</th>\n",
       "      <th>age</th>\n",
       "      <th>profession</th>\n",
       "      <th>amelioration.sante</th>\n",
       "      <th>amelioration.moral</th>\n",
       "      <th>recommander</th>\n",
       "      <th>score.relation</th>\n",
       "      <th>score,information</th>\n",
       "    </tr>\n",
       "  </thead>\n",
       "  <tbody>\n",
       "    <tr>\n",
       "      <th>0</th>\n",
       "      <td>3</td>\n",
       "      <td>0</td>\n",
       "      <td>41.0</td>\n",
       "      <td>4.0</td>\n",
       "      <td>1.0</td>\n",
       "      <td>0.0</td>\n",
       "      <td>1.0</td>\n",
       "      <td>36.0</td>\n",
       "      <td>22.0</td>\n",
       "    </tr>\n",
       "    <tr>\n",
       "      <th>1</th>\n",
       "      <td>3</td>\n",
       "      <td>1</td>\n",
       "      <td>29.0</td>\n",
       "      <td>8.0</td>\n",
       "      <td>2.0</td>\n",
       "      <td>3.0</td>\n",
       "      <td>2.0</td>\n",
       "      <td>33.0</td>\n",
       "      <td>36.0</td>\n",
       "    </tr>\n",
       "    <tr>\n",
       "      <th>2</th>\n",
       "      <td>3</td>\n",
       "      <td>1</td>\n",
       "      <td>83.0</td>\n",
       "      <td>2.0</td>\n",
       "      <td>2.0</td>\n",
       "      <td>1.0</td>\n",
       "      <td>2.0</td>\n",
       "      <td>40.0</td>\n",
       "      <td>37.0</td>\n",
       "    </tr>\n",
       "    <tr>\n",
       "      <th>3</th>\n",
       "      <td>3</td>\n",
       "      <td>0</td>\n",
       "      <td>66.0</td>\n",
       "      <td>3.0</td>\n",
       "      <td>2.0</td>\n",
       "      <td>0.0</td>\n",
       "      <td>2.0</td>\n",
       "      <td>32.0</td>\n",
       "      <td>35.0</td>\n",
       "    </tr>\n",
       "    <tr>\n",
       "      <th>4</th>\n",
       "      <td>3</td>\n",
       "      <td>1</td>\n",
       "      <td>84.0</td>\n",
       "      <td>NaN</td>\n",
       "      <td>NaN</td>\n",
       "      <td>NaN</td>\n",
       "      <td>NaN</td>\n",
       "      <td>NaN</td>\n",
       "      <td>NaN</td>\n",
       "    </tr>\n",
       "  </tbody>\n",
       "</table>\n",
       "</div>"
      ],
      "text/plain": [
       "   service  sexe   age  profession  amelioration.sante  amelioration.moral  \\\n",
       "0        3     0  41.0         4.0                 1.0                 0.0   \n",
       "1        3     1  29.0         8.0                 2.0                 3.0   \n",
       "2        3     1  83.0         2.0                 2.0                 1.0   \n",
       "3        3     0  66.0         3.0                 2.0                 0.0   \n",
       "4        3     1  84.0         NaN                 NaN                 NaN   \n",
       "\n",
       "   recommander  score.relation  score,information  \n",
       "0          1.0            36.0               22.0  \n",
       "1          2.0            33.0               36.0  \n",
       "2          2.0            40.0               37.0  \n",
       "3          2.0            32.0               35.0  \n",
       "4          NaN             NaN                NaN  "
      ]
     },
     "execution_count": 4,
     "metadata": {},
     "output_type": "execute_result"
    }
   ],
   "source": [
    "df.head()"
   ]
  },
  {
   "cell_type": "code",
   "execution_count": 5,
   "id": "2a00822c",
   "metadata": {},
   "outputs": [
    {
     "name": "stdout",
     "output_type": "stream",
     "text": [
      "<class 'pandas.core.frame.DataFrame'>\n",
      "RangeIndex: 534 entries, 0 to 533\n",
      "Data columns (total 9 columns):\n",
      " #   Column              Non-Null Count  Dtype  \n",
      "---  ------              --------------  -----  \n",
      " 0   service             534 non-null    int64  \n",
      " 1   sexe                534 non-null    int64  \n",
      " 2   age                 528 non-null    float64\n",
      " 3   profession          427 non-null    float64\n",
      " 4   amelioration.sante  376 non-null    float64\n",
      " 5   amelioration.moral  383 non-null    float64\n",
      " 6   recommander         405 non-null    float64\n",
      " 7   score.relation      349 non-null    float64\n",
      " 8   score,information   358 non-null    float64\n",
      "dtypes: float64(7), int64(2)\n",
      "memory usage: 37.7 KB\n"
     ]
    }
   ],
   "source": [
    "df.info()"
   ]
  },
  {
   "cell_type": "code",
   "execution_count": 6,
   "id": "b144144e",
   "metadata": {},
   "outputs": [],
   "source": [
    "# Renommer les colonnes\n",
    "df.rename(columns={'amelioration.sante':'AmelioSante', 'amelioration.moral':'AmelioMorale', \n",
    "                   'score.relation':'ScoreRelation', 'score,information':'ScoreInfo'}, inplace=True)"
   ]
  },
  {
   "cell_type": "code",
   "execution_count": 7,
   "id": "46493317",
   "metadata": {},
   "outputs": [
    {
     "data": {
      "text/html": [
       "<div>\n",
       "<style scoped>\n",
       "    .dataframe tbody tr th:only-of-type {\n",
       "        vertical-align: middle;\n",
       "    }\n",
       "\n",
       "    .dataframe tbody tr th {\n",
       "        vertical-align: top;\n",
       "    }\n",
       "\n",
       "    .dataframe thead th {\n",
       "        text-align: right;\n",
       "    }\n",
       "</style>\n",
       "<table border=\"1\" class=\"dataframe\">\n",
       "  <thead>\n",
       "    <tr style=\"text-align: right;\">\n",
       "      <th></th>\n",
       "      <th>service</th>\n",
       "      <th>sexe</th>\n",
       "      <th>age</th>\n",
       "      <th>profession</th>\n",
       "      <th>AmelioSante</th>\n",
       "      <th>AmelioMorale</th>\n",
       "      <th>recommander</th>\n",
       "      <th>ScoreRelation</th>\n",
       "      <th>ScoreInfo</th>\n",
       "    </tr>\n",
       "  </thead>\n",
       "  <tbody>\n",
       "    <tr>\n",
       "      <th>0</th>\n",
       "      <td>3</td>\n",
       "      <td>0</td>\n",
       "      <td>41.0</td>\n",
       "      <td>4.0</td>\n",
       "      <td>1.0</td>\n",
       "      <td>0.0</td>\n",
       "      <td>1.0</td>\n",
       "      <td>36.0</td>\n",
       "      <td>22.0</td>\n",
       "    </tr>\n",
       "    <tr>\n",
       "      <th>1</th>\n",
       "      <td>3</td>\n",
       "      <td>1</td>\n",
       "      <td>29.0</td>\n",
       "      <td>8.0</td>\n",
       "      <td>2.0</td>\n",
       "      <td>3.0</td>\n",
       "      <td>2.0</td>\n",
       "      <td>33.0</td>\n",
       "      <td>36.0</td>\n",
       "    </tr>\n",
       "    <tr>\n",
       "      <th>2</th>\n",
       "      <td>3</td>\n",
       "      <td>1</td>\n",
       "      <td>83.0</td>\n",
       "      <td>2.0</td>\n",
       "      <td>2.0</td>\n",
       "      <td>1.0</td>\n",
       "      <td>2.0</td>\n",
       "      <td>40.0</td>\n",
       "      <td>37.0</td>\n",
       "    </tr>\n",
       "    <tr>\n",
       "      <th>3</th>\n",
       "      <td>3</td>\n",
       "      <td>0</td>\n",
       "      <td>66.0</td>\n",
       "      <td>3.0</td>\n",
       "      <td>2.0</td>\n",
       "      <td>0.0</td>\n",
       "      <td>2.0</td>\n",
       "      <td>32.0</td>\n",
       "      <td>35.0</td>\n",
       "    </tr>\n",
       "    <tr>\n",
       "      <th>4</th>\n",
       "      <td>3</td>\n",
       "      <td>1</td>\n",
       "      <td>84.0</td>\n",
       "      <td>NaN</td>\n",
       "      <td>NaN</td>\n",
       "      <td>NaN</td>\n",
       "      <td>NaN</td>\n",
       "      <td>NaN</td>\n",
       "      <td>NaN</td>\n",
       "    </tr>\n",
       "  </tbody>\n",
       "</table>\n",
       "</div>"
      ],
      "text/plain": [
       "   service  sexe   age  profession  AmelioSante  AmelioMorale  recommander  \\\n",
       "0        3     0  41.0         4.0          1.0           0.0          1.0   \n",
       "1        3     1  29.0         8.0          2.0           3.0          2.0   \n",
       "2        3     1  83.0         2.0          2.0           1.0          2.0   \n",
       "3        3     0  66.0         3.0          2.0           0.0          2.0   \n",
       "4        3     1  84.0         NaN          NaN           NaN          NaN   \n",
       "\n",
       "   ScoreRelation  ScoreInfo  \n",
       "0           36.0       22.0  \n",
       "1           33.0       36.0  \n",
       "2           40.0       37.0  \n",
       "3           32.0       35.0  \n",
       "4            NaN        NaN  "
      ]
     },
     "execution_count": 7,
     "metadata": {},
     "output_type": "execute_result"
    }
   ],
   "source": [
    "df.head()"
   ]
  },
  {
   "cell_type": "markdown",
   "id": "d01c416e",
   "metadata": {},
   "source": [
    "## Changer le type des colonnes"
   ]
  },
  {
   "cell_type": "code",
   "execution_count": 8,
   "id": "72ed2dcb",
   "metadata": {},
   "outputs": [],
   "source": [
    "col = ['service', 'sexe', 'profession', 'AmelioSante', 'AmelioMorale', 'recommander']\n",
    "for nom in col: \n",
    "    df[nom]=df[nom].astype('category')"
   ]
  },
  {
   "cell_type": "code",
   "execution_count": 9,
   "id": "d0174c3b",
   "metadata": {},
   "outputs": [
    {
     "name": "stdout",
     "output_type": "stream",
     "text": [
      "<class 'pandas.core.frame.DataFrame'>\n",
      "RangeIndex: 534 entries, 0 to 533\n",
      "Data columns (total 9 columns):\n",
      " #   Column         Non-Null Count  Dtype   \n",
      "---  ------         --------------  -----   \n",
      " 0   service        534 non-null    category\n",
      " 1   sexe           534 non-null    category\n",
      " 2   age            528 non-null    float64 \n",
      " 3   profession     427 non-null    category\n",
      " 4   AmelioSante    376 non-null    category\n",
      " 5   AmelioMorale   383 non-null    category\n",
      " 6   recommander    405 non-null    category\n",
      " 7   ScoreRelation  349 non-null    float64 \n",
      " 8   ScoreInfo      358 non-null    float64 \n",
      "dtypes: category(6), float64(3)\n",
      "memory usage: 17.1 KB\n"
     ]
    }
   ],
   "source": [
    "df.info()"
   ]
  },
  {
   "cell_type": "code",
   "execution_count": 10,
   "id": "75f45163",
   "metadata": {},
   "outputs": [
    {
     "data": {
      "text/html": [
       "<div>\n",
       "<style scoped>\n",
       "    .dataframe tbody tr th:only-of-type {\n",
       "        vertical-align: middle;\n",
       "    }\n",
       "\n",
       "    .dataframe tbody tr th {\n",
       "        vertical-align: top;\n",
       "    }\n",
       "\n",
       "    .dataframe thead th {\n",
       "        text-align: right;\n",
       "    }\n",
       "</style>\n",
       "<table border=\"1\" class=\"dataframe\">\n",
       "  <thead>\n",
       "    <tr style=\"text-align: right;\">\n",
       "      <th></th>\n",
       "      <th>service</th>\n",
       "      <th>sexe</th>\n",
       "      <th>profession</th>\n",
       "      <th>AmelioSante</th>\n",
       "      <th>AmelioMorale</th>\n",
       "      <th>recommander</th>\n",
       "    </tr>\n",
       "  </thead>\n",
       "  <tbody>\n",
       "    <tr>\n",
       "      <th>count</th>\n",
       "      <td>534</td>\n",
       "      <td>534</td>\n",
       "      <td>427.0</td>\n",
       "      <td>376.0</td>\n",
       "      <td>383.0</td>\n",
       "      <td>405.0</td>\n",
       "    </tr>\n",
       "    <tr>\n",
       "      <th>unique</th>\n",
       "      <td>8</td>\n",
       "      <td>2</td>\n",
       "      <td>8.0</td>\n",
       "      <td>4.0</td>\n",
       "      <td>4.0</td>\n",
       "      <td>3.0</td>\n",
       "    </tr>\n",
       "    <tr>\n",
       "      <th>top</th>\n",
       "      <td>5</td>\n",
       "      <td>0</td>\n",
       "      <td>3.0</td>\n",
       "      <td>3.0</td>\n",
       "      <td>1.0</td>\n",
       "      <td>2.0</td>\n",
       "    </tr>\n",
       "    <tr>\n",
       "      <th>freq</th>\n",
       "      <td>71</td>\n",
       "      <td>268</td>\n",
       "      <td>124.0</td>\n",
       "      <td>161.0</td>\n",
       "      <td>179.0</td>\n",
       "      <td>269.0</td>\n",
       "    </tr>\n",
       "  </tbody>\n",
       "</table>\n",
       "</div>"
      ],
      "text/plain": [
       "        service  sexe  profession  AmelioSante  AmelioMorale  recommander\n",
       "count       534   534       427.0        376.0         383.0        405.0\n",
       "unique        8     2         8.0          4.0           4.0          3.0\n",
       "top           5     0         3.0          3.0           1.0          2.0\n",
       "freq         71   268       124.0        161.0         179.0        269.0"
      ]
     },
     "execution_count": 10,
     "metadata": {},
     "output_type": "execute_result"
    }
   ],
   "source": [
    "df.describe(include='category')"
   ]
  },
  {
   "cell_type": "code",
   "execution_count": 11,
   "id": "aeceee7a",
   "metadata": {},
   "outputs": [
    {
     "data": {
      "text/html": [
       "<div>\n",
       "<style scoped>\n",
       "    .dataframe tbody tr th:only-of-type {\n",
       "        vertical-align: middle;\n",
       "    }\n",
       "\n",
       "    .dataframe tbody tr th {\n",
       "        vertical-align: top;\n",
       "    }\n",
       "\n",
       "    .dataframe thead th {\n",
       "        text-align: right;\n",
       "    }\n",
       "</style>\n",
       "<table border=\"1\" class=\"dataframe\">\n",
       "  <thead>\n",
       "    <tr style=\"text-align: right;\">\n",
       "      <th></th>\n",
       "      <th>age</th>\n",
       "      <th>ScoreRelation</th>\n",
       "      <th>ScoreInfo</th>\n",
       "    </tr>\n",
       "  </thead>\n",
       "  <tbody>\n",
       "    <tr>\n",
       "      <th>count</th>\n",
       "      <td>528.000000</td>\n",
       "      <td>349.000000</td>\n",
       "      <td>358.000000</td>\n",
       "    </tr>\n",
       "    <tr>\n",
       "      <th>mean</th>\n",
       "      <td>58.212121</td>\n",
       "      <td>35.217765</td>\n",
       "      <td>31.910615</td>\n",
       "    </tr>\n",
       "    <tr>\n",
       "      <th>std</th>\n",
       "      <td>17.809249</td>\n",
       "      <td>4.623606</td>\n",
       "      <td>6.793295</td>\n",
       "    </tr>\n",
       "    <tr>\n",
       "      <th>min</th>\n",
       "      <td>18.000000</td>\n",
       "      <td>13.000000</td>\n",
       "      <td>13.000000</td>\n",
       "    </tr>\n",
       "    <tr>\n",
       "      <th>25%</th>\n",
       "      <td>45.000000</td>\n",
       "      <td>33.000000</td>\n",
       "      <td>28.000000</td>\n",
       "    </tr>\n",
       "    <tr>\n",
       "      <th>50%</th>\n",
       "      <td>60.000000</td>\n",
       "      <td>36.000000</td>\n",
       "      <td>33.000000</td>\n",
       "    </tr>\n",
       "    <tr>\n",
       "      <th>75%</th>\n",
       "      <td>72.000000</td>\n",
       "      <td>39.000000</td>\n",
       "      <td>38.000000</td>\n",
       "    </tr>\n",
       "    <tr>\n",
       "      <th>max</th>\n",
       "      <td>97.000000</td>\n",
       "      <td>40.000000</td>\n",
       "      <td>40.000000</td>\n",
       "    </tr>\n",
       "  </tbody>\n",
       "</table>\n",
       "</div>"
      ],
      "text/plain": [
       "              age  ScoreRelation   ScoreInfo\n",
       "count  528.000000     349.000000  358.000000\n",
       "mean    58.212121      35.217765   31.910615\n",
       "std     17.809249       4.623606    6.793295\n",
       "min     18.000000      13.000000   13.000000\n",
       "25%     45.000000      33.000000   28.000000\n",
       "50%     60.000000      36.000000   33.000000\n",
       "75%     72.000000      39.000000   38.000000\n",
       "max     97.000000      40.000000   40.000000"
      ]
     },
     "execution_count": 11,
     "metadata": {},
     "output_type": "execute_result"
    }
   ],
   "source": [
    "df.describe()"
   ]
  },
  {
   "cell_type": "markdown",
   "id": "d15d4207",
   "metadata": {},
   "source": [
    "## Visualisation des NaN"
   ]
  },
  {
   "cell_type": "code",
   "execution_count": 12,
   "id": "d11498dd",
   "metadata": {},
   "outputs": [
    {
     "data": {
      "image/png": "[encoded data removed]",
      "text/plain": [
       "<Figure size 1800x720 with 3 Axes>"
      ]
     },
     "metadata": {
      "needs_background": "light"
     },
     "output_type": "display_data"
    }
   ],
   "source": [
    "msno.bar(df)\n",
    "plt.title('VISUALISATION DES VALEURS MANQUANTES')\n",
    "plt.show()"
   ]
  },
  {
   "cell_type": "code",
   "execution_count": 13,
   "id": "a87bea49",
   "metadata": {},
   "outputs": [],
   "source": [
    "# msno.matrix(df)\n",
    "# plt.title('VISUALISATION DES VALEURS MANQUANTES')\n",
    "# plt.show()"
   ]
  },
  {
   "cell_type": "code",
   "execution_count": 14,
   "id": "7cae5659",
   "metadata": {},
   "outputs": [],
   "source": [
    "# msno.heatmap(df)\n",
    "# plt.title('VISUALISATION DES VALEURS MANQUANTES')\n",
    "# plt.show()"
   ]
  },
  {
   "cell_type": "markdown",
   "id": "250574f2",
   "metadata": {},
   "source": [
    "## Traitement des valeurs manquantes "
   ]
  },
  {
   "cell_type": "code",
   "execution_count": 15,
   "id": "63f73155",
   "metadata": {},
   "outputs": [
    {
     "data": {
      "text/plain": [
       "service            0\n",
       "sexe               0\n",
       "age                6\n",
       "profession       107\n",
       "AmelioSante      158\n",
       "AmelioMorale     151\n",
       "recommander      129\n",
       "ScoreRelation    185\n",
       "ScoreInfo        176\n",
       "dtype: int64"
      ]
     },
     "execution_count": 15,
     "metadata": {},
     "output_type": "execute_result"
    }
   ],
   "source": [
    "# Comptage des NaN\n",
    "df.isna().sum()"
   ]
  },
  {
   "cell_type": "code",
   "execution_count": 16,
   "id": "44ddb922",
   "metadata": {},
   "outputs": [
    {
     "data": {
      "text/plain": [
       "service           0.0\n",
       "sexe              0.0\n",
       "age               1.0\n",
       "profession       20.0\n",
       "AmelioSante      30.0\n",
       "AmelioMorale     28.0\n",
       "recommander      24.0\n",
       "ScoreRelation    35.0\n",
       "ScoreInfo        33.0\n",
       "dtype: float64"
      ]
     },
     "execution_count": 16,
     "metadata": {},
     "output_type": "execute_result"
    }
   ],
   "source": [
    "# Pourcentage des NaN\n",
    "round(df.isna().mean(), 2)*100"
   ]
  },
  {
   "cell_type": "code",
   "execution_count": 17,
   "id": "1de6bf53",
   "metadata": {},
   "outputs": [],
   "source": [
    "# # Changement des types des variables\n",
    "# col = ['service', 'sexe', 'profession', 'AmelioSante', 'AmelioMorale', 'recommander']\n",
    "# for nom in col: \n",
    "#     df[nom]=df[nom].astype('int')"
   ]
  },
  {
   "cell_type": "code",
   "execution_count": 18,
   "id": "69b4869c",
   "metadata": {},
   "outputs": [
    {
     "name": "stdout",
     "output_type": "stream",
     "text": [
      "<class 'pandas.core.frame.DataFrame'>\n",
      "RangeIndex: 534 entries, 0 to 533\n",
      "Data columns (total 9 columns):\n",
      " #   Column         Non-Null Count  Dtype   \n",
      "---  ------         --------------  -----   \n",
      " 0   service        534 non-null    category\n",
      " 1   sexe           534 non-null    category\n",
      " 2   age            528 non-null    float64 \n",
      " 3   profession     427 non-null    category\n",
      " 4   AmelioSante    376 non-null    category\n",
      " 5   AmelioMorale   383 non-null    category\n",
      " 6   recommander    405 non-null    category\n",
      " 7   ScoreRelation  349 non-null    float64 \n",
      " 8   ScoreInfo      358 non-null    float64 \n",
      "dtypes: category(6), float64(3)\n",
      "memory usage: 17.1 KB\n"
     ]
    }
   ],
   "source": [
    "df.info()"
   ]
  },
  {
   "cell_type": "code",
   "execution_count": 19,
   "id": "d4976f04",
   "metadata": {},
   "outputs": [],
   "source": [
    "# import the KNNimputer class\n",
    "from sklearn.impute import KNNImputer"
   ]
  },
  {
   "cell_type": "code",
   "execution_count": 20,
   "id": "da38a2ba",
   "metadata": {},
   "outputs": [],
   "source": [
    "# create an object for KNNImputer\n",
    "imputer = KNNImputer(n_neighbors=10)"
   ]
  },
  {
   "cell_type": "code",
   "execution_count": 21,
   "id": "b2c0d66e",
   "metadata": {},
   "outputs": [],
   "source": [
    "# Imputation\n",
    "dfImputer = imputer.fit_transform(df)"
   ]
  },
  {
   "cell_type": "code",
   "execution_count": 22,
   "id": "e2aefd0e",
   "metadata": {},
   "outputs": [
    {
     "data": {
      "text/html": [
       "<div>\n",
       "<style scoped>\n",
       "    .dataframe tbody tr th:only-of-type {\n",
       "        vertical-align: middle;\n",
       "    }\n",
       "\n",
       "    .dataframe tbody tr th {\n",
       "        vertical-align: top;\n",
       "    }\n",
       "\n",
       "    .dataframe thead th {\n",
       "        text-align: right;\n",
       "    }\n",
       "</style>\n",
       "<table border=\"1\" class=\"dataframe\">\n",
       "  <thead>\n",
       "    <tr style=\"text-align: right;\">\n",
       "      <th></th>\n",
       "      <th>0</th>\n",
       "      <th>1</th>\n",
       "      <th>2</th>\n",
       "      <th>3</th>\n",
       "      <th>4</th>\n",
       "      <th>5</th>\n",
       "      <th>6</th>\n",
       "      <th>7</th>\n",
       "      <th>8</th>\n",
       "    </tr>\n",
       "  </thead>\n",
       "  <tbody>\n",
       "    <tr>\n",
       "      <th>0</th>\n",
       "      <td>3.0</td>\n",
       "      <td>0.0</td>\n",
       "      <td>41.0</td>\n",
       "      <td>4.0</td>\n",
       "      <td>1.0</td>\n",
       "      <td>0.0</td>\n",
       "      <td>1.0</td>\n",
       "      <td>36.0</td>\n",
       "      <td>22.0</td>\n",
       "    </tr>\n",
       "    <tr>\n",
       "      <th>1</th>\n",
       "      <td>3.0</td>\n",
       "      <td>1.0</td>\n",
       "      <td>29.0</td>\n",
       "      <td>8.0</td>\n",
       "      <td>2.0</td>\n",
       "      <td>3.0</td>\n",
       "      <td>2.0</td>\n",
       "      <td>33.0</td>\n",
       "      <td>36.0</td>\n",
       "    </tr>\n",
       "    <tr>\n",
       "      <th>2</th>\n",
       "      <td>3.0</td>\n",
       "      <td>1.0</td>\n",
       "      <td>83.0</td>\n",
       "      <td>2.0</td>\n",
       "      <td>2.0</td>\n",
       "      <td>1.0</td>\n",
       "      <td>2.0</td>\n",
       "      <td>40.0</td>\n",
       "      <td>37.0</td>\n",
       "    </tr>\n",
       "    <tr>\n",
       "      <th>3</th>\n",
       "      <td>3.0</td>\n",
       "      <td>0.0</td>\n",
       "      <td>66.0</td>\n",
       "      <td>3.0</td>\n",
       "      <td>2.0</td>\n",
       "      <td>0.0</td>\n",
       "      <td>2.0</td>\n",
       "      <td>32.0</td>\n",
       "      <td>35.0</td>\n",
       "    </tr>\n",
       "    <tr>\n",
       "      <th>4</th>\n",
       "      <td>3.0</td>\n",
       "      <td>1.0</td>\n",
       "      <td>84.0</td>\n",
       "      <td>4.5</td>\n",
       "      <td>2.5</td>\n",
       "      <td>1.1</td>\n",
       "      <td>1.8</td>\n",
       "      <td>37.2</td>\n",
       "      <td>30.3</td>\n",
       "    </tr>\n",
       "  </tbody>\n",
       "</table>\n",
       "</div>"
      ],
      "text/plain": [
       "     0    1     2    3    4    5    6     7     8\n",
       "0  3.0  0.0  41.0  4.0  1.0  0.0  1.0  36.0  22.0\n",
       "1  3.0  1.0  29.0  8.0  2.0  3.0  2.0  33.0  36.0\n",
       "2  3.0  1.0  83.0  2.0  2.0  1.0  2.0  40.0  37.0\n",
       "3  3.0  0.0  66.0  3.0  2.0  0.0  2.0  32.0  35.0\n",
       "4  3.0  1.0  84.0  4.5  2.5  1.1  1.8  37.2  30.3"
      ]
     },
     "execution_count": 22,
     "metadata": {},
     "output_type": "execute_result"
    }
   ],
   "source": [
    "dfSansNan = pd.DataFrame(dfImputer)\n",
    "dfSansNan.head()"
   ]
  },
  {
   "cell_type": "code",
   "execution_count": 23,
   "id": "117ea9d8",
   "metadata": {},
   "outputs": [
    {
     "name": "stdout",
     "output_type": "stream",
     "text": [
      "<class 'pandas.core.frame.DataFrame'>\n",
      "RangeIndex: 534 entries, 0 to 533\n",
      "Data columns (total 9 columns):\n",
      " #   Column  Non-Null Count  Dtype  \n",
      "---  ------  --------------  -----  \n",
      " 0   0       534 non-null    float64\n",
      " 1   1       534 non-null    float64\n",
      " 2   2       534 non-null    float64\n",
      " 3   3       534 non-null    float64\n",
      " 4   4       534 non-null    float64\n",
      " 5   5       534 non-null    float64\n",
      " 6   6       534 non-null    float64\n",
      " 7   7       534 non-null    float64\n",
      " 8   8       534 non-null    float64\n",
      "dtypes: float64(9)\n",
      "memory usage: 37.7 KB\n"
     ]
    }
   ],
   "source": [
    "dfSansNan.info()"
   ]
  },
  {
   "cell_type": "code",
   "execution_count": 24,
   "id": "5934ae77",
   "metadata": {},
   "outputs": [],
   "source": [
    "# Renommer les colonnes\n",
    "dfSansNan.rename(columns={0:'service', 1:'sexe', 2:'age', 3:'profession', 4:'AmelioSante', 5:'AmelioMorale', 6:'recommander', \n",
    "                   7:'ScoreRelation', 8:'ScoreInfo'}, inplace=True)"
   ]
  },
  {
   "cell_type": "code",
   "execution_count": 25,
   "id": "827e85d3",
   "metadata": {},
   "outputs": [
    {
     "data": {
      "text/html": [
       "<div>\n",
       "<style scoped>\n",
       "    .dataframe tbody tr th:only-of-type {\n",
       "        vertical-align: middle;\n",
       "    }\n",
       "\n",
       "    .dataframe tbody tr th {\n",
       "        vertical-align: top;\n",
       "    }\n",
       "\n",
       "    .dataframe thead th {\n",
       "        text-align: right;\n",
       "    }\n",
       "</style>\n",
       "<table border=\"1\" class=\"dataframe\">\n",
       "  <thead>\n",
       "    <tr style=\"text-align: right;\">\n",
       "      <th></th>\n",
       "      <th>service</th>\n",
       "      <th>sexe</th>\n",
       "      <th>age</th>\n",
       "      <th>profession</th>\n",
       "      <th>AmelioSante</th>\n",
       "      <th>AmelioMorale</th>\n",
       "      <th>recommander</th>\n",
       "      <th>ScoreRelation</th>\n",
       "      <th>ScoreInfo</th>\n",
       "    </tr>\n",
       "  </thead>\n",
       "  <tbody>\n",
       "    <tr>\n",
       "      <th>0</th>\n",
       "      <td>3.0</td>\n",
       "      <td>0.0</td>\n",
       "      <td>41.0</td>\n",
       "      <td>4.0</td>\n",
       "      <td>1.0</td>\n",
       "      <td>0.0</td>\n",
       "      <td>1.0</td>\n",
       "      <td>36.0</td>\n",
       "      <td>22.0</td>\n",
       "    </tr>\n",
       "    <tr>\n",
       "      <th>1</th>\n",
       "      <td>3.0</td>\n",
       "      <td>1.0</td>\n",
       "      <td>29.0</td>\n",
       "      <td>8.0</td>\n",
       "      <td>2.0</td>\n",
       "      <td>3.0</td>\n",
       "      <td>2.0</td>\n",
       "      <td>33.0</td>\n",
       "      <td>36.0</td>\n",
       "    </tr>\n",
       "    <tr>\n",
       "      <th>2</th>\n",
       "      <td>3.0</td>\n",
       "      <td>1.0</td>\n",
       "      <td>83.0</td>\n",
       "      <td>2.0</td>\n",
       "      <td>2.0</td>\n",
       "      <td>1.0</td>\n",
       "      <td>2.0</td>\n",
       "      <td>40.0</td>\n",
       "      <td>37.0</td>\n",
       "    </tr>\n",
       "    <tr>\n",
       "      <th>3</th>\n",
       "      <td>3.0</td>\n",
       "      <td>0.0</td>\n",
       "      <td>66.0</td>\n",
       "      <td>3.0</td>\n",
       "      <td>2.0</td>\n",
       "      <td>0.0</td>\n",
       "      <td>2.0</td>\n",
       "      <td>32.0</td>\n",
       "      <td>35.0</td>\n",
       "    </tr>\n",
       "    <tr>\n",
       "      <th>4</th>\n",
       "      <td>3.0</td>\n",
       "      <td>1.0</td>\n",
       "      <td>84.0</td>\n",
       "      <td>4.5</td>\n",
       "      <td>2.5</td>\n",
       "      <td>1.1</td>\n",
       "      <td>1.8</td>\n",
       "      <td>37.2</td>\n",
       "      <td>30.3</td>\n",
       "    </tr>\n",
       "  </tbody>\n",
       "</table>\n",
       "</div>"
      ],
      "text/plain": [
       "   service  sexe   age  profession  AmelioSante  AmelioMorale  recommander  \\\n",
       "0      3.0   0.0  41.0         4.0          1.0           0.0          1.0   \n",
       "1      3.0   1.0  29.0         8.0          2.0           3.0          2.0   \n",
       "2      3.0   1.0  83.0         2.0          2.0           1.0          2.0   \n",
       "3      3.0   0.0  66.0         3.0          2.0           0.0          2.0   \n",
       "4      3.0   1.0  84.0         4.5          2.5           1.1          1.8   \n",
       "\n",
       "   ScoreRelation  ScoreInfo  \n",
       "0           36.0       22.0  \n",
       "1           33.0       36.0  \n",
       "2           40.0       37.0  \n",
       "3           32.0       35.0  \n",
       "4           37.2       30.3  "
      ]
     },
     "execution_count": 25,
     "metadata": {},
     "output_type": "execute_result"
    }
   ],
   "source": [
    "dfSansNan.head()"
   ]
  },
  {
   "cell_type": "code",
   "execution_count": 26,
   "id": "547c7e09",
   "metadata": {},
   "outputs": [],
   "source": [
    "# Changement des types des variables\n",
    "col = ['service', 'sexe', 'profession', 'AmelioSante', 'AmelioMorale', 'recommander']\n",
    "for nom in col: \n",
    "    dfSansNan[nom]=dfSansNan[nom].astype('category')"
   ]
  },
  {
   "cell_type": "code",
   "execution_count": 27,
   "id": "4ce871e1",
   "metadata": {},
   "outputs": [
    {
     "name": "stdout",
     "output_type": "stream",
     "text": [
      "<class 'pandas.core.frame.DataFrame'>\n",
      "RangeIndex: 534 entries, 0 to 533\n",
      "Data columns (total 9 columns):\n",
      " #   Column         Non-Null Count  Dtype   \n",
      "---  ------         --------------  -----   \n",
      " 0   service        534 non-null    category\n",
      " 1   sexe           534 non-null    category\n",
      " 2   age            534 non-null    float64 \n",
      " 3   profession     534 non-null    category\n",
      " 4   AmelioSante    534 non-null    category\n",
      " 5   AmelioMorale   534 non-null    category\n",
      " 6   recommander    534 non-null    category\n",
      " 7   ScoreRelation  534 non-null    float64 \n",
      " 8   ScoreInfo      534 non-null    float64 \n",
      "dtypes: category(6), float64(3)\n",
      "memory usage: 19.2 KB\n"
     ]
    }
   ],
   "source": [
    "dfSansNan.info()"
   ]
  },
  {
   "cell_type": "code",
   "execution_count": 28,
   "id": "b28eb6ef",
   "metadata": {},
   "outputs": [
    {
     "data": {
      "text/plain": [
       "service          0\n",
       "sexe             0\n",
       "age              0\n",
       "profession       0\n",
       "AmelioSante      0\n",
       "AmelioMorale     0\n",
       "recommander      0\n",
       "ScoreRelation    0\n",
       "ScoreInfo        0\n",
       "dtype: int64"
      ]
     },
     "execution_count": 28,
     "metadata": {},
     "output_type": "execute_result"
    }
   ],
   "source": [
    "# Verification des NaN\n",
    "dfSansNan.isna().sum()"
   ]
  },
  {
   "cell_type": "code",
   "execution_count": 29,
   "id": "59f67c7d",
   "metadata": {},
   "outputs": [
    {
     "data": {
      "image/png": "[encoded data removed]",
      "text/plain": [
       "<Figure size 1800x720 with 3 Axes>"
      ]
     },
     "metadata": {
      "needs_background": "light"
     },
     "output_type": "display_data"
    }
   ],
   "source": [
    "# Visualisation des NaN\n",
    "msno.bar(dfSansNan)\n",
    "plt.title('VISUALISATION DES VALEURS MANQUANTES')\n",
    "plt.show()"
   ]
  },
  {
   "cell_type": "markdown",
   "id": "78247aec",
   "metadata": {},
   "source": [
    "## Traitement des doublons"
   ]
  },
  {
   "cell_type": "code",
   "execution_count": 30,
   "id": "47a78015",
   "metadata": {},
   "outputs": [
    {
     "data": {
      "text/plain": [
       "12"
      ]
     },
     "execution_count": 30,
     "metadata": {},
     "output_type": "execute_result"
    }
   ],
   "source": [
    "#Comptage du nombre de doublon\n",
    "len(dfSansNan[dfSansNan.duplicated()])"
   ]
  },
  {
   "cell_type": "code",
   "execution_count": 31,
   "id": "39250b25",
   "metadata": {},
   "outputs": [],
   "source": [
    "#Suppression des doublons\n",
    "dfOk=dfSansNan.drop_duplicates()"
   ]
  },
  {
   "cell_type": "code",
   "execution_count": 32,
   "id": "e7f64b11",
   "metadata": {},
   "outputs": [
    {
     "name": "stdout",
     "output_type": "stream",
     "text": [
      "<class 'pandas.core.frame.DataFrame'>\n",
      "Int64Index: 522 entries, 0 to 533\n",
      "Data columns (total 9 columns):\n",
      " #   Column         Non-Null Count  Dtype   \n",
      "---  ------         --------------  -----   \n",
      " 0   service        522 non-null    category\n",
      " 1   sexe           522 non-null    category\n",
      " 2   age            522 non-null    float64 \n",
      " 3   profession     522 non-null    category\n",
      " 4   AmelioSante    522 non-null    category\n",
      " 5   AmelioMorale   522 non-null    category\n",
      " 6   recommander    522 non-null    category\n",
      " 7   ScoreRelation  522 non-null    float64 \n",
      " 8   ScoreInfo      522 non-null    float64 \n",
      "dtypes: category(6), float64(3)\n",
      "memory usage: 22.8 KB\n"
     ]
    }
   ],
   "source": [
    "dfOk.info()"
   ]
  },
  {
   "cell_type": "code",
   "execution_count": 33,
   "id": "4ed991ce",
   "metadata": {},
   "outputs": [
    {
     "name": "stderr",
     "output_type": "stream",
     "text": [
      "C:\\Users\\THINKPAD\\AppData\\Local\\Temp\\ipykernel_29196\\252588879.py:4: SettingWithCopyWarning: \n",
      "A value is trying to be set on a copy of a slice from a DataFrame.\n",
      "Try using .loc[row_indexer,col_indexer] = value instead\n",
      "\n",
      "See the caveats in the documentation: https://pandas.pydata.org/pandas-docs/stable/user_guide/indexing.html#returning-a-view-versus-a-copy\n",
      "  dfOk.loc[:, nom]=dfOk.loc[:, nom].astype('int')\n"
     ]
    }
   ],
   "source": [
    "# Changement des types des variables\n",
    "col = ['service', 'sexe', 'profession', 'AmelioSante', 'AmelioMorale', 'recommander']\n",
    "for nom in col: \n",
    "    dfOk.loc[:, nom]=dfOk.loc[:, nom].astype('int')"
   ]
  },
  {
   "cell_type": "code",
   "execution_count": 34,
   "id": "ea516a64",
   "metadata": {
    "scrolled": true
   },
   "outputs": [
    {
     "name": "stderr",
     "output_type": "stream",
     "text": [
      "C:\\Users\\THINKPAD\\AppData\\Local\\Temp\\ipykernel_29196\\1663260493.py:4: SettingWithCopyWarning: \n",
      "A value is trying to be set on a copy of a slice from a DataFrame.\n",
      "Try using .loc[row_indexer,col_indexer] = value instead\n",
      "\n",
      "See the caveats in the documentation: https://pandas.pydata.org/pandas-docs/stable/user_guide/indexing.html#returning-a-view-versus-a-copy\n",
      "  dfOk.loc[:, (nom)]=dfOk.loc[:, (nom)].astype('category')\n",
      "C:\\Users\\THINKPAD\\AppData\\Local\\Temp\\ipykernel_29196\\1663260493.py:4: SettingWithCopyWarning: \n",
      "A value is trying to be set on a copy of a slice from a DataFrame.\n",
      "Try using .loc[row_indexer,col_indexer] = value instead\n",
      "\n",
      "See the caveats in the documentation: https://pandas.pydata.org/pandas-docs/stable/user_guide/indexing.html#returning-a-view-versus-a-copy\n",
      "  dfOk.loc[:, (nom)]=dfOk.loc[:, (nom)].astype('category')\n",
      "C:\\Users\\THINKPAD\\AppData\\Local\\Temp\\ipykernel_29196\\1663260493.py:4: SettingWithCopyWarning: \n",
      "A value is trying to be set on a copy of a slice from a DataFrame.\n",
      "Try using .loc[row_indexer,col_indexer] = value instead\n",
      "\n",
      "See the caveats in the documentation: https://pandas.pydata.org/pandas-docs/stable/user_guide/indexing.html#returning-a-view-versus-a-copy\n",
      "  dfOk.loc[:, (nom)]=dfOk.loc[:, (nom)].astype('category')\n",
      "C:\\Users\\THINKPAD\\AppData\\Local\\Temp\\ipykernel_29196\\1663260493.py:4: SettingWithCopyWarning: \n",
      "A value is trying to be set on a copy of a slice from a DataFrame.\n",
      "Try using .loc[row_indexer,col_indexer] = value instead\n",
      "\n",
      "See the caveats in the documentation: https://pandas.pydata.org/pandas-docs/stable/user_guide/indexing.html#returning-a-view-versus-a-copy\n",
      "  dfOk.loc[:, (nom)]=dfOk.loc[:, (nom)].astype('category')\n",
      "C:\\Users\\THINKPAD\\AppData\\Local\\Temp\\ipykernel_29196\\1663260493.py:4: SettingWithCopyWarning: \n",
      "A value is trying to be set on a copy of a slice from a DataFrame.\n",
      "Try using .loc[row_indexer,col_indexer] = value instead\n",
      "\n",
      "See the caveats in the documentation: https://pandas.pydata.org/pandas-docs/stable/user_guide/indexing.html#returning-a-view-versus-a-copy\n",
      "  dfOk.loc[:, (nom)]=dfOk.loc[:, (nom)].astype('category')\n",
      "C:\\Users\\THINKPAD\\AppData\\Local\\Temp\\ipykernel_29196\\1663260493.py:4: SettingWithCopyWarning: \n",
      "A value is trying to be set on a copy of a slice from a DataFrame.\n",
      "Try using .loc[row_indexer,col_indexer] = value instead\n",
      "\n",
      "See the caveats in the documentation: https://pandas.pydata.org/pandas-docs/stable/user_guide/indexing.html#returning-a-view-versus-a-copy\n",
      "  dfOk.loc[:, (nom)]=dfOk.loc[:, (nom)].astype('category')\n"
     ]
    }
   ],
   "source": [
    "# Changement des types des variables\n",
    "col = ['service', 'sexe', 'profession', 'AmelioSante', 'AmelioMorale', 'recommander']\n",
    "for nom in col: \n",
    "    dfOk.loc[:, (nom)]=dfOk.loc[:, (nom)].astype('category')"
   ]
  },
  {
   "cell_type": "code",
   "execution_count": 35,
   "id": "f5abfccd",
   "metadata": {},
   "outputs": [
    {
     "data": {
      "text/plain": [
       "CategoricalDtype(categories=[0, 1], ordered=False)"
      ]
     },
     "execution_count": 35,
     "metadata": {},
     "output_type": "execute_result"
    }
   ],
   "source": [
    "# dfOk.describe(include='category')\n",
    "dfOk['sexe'].dtype"
   ]
  },
  {
   "cell_type": "code",
   "execution_count": 36,
   "id": "34432e84",
   "metadata": {},
   "outputs": [
    {
     "name": "stdout",
     "output_type": "stream",
     "text": [
      "0\n",
      "1\n",
      "0\n",
      "1\n"
     ]
    }
   ],
   "source": [
    "liste = [\"Homme\", \"Femme\"]\n",
    "\n",
    "for genre in liste:\n",
    "    for num in dfOk['sexe'].unique():\n",
    "        print(num)\n",
    "#         dfOk['sexe'] = dfOk['sexe'].replace({num: genre})\n",
    "\n",
    "# Afficher le résultat final\n",
    "# print(dfOk['sexe'])"
   ]
  },
  {
   "cell_type": "code",
   "execution_count": 37,
   "id": "50e25aa3",
   "metadata": {},
   "outputs": [
    {
     "data": {
      "text/plain": [
       "[0, 1]\n",
       "Categories (2, int64): [0, 1]"
      ]
     },
     "execution_count": 37,
     "metadata": {},
     "output_type": "execute_result"
    }
   ],
   "source": [
    "dfOk['sexe'].unique()"
   ]
  },
  {
   "cell_type": "code",
   "execution_count": 38,
   "id": "91fb929f",
   "metadata": {},
   "outputs": [
    {
     "data": {
      "text/plain": [
       "count     522\n",
       "unique      2\n",
       "top         0\n",
       "freq      262\n",
       "Name: sexe, dtype: int64"
      ]
     },
     "execution_count": 38,
     "metadata": {},
     "output_type": "execute_result"
    }
   ],
   "source": [
    "dfOk['sexe'].describe()"
   ]
  },
  {
   "cell_type": "code",
   "execution_count": 39,
   "id": "54d44ef0",
   "metadata": {},
   "outputs": [
    {
     "data": {
      "text/plain": [
       "0"
      ]
     },
     "execution_count": 39,
     "metadata": {},
     "output_type": "execute_result"
    }
   ],
   "source": [
    "len(dfOk[dfOk.duplicated()])"
   ]
  },
  {
   "cell_type": "raw",
   "id": "5298e00e",
   "metadata": {},
   "source": [
    "Le resultat ci-dessus montre qu'il n'y a plus de doublons dans notre dataset\n",
    "Il n'y a également plus de NaN dans notre DataSet\n",
    "Nous pouvons Alors passer à l analyse a proprement dite."
   ]
  },
  {
   "cell_type": "markdown",
   "id": "d38281fb",
   "metadata": {},
   "source": [
    "## Traitement des valeurs aberrantes"
   ]
  },
  {
   "cell_type": "code",
   "execution_count": 40,
   "id": "2d405eb6",
   "metadata": {},
   "outputs": [
    {
     "data": {
      "image/png": "[encoded data removed]",
      "text/plain": [
       "<Figure size 1080x504 with 1 Axes>"
      ]
     },
     "metadata": {
      "needs_background": "light"
     },
     "output_type": "display_data"
    }
   ],
   "source": [
    "plt.figure(figsize=(15, 7))\n",
    "plt.boxplot(dfOk)\n",
    "plt.title('VISUALISATION DES VALEURS ABERRANTES')\n",
    "plt.xticks()\n",
    "plt.show() "
   ]
  },
  {
   "cell_type": "code",
   "execution_count": 41,
   "id": "66746867",
   "metadata": {},
   "outputs": [
    {
     "data": {
      "image/png": "[encoded data removed]",
      "text/plain": [
       "<Figure size 720x504 with 1 Axes>"
      ]
     },
     "metadata": {
      "needs_background": "light"
     },
     "output_type": "display_data"
    }
   ],
   "source": [
    "plt.figure(figsize=(10, 7))\n",
    "plt.boxplot(dfOk['ScoreRelation'])\n",
    "plt.title('VISUALISATION APPROFONDIE DE ScoreRelation AVANT WINZORISATION')\n",
    "plt.show() "
   ]
  },
  {
   "cell_type": "code",
   "execution_count": 42,
   "id": "430417dc",
   "metadata": {},
   "outputs": [],
   "source": [
    "from scipy.stats.mstats import winsorize # Pour Winzorizer"
   ]
  },
  {
   "cell_type": "code",
   "execution_count": 43,
   "id": "dd7581cd",
   "metadata": {},
   "outputs": [
    {
     "data": {
      "text/plain": [
       "0      36.0\n",
       "1      33.0\n",
       "2      40.0\n",
       "3      32.0\n",
       "4      37.2\n",
       "       ... \n",
       "529    35.4\n",
       "530    35.3\n",
       "531    32.0\n",
       "532    30.0\n",
       "533    36.0\n",
       "Name: ScoreRelation, Length: 522, dtype: float64"
      ]
     },
     "execution_count": 43,
     "metadata": {},
     "output_type": "execute_result"
    }
   ],
   "source": [
    "dfOk.loc[:,('ScoreRelation')]"
   ]
  },
  {
   "cell_type": "code",
   "execution_count": 44,
   "id": "6964ad65",
   "metadata": {},
   "outputs": [
    {
     "name": "stderr",
     "output_type": "stream",
     "text": [
      "C:\\Users\\THINKPAD\\AppData\\Local\\Temp\\ipykernel_29196\\1174329566.py:1: SettingWithCopyWarning: \n",
      "A value is trying to be set on a copy of a slice from a DataFrame.\n",
      "Try using .loc[row_indexer,col_indexer] = value instead\n",
      "\n",
      "See the caveats in the documentation: https://pandas.pydata.org/pandas-docs/stable/user_guide/indexing.html#returning-a-view-versus-a-copy\n",
      "  dfOk.loc[:,('ScoreRelation')] = winsorize(dfOk.loc[:,('ScoreRelation')], (0.05,0.05))\n"
     ]
    }
   ],
   "source": [
    "dfOk.loc[:,('ScoreRelation')] = winsorize(dfOk.loc[:,('ScoreRelation')], (0.05,0.05))"
   ]
  },
  {
   "cell_type": "code",
   "execution_count": 45,
   "id": "2f2844af",
   "metadata": {},
   "outputs": [
    {
     "data": {
      "image/png": "[encoded data removed]",
      "text/plain": [
       "<Figure size 720x504 with 1 Axes>"
      ]
     },
     "metadata": {
      "needs_background": "light"
     },
     "output_type": "display_data"
    }
   ],
   "source": [
    "plt.figure(figsize=(10, 7))\n",
    "plt.boxplot(dfOk['ScoreRelation'])\n",
    "plt.title('VISUALISATION DE ScoreRelation APRES WINZORISATION')\n",
    "plt.show()"
   ]
  },
  {
   "cell_type": "markdown",
   "id": "e30d7145",
   "metadata": {},
   "source": [
    "# II- Statistique Inferentielle"
   ]
  },
  {
   "cell_type": "markdown",
   "id": "8b1a4da8",
   "metadata": {},
   "source": [
    "## 1- Tests de comparaison de deux proportions"
   ]
  },
  {
   "cell_type": "markdown",
   "id": "da6f87c8",
   "metadata": {},
   "source": [
    "### a- *La proportion de sujets recommandant le service dans lequel ils sont passés est-il le même quel que soit le genre ?*\n"
   ]
  },
  {
   "cell_type": "raw",
   "id": "a8d2d288",
   "metadata": {},
   "source": [
    "En d'autres termes, est-ce que la proportion d'homme qui recommande un service est significativement differente de la proportion des femmes qui recommande?"
   ]
  },
  {
   "cell_type": "markdown",
   "id": "b17cee34",
   "metadata": {},
   "source": [
    "#### Selection et recodage des variables d'intérêt "
   ]
  },
  {
   "cell_type": "code",
   "execution_count": 46,
   "id": "bc0e6207",
   "metadata": {},
   "outputs": [],
   "source": [
    "# Modalité genre\n",
    "sexe = dfOk['sexe']\n",
    "\n",
    "# Modalité recommander\n",
    "recommander = dfOk['recommander']"
   ]
  },
  {
   "cell_type": "code",
   "execution_count": 47,
   "id": "41f71a08",
   "metadata": {},
   "outputs": [
    {
     "name": "stdout",
     "output_type": "stream",
     "text": [
      "0    homme\n",
      "1    femme\n",
      "2    femme\n",
      "3    homme\n",
      "4    femme\n",
      "Name: sexe, dtype: category\n",
      "Categories (2, object): ['homme', 'femme']\n"
     ]
    }
   ],
   "source": [
    "# Recoder les modalités\n",
    "# sexe = sexe.astype('category')\n",
    "sexe = sexe.replace({0:'homme', 1:'femme'})\n",
    "print(sexe.head())"
   ]
  },
  {
   "cell_type": "code",
   "execution_count": 48,
   "id": "5a04b4b2",
   "metadata": {},
   "outputs": [
    {
     "name": "stdout",
     "output_type": "stream",
     "text": [
      "0    Oui, probablement\n",
      "1        Oui, sûrement\n",
      "2        Oui, sûrement\n",
      "3        Oui, sûrement\n",
      "4    Oui, probablement\n",
      "Name: recommander, dtype: category\n",
      "Categories (3, object): ['Non', 'Oui, probablement', 'Oui, sûrement']\n"
     ]
    }
   ],
   "source": [
    "# Recoder les modalités\n",
    "recommander = recommander.replace({0:'Non', 1:'Oui, probablement', 2:'Oui, sûrement'})\n",
    "print(recommander.head())"
   ]
  },
  {
   "cell_type": "markdown",
   "id": "f9159c01",
   "metadata": {},
   "source": [
    "#### Effectifs et tableau de contingence "
   ]
  },
  {
   "cell_type": "code",
   "execution_count": 49,
   "id": "126f83ff",
   "metadata": {},
   "outputs": [
    {
     "name": "stdout",
     "output_type": "stream",
     "text": [
      "       nombre\n",
      "sexe         \n",
      "homme     262\n",
      "femme     260\n"
     ]
    }
   ],
   "source": [
    "# Afficher les effectifs par modalité \n",
    "Effsexe = sexe.value_counts().reset_index().rename(columns={'index':'sexe', 'sexe':'nombre' }).set_index('sexe')\n",
    "print(Effsexe)"
   ]
  },
  {
   "cell_type": "code",
   "execution_count": 50,
   "id": "c3fa7aaa",
   "metadata": {},
   "outputs": [
    {
     "name": "stdout",
     "output_type": "stream",
     "text": [
      "                   nombre\n",
      "recommandation           \n",
      "Oui, sûrement         273\n",
      "Oui, probablement     233\n",
      "Non                    16\n"
     ]
    }
   ],
   "source": [
    "# Afficher les effectifs par modalité \n",
    "Effrecom = recommander.value_counts().reset_index().rename(columns={'index':'recommandation', 'recommander':'nombre' }).set_index('recommandation')\n",
    "print(Effrecom)"
   ]
  },
  {
   "cell_type": "code",
   "execution_count": 51,
   "id": "baeecffb",
   "metadata": {},
   "outputs": [
    {
     "name": "stdout",
     "output_type": "stream",
     "text": [
      "sexe               homme  femme\n",
      "recommander                    \n",
      "Non                   10      6\n",
      "Oui, probablement    112    121\n",
      "Oui, sûrement        140    133\n"
     ]
    }
   ],
   "source": [
    "# Tableau de contingence\n",
    "tableau = pd.crosstab(recommander, sexe)\n",
    "print(tableau)"
   ]
  },
  {
   "cell_type": "code",
   "execution_count": 52,
   "id": "c02fd8ec",
   "metadata": {},
   "outputs": [],
   "source": [
    "# Tableau des effectifs marginaux\n",
    "margeCol = tableau.sum(axis=0)\n"
   ]
  },
  {
   "cell_type": "markdown",
   "id": "1308d36f",
   "metadata": {},
   "source": [
    "#### Les hypothèses"
   ]
  },
  {
   "cell_type": "raw",
   "id": "fcc2ce29",
   "metadata": {},
   "source": [
    "Les hypothèses sont:\n",
    "H0: Les recommandations sont significativement liées au genre.\n",
    "H1: Les recommandations ne sont pas significativement liées au genre."
   ]
  },
  {
   "cell_type": "markdown",
   "id": "4fa6e83a",
   "metadata": {},
   "source": [
    "#### Les Conditions "
   ]
  },
  {
   "cell_type": "markdown",
   "id": "a4f964c0",
   "metadata": {},
   "source": [
    "##### a- L'Independance des deux groupes"
   ]
  },
  {
   "cell_type": "code",
   "execution_count": 53,
   "id": "cf2121ab",
   "metadata": {},
   "outputs": [],
   "source": [
    "# # Visualisation de l'indépendance  QQplot\n",
    "\n",
    "# sm.qqplot(recommander, line='45', fit=True)\n",
    "# plt.title('QQ Plot')\n",
    "# plt.show()"
   ]
  },
  {
   "cell_type": "code",
   "execution_count": 54,
   "id": "b8e67773",
   "metadata": {},
   "outputs": [
    {
     "data": {
      "image/png": "[encoded data removed]",
      "text/plain": [
       "<Figure size 432x288 with 2 Axes>"
      ]
     },
     "metadata": {
      "needs_background": "light"
     },
     "output_type": "display_data"
    }
   ],
   "source": [
    "sns.heatmap(tableau, annot=True, cmap=\"YlGnBu\")\n",
    "plt.show()"
   ]
  },
  {
   "cell_type": "code",
   "execution_count": 55,
   "id": "c776bb13",
   "metadata": {},
   "outputs": [
    {
     "name": "stdout",
     "output_type": "stream",
     "text": [
      "Statistique de test du Chi-2 : 0.0\n",
      "Valeur p : 1.0\n",
      "Degrés de liberté : 0\n",
      "Tableau de fréquences attendues :\n",
      "[[262.]\n",
      " [260.]]\n",
      "On ne rejette pas l'hypothèse nulle. Les variables sont indépendantes.\n"
     ]
    }
   ],
   "source": [
    "# Test d'Independance pour la variable sexe\n",
    "\n",
    "# Effectuer le test du Chi-2\n",
    "chi2_stat, p_value, dof, expected = chi2_contingency(Effsexe)\n",
    "\n",
    "# Imprimer les résultats\n",
    "print(f\"Statistique de test du Chi-2 : {chi2_stat}\")\n",
    "print(f\"Valeur p : {p_value}\")\n",
    "print(f\"Degrés de liberté : {dof}\")\n",
    "print(\"Tableau de fréquences attendues :\")\n",
    "print(expected)\n",
    "\n",
    "# Interpréter les résultats\n",
    "alpha = 0.05\n",
    "if p_value < alpha:\n",
    "    print(\"On rejette l'hypothèse nulle. Les variables ne sont pas indépendantes.\")\n",
    "else:\n",
    "    print(\"On ne rejette pas l'hypothèse nulle. Les variables sont indépendantes.\")"
   ]
  },
  {
   "cell_type": "code",
   "execution_count": 56,
   "id": "b4cf2fd3",
   "metadata": {},
   "outputs": [
    {
     "name": "stdout",
     "output_type": "stream",
     "text": [
      "Statistique de test du Chi-2 : 0.0\n",
      "Valeur p : 1.0\n",
      "Degrés de liberté : 0\n",
      "Tableau de fréquences attendues :\n",
      "[[273.]\n",
      " [233.]\n",
      " [ 16.]]\n",
      "On ne rejette pas l'hypothèse nulle. Les variables sont indépendantes.\n"
     ]
    }
   ],
   "source": [
    "# Test d'Independance pour la variable recommander\n",
    "\n",
    "# Effectuer le test du Chi-2\n",
    "chi2_stat, p_value, dof, expected = chi2_contingency(Effrecom)\n",
    "\n",
    "# Imprimer les résultats\n",
    "print(f\"Statistique de test du Chi-2 : {chi2_stat}\")\n",
    "print(f\"Valeur p : {p_value}\")\n",
    "print(f\"Degrés de liberté : {dof}\")\n",
    "print(\"Tableau de fréquences attendues :\")\n",
    "print(expected)\n",
    "\n",
    "# Interpréter les résultats\n",
    "alpha = 0.05\n",
    "if p_value < alpha:\n",
    "    print(\"On rejette l'hypothèse nulle. Les variables ne sont pas indépendantes.\")\n",
    "else:\n",
    "    print(\"On ne rejette pas l'hypothèse nulle. Les variables sont indépendantes.\")"
   ]
  },
  {
   "cell_type": "code",
   "execution_count": 57,
   "id": "a1707bdd",
   "metadata": {},
   "outputs": [
    {
     "name": "stdout",
     "output_type": "stream",
     "text": [
      "Statistique de test du Chi-2 : 1.5194861349100022\n",
      "Valeur p : 0.4677866011728772\n",
      "Degrés de liberté : 2\n",
      "Tableau de fréquences attendues :\n",
      "[[  8.03065134   7.96934866]\n",
      " [116.94636015 116.05363985]\n",
      " [137.02298851 135.97701149]]\n",
      "On ne rejette pas l'hypothèse nulle. Les variables sont indépendantes.\n"
     ]
    }
   ],
   "source": [
    "# Test d'Independance pour les variables catégorielles\n",
    "\n",
    "# Effectuer le test du Chi-2\n",
    "chi2_stat, p_value, dof, expected = chi2_contingency(tableau)\n",
    "\n",
    "# Imprimer les résultats\n",
    "print(f\"Statistique de test du Chi-2 : {chi2_stat}\")\n",
    "print(f\"Valeur p : {p_value}\")\n",
    "print(f\"Degrés de liberté : {dof}\")\n",
    "print(\"Tableau de fréquences attendues :\")\n",
    "print(expected)\n",
    "\n",
    "# Interpréter les résultats\n",
    "alpha = 0.05\n",
    "if p_value < alpha:\n",
    "    print(\"On rejette l'hypothèse nulle. Les variables ne sont pas indépendantes.\")\n",
    "else:\n",
    "    print(\"On ne rejette pas l'hypothèse nulle. Les variables sont indépendantes.\")"
   ]
  },
  {
   "cell_type": "raw",
   "id": "1f0eff68",
   "metadata": {},
   "source": [
    "Conclusion: les differentes variables sont Indépendantes"
   ]
  },
  {
   "cell_type": "markdown",
   "id": "fa1e9c36",
   "metadata": {},
   "source": [
    "##### b- La normalité des deux groupes"
   ]
  },
  {
   "cell_type": "raw",
   "id": "ed06e3f5",
   "metadata": {},
   "source": [
    "La taille de la population est superieur à 30, donc nous pouvons supposer que les variables suivent la Loi normale"
   ]
  },
  {
   "cell_type": "markdown",
   "id": "b8e53333",
   "metadata": {},
   "source": [
    "##### c- Z-test"
   ]
  },
  {
   "cell_type": "code",
   "execution_count": 58,
   "id": "2a098078",
   "metadata": {},
   "outputs": [
    {
     "ename": "NotImplementedError",
     "evalue": "more than two samples are not implemented yet",
     "output_type": "error",
     "traceback": [
      "\u001b[1;31m---------------------------------------------------------------------------\u001b[0m",
      "\u001b[1;31mNotImplementedError\u001b[0m                       Traceback (most recent call last)",
      "Input \u001b[1;32mIn [58]\u001b[0m, in \u001b[0;36m<cell line: 2>\u001b[1;34m()\u001b[0m\n\u001b[0;32m      1\u001b[0m \u001b[38;5;66;03m# Effectuer le test Z pour les proportions\u001b[39;00m\n\u001b[1;32m----> 2\u001b[0m stat, p_value \u001b[38;5;241m=\u001b[39m \u001b[43mproportions_ztest\u001b[49m\u001b[43m(\u001b[49m\u001b[43mtableau\u001b[49m\u001b[43m[\u001b[49m\u001b[38;5;124;43m'\u001b[39;49m\u001b[38;5;124;43mfemme\u001b[39;49m\u001b[38;5;124;43m'\u001b[39;49m\u001b[43m]\u001b[49m\u001b[43m,\u001b[49m\u001b[43m \u001b[49m\u001b[43mtableau\u001b[49m\u001b[43m[\u001b[49m\u001b[38;5;124;43m'\u001b[39;49m\u001b[38;5;124;43mhomme\u001b[39;49m\u001b[38;5;124;43m'\u001b[39;49m\u001b[43m]\u001b[49m\u001b[43m)\u001b[49m\n\u001b[0;32m      4\u001b[0m \u001b[38;5;66;03m# Imprimer les résultats\u001b[39;00m\n\u001b[0;32m      5\u001b[0m \u001b[38;5;28mprint\u001b[39m(\u001b[38;5;124mf\u001b[39m\u001b[38;5;124m\"\u001b[39m\u001b[38;5;124mStatistique de test Z : \u001b[39m\u001b[38;5;132;01m{\u001b[39;00mstat\u001b[38;5;132;01m}\u001b[39;00m\u001b[38;5;124m\"\u001b[39m)\n",
      "File \u001b[1;32m~\\Anaconda3\\lib\\site-packages\\statsmodels\\stats\\proportion.py:851\u001b[0m, in \u001b[0;36mproportions_ztest\u001b[1;34m(count, nobs, value, alternative, prop_var)\u001b[0m\n\u001b[0;32m    849\u001b[0m \u001b[38;5;28;01melse\u001b[39;00m:\n\u001b[0;32m    850\u001b[0m     msg \u001b[38;5;241m=\u001b[39m \u001b[38;5;124m'\u001b[39m\u001b[38;5;124mmore than two samples are not implemented yet\u001b[39m\u001b[38;5;124m'\u001b[39m\n\u001b[1;32m--> 851\u001b[0m     \u001b[38;5;28;01mraise\u001b[39;00m \u001b[38;5;167;01mNotImplementedError\u001b[39;00m(msg)\n\u001b[0;32m    853\u001b[0m p_pooled \u001b[38;5;241m=\u001b[39m np\u001b[38;5;241m.\u001b[39msum(count) \u001b[38;5;241m*\u001b[39m \u001b[38;5;241m1.\u001b[39m \u001b[38;5;241m/\u001b[39m np\u001b[38;5;241m.\u001b[39msum(nobs)\n\u001b[0;32m    855\u001b[0m nobs_fact \u001b[38;5;241m=\u001b[39m np\u001b[38;5;241m.\u001b[39msum(\u001b[38;5;241m1.\u001b[39m \u001b[38;5;241m/\u001b[39m nobs)\n",
      "\u001b[1;31mNotImplementedError\u001b[0m: more than two samples are not implemented yet"
     ]
    }
   ],
   "source": [
    "# Effectuer le test Z pour les proportions\n",
    "stat, p_value = proportions_ztest(tableau['femme'], tableau['homme'])\n",
    "\n",
    "# Imprimer les résultats\n",
    "print(f\"Statistique de test Z : {stat}\")\n",
    "print(f\"Valeur p : {p_value}\")\n",
    "\n",
    "# Interpréter les résultats\n",
    "alpha = 0.05\n",
    "if p_value < alpha:\n",
    "    print(\"On rejette l'hypothèse nulle. Il y a une différence significative entre les proportions.\")\n",
    "else:\n",
    "    print(\"On ne rejette pas l'hypothèse nulle. Il n'y a pas de différence significative entre les proportions.\")"
   ]
  },
  {
   "cell_type": "raw",
   "id": "4fca899e",
   "metadata": {},
   "source": [
    "Ce test ne fonctionne pas au-delà de deux proportions à tester"
   ]
  },
  {
   "cell_type": "markdown",
   "id": "4cfadfae",
   "metadata": {},
   "source": [
    "##### c- Aternative test de Khy-deux"
   ]
  },
  {
   "cell_type": "code",
   "execution_count": 59,
   "id": "6825165f",
   "metadata": {},
   "outputs": [
    {
     "name": "stdout",
     "output_type": "stream",
     "text": [
      "Statistique de test du Chi-2 : 1.5194861349100022\n",
      "Valeur p : 0.4677866011728772\n",
      "Degrés de liberté : 2\n",
      "Tableau de fréquences attendues :\n",
      "[[  8.03065134   7.96934866]\n",
      " [116.94636015 116.05363985]\n",
      " [137.02298851 135.97701149]]\n",
      "On ne rejette pas l'hypothèse nulle. Il n'y a pas de différence significative entre les proportions.\n"
     ]
    }
   ],
   "source": [
    "# Effectuer le test du Chi-2\n",
    "chi2_stat, p_value, dof, expected = chi2_contingency(tableau)\n",
    "\n",
    "# Imprimer les résultats\n",
    "print(f\"Statistique de test du Chi-2 : {chi2_stat}\")\n",
    "print(f\"Valeur p : {p_value}\")\n",
    "print(f\"Degrés de liberté : {dof}\")\n",
    "print(\"Tableau de fréquences attendues :\")\n",
    "print(expected)\n",
    "\n",
    "# Interpréter les résultats\n",
    "alpha = 0.05\n",
    "if p_value < alpha:\n",
    "    print(\"On rejette l'hypothèse nulle. Il y a une différence significative entre les proportions.\")\n",
    "else:\n",
    "    print(\"On ne rejette pas l'hypothèse nulle. Il n'y a pas de différence significative entre les proportions.\")"
   ]
  },
  {
   "cell_type": "raw",
   "id": "b25634b4",
   "metadata": {},
   "source": [
    "En conclusion, la proportion de sujets recommandant le service dans lequel il est passée est le même quelque soit le genre.\n",
    "C'est à dire que la proportion des femmes qui recommandent les service n'est pas significativement different de la celle des hommes. "
   ]
  },
  {
   "cell_type": "markdown",
   "id": "b01477d0",
   "metadata": {},
   "source": [
    "### b- *La moyenne du score de relation est-il significativement différent chez les hommes et chez les femmes ?*\n"
   ]
  },
  {
   "cell_type": "raw",
   "id": "cf8b1a9e",
   "metadata": {},
   "source": [
    "En d'autres termes, le score relatif à la qualité de la relation avec le personnel soignant lors du sejour est-il significativement different d'un sexe à l'autre ?\n",
    "\n",
    "La question \"La moyenne du score de relation est-elle significativement différente chez les hommes et chez les femmes ?\" suggère que nous souhaitons déterminer s'il existe une différence significative dans les scores de relation entre deux groupes, à savoir les hommes et les femmes. Cela peut être interprété comme une comparaison des moyennes des scores de relation entre ces deux groupes."
   ]
  },
  {
   "cell_type": "markdown",
   "id": "3ff382e3",
   "metadata": {},
   "source": [
    "#### Selection et recodage des variables d'intérêt "
   ]
  },
  {
   "cell_type": "code",
   "execution_count": 60,
   "id": "d2175712",
   "metadata": {},
   "outputs": [],
   "source": [
    "# Modalité genre\n",
    "sexe = dfOk['sexe']\n",
    "\n",
    "# Modalité Scorerelation\n",
    "relation = dfOk['ScoreRelation']"
   ]
  },
  {
   "cell_type": "code",
   "execution_count": 61,
   "id": "4ed69cb8",
   "metadata": {},
   "outputs": [
    {
     "name": "stdout",
     "output_type": "stream",
     "text": [
      "0    homme\n",
      "1    femme\n",
      "2    femme\n",
      "3    homme\n",
      "4    femme\n",
      "Name: sexe, dtype: category\n",
      "Categories (2, object): ['homme', 'femme']\n"
     ]
    }
   ],
   "source": [
    "# Recoder les modalités\n",
    "# sexe = sexe.astype('category')\n",
    "sexe = sexe.replace({0:'homme', 1:'femme'})\n",
    "print(sexe.head())"
   ]
  },
  {
   "cell_type": "code",
   "execution_count": null,
   "id": "d738294d",
   "metadata": {},
   "outputs": [],
   "source": []
  },
  {
   "cell_type": "markdown",
   "id": "80fc1aa9",
   "metadata": {},
   "source": [
    "#### 1- Comparaison graphique des sous-populations  "
   ]
  },
  {
   "cell_type": "code",
   "execution_count": null,
   "id": "2708f56c",
   "metadata": {},
   "outputs": [],
   "source": [
    "plt.figure(figsize=(10, 10))\n",
    "sns.boxplot(data=dfOk, x='sexe', y='ScoreRelation')\n",
    "plt.xticks([0, 1], ['Homme', 'Femme'])\n",
    "plt.show()"
   ]
  },
  {
   "cell_type": "raw",
   "id": "8ce4db6f",
   "metadata": {},
   "source": [
    "La visualisation graphique nous montre qu'il n'y a pas grande difference entre les boîtes à moustache "
   ]
  },
  {
   "cell_type": "markdown",
   "id": "f72d8e8e",
   "metadata": {},
   "source": [
    "#### 2- Stat de base des sous-populations  "
   ]
  },
  {
   "cell_type": "code",
   "execution_count": null,
   "id": "bbd184f0",
   "metadata": {},
   "outputs": [],
   "source": [
    "means = dfOk.groupby('sexe')['ScoreRelation'].mean()\n",
    "print('Les moyennes de Score relation par Sexe sont: \\n', means)\n",
    "\n",
    "ecartp = dfOk.groupby('sexe')['ScoreRelation'].std()\n",
    "print('Les ecarts-types de Score relation par Sexe sont: \\n', ecartp)"
   ]
  },
  {
   "cell_type": "markdown",
   "id": "0a029cb6",
   "metadata": {},
   "source": [
    "#### 3- Test de normalite dans chaque sous-populations  "
   ]
  },
  {
   "cell_type": "code",
   "execution_count": null,
   "id": "c13ce53b",
   "metadata": {},
   "outputs": [],
   "source": [
    "for sexe in dfOk['sexe'].unique():\n",
    "    stat, p = shapiro(dfOk['ScoreRelation'][dfOk['sexe'] == sexe]) \n",
    "    print(f\"Shapiro test pour la modalité {sexe}: Statistic={stat:.5f}, P-value={p:.5f}\") \n",
    "    \n",
    "    # Interprétation \n",
    "    alpha = 0.05 \n",
    "    if p > alpha: \n",
    "        print(\"L'échantillon semble suivre une distribution normale (on ne rejette pas H0)\\n\") \n",
    "    else: \n",
    "        print(\"L'échantillon ne semble pas suivre une distribution normale (on rejette H0)\\n\") \n",
    "    "
   ]
  },
  {
   "cell_type": "raw",
   "id": "ecddfd8e",
   "metadata": {},
   "source": [
    "Le test de Normalité n est pas vérifié alors nous testerons l egalite des moyenne par le test de Wilcox"
   ]
  },
  {
   "cell_type": "markdown",
   "id": "d269120c",
   "metadata": {},
   "source": [
    "#### 4- Tester l’égalité des variances "
   ]
  },
  {
   "cell_type": "code",
   "execution_count": null,
   "id": "b60f04b1",
   "metadata": {},
   "outputs": [],
   "source": [
    "groups = [dfOk['ScoreRelation'][dfOk['sexe'] == sexe] for sexe in dfOk['sexe'].unique()] \n",
    "stat, p = bartlett(*groups) \n",
    "\n",
    "print(f\"\\nBartlett test: Statistic={stat:.5f}, P-value={p:.5f}\")\n",
    "\n",
    "alpha = 0.05\n",
    "if p > alpha:\n",
    "    print(\"On ne rejette pas H0, l'egalite des variances est vérifiée.\")\n",
    "else :\n",
    "    print(\"On rejette H0, la variance est differente d une sous-pop à l'autre.\")"
   ]
  },
  {
   "cell_type": "code",
   "execution_count": null,
   "id": "6aea7736",
   "metadata": {},
   "outputs": [],
   "source": [
    "ScoreH = dfOk['ScoreRelation'][dfOk['sexe'] == 0].values\n",
    "\n",
    "\n",
    "ScoreF = dfOk['ScoreRelation'][dfOk['sexe'] == 1].values\n"
   ]
  },
  {
   "cell_type": "markdown",
   "id": "fc3c5e6e",
   "metadata": {},
   "source": [
    "#### 5- Tester la significativité du facteur: tester l’égalité des moyennes"
   ]
  },
  {
   "cell_type": "code",
   "execution_count": null,
   "id": "69006d03",
   "metadata": {},
   "outputs": [],
   "source": [
    "# Effectuer le test de Wilcoxon-Mann-Whitney\n",
    "statistic, p_value = wilcoxon(ScoreH, ScoreF)\n",
    "\n",
    "# Afficher les résultats\n",
    "print(\"Statistique U de Wilcoxon-Mann-Whitney :\", statistic)\n",
    "print(\"P-valeur :\", p_value)\n",
    "\n",
    "# Interpréter les résultats\n",
    "alpha = 0.05\n",
    "if p_value < alpha:\n",
    "    print(\"La différence entre les deux groupes est statistiquement significative.\")\n",
    "else:\n",
    "    print(\"Il n'y a pas de différence significative entre les deux groupes.\")"
   ]
  },
  {
   "cell_type": "code",
   "execution_count": null,
   "id": "d95e89e9",
   "metadata": {},
   "outputs": [],
   "source": [
    "hommes = dfOk[dfOk['sexe'] == '0']['ScoreRelation']\n",
    "femmes = dfOk[dfOk['sexe'] == '1']['ScoreRelation']"
   ]
  },
  {
   "cell_type": "code",
   "execution_count": null,
   "id": "91edf88a",
   "metadata": {},
   "outputs": [],
   "source": [
    "hommes"
   ]
  },
  {
   "cell_type": "code",
   "execution_count": null,
   "id": "52cdcd00",
   "metadata": {},
   "outputs": [],
   "source": [
    "# Estimation des statistiques de base par sous-population\n",
    "print(hopital_propre.groupby('sexe')['score.relation'].describe())\n",
    "#calcul de variance\n",
    "print(hopital_propre.groupby('sexe')['score.relation'].var())\n",
    "\n",
    "# 3ème étape :Test de Shapiro pour vérifier la normalité par sous-population\n",
    "\n",
    "from scipy.stats import shapiro\n",
    "# Effectuer le test de normalité (Shapiro-Wilk) par sous-population\n",
    "grouped_data = hopital_propre.groupby('sexe')['score.relation']\n",
    "\n",
    "for group_name, group_data in grouped_data:\n",
    "    stat, p_value = shapiro(group_data)\n",
    "    print(f\"Pour la sous-population '{group_name}':\")\n",
    "    print(f\"Statistique de test : {stat}\")\n",
    "    print(f\"Valeur de p : {p_value}\")\n",
    "    if p_value > 0.05:\n",
    "        print(\"Les données semblent suivre une distribution normale.\")\n",
    "    else:\n",
    "        print(\"Les données ne suivent probablement pas une distribution normale.\")\n",
    "    print()\n",
    "        \n",
    "#4ème étape : le test de Mann-Whitney U \n",
    "\n",
    "from scipy.stats import mannwhitneyu\n",
    "\n",
    "hommes = hopital_propre[hopital_propre['sexe'] == 'homme']['score.relation']\n",
    "femmes = hopital_propre[hopital_propre['sexe'] == 'femme']['score.relation']\n",
    "\n",
    "stat, p_value = mannwhitneyu(hommes, femmes)\n",
    "print(f\"Test de Mann-Whitney U : Statistique de test = {stat}, p-value = {p_value}\")\n",
    "\n",
    "if p_value < 0.05:\n",
    "    print(\"Il y a une différence significative entre les groupes.\")\n",
    "else:\n",
    "    print(\"Il n'y a pas de différence significative entre les groupes.\")"
   ]
  },
  {
   "cell_type": "markdown",
   "id": "b75d7c86",
   "metadata": {},
   "source": [
    "### Variable age"
   ]
  },
  {
   "cell_type": "code",
   "execution_count": null,
   "id": "bdff5375",
   "metadata": {},
   "outputs": [],
   "source": [
    "age = dfOk.loc[:, 'age']\n"
   ]
  },
  {
   "cell_type": "code",
   "execution_count": null,
   "id": "819fdacc",
   "metadata": {},
   "outputs": [],
   "source": [
    "# Histogramme\n",
    "plt.figure(figsize=(15,6))\n",
    "plt.subplot(121)\n",
    "sns.distplot(a=age, bins=10, color='red',\n",
    "             hist_kws={\"edgecolor\": 'white'})\n",
    "plt.xlabel('Ages des patients')\n",
    "plt.title(\"REPARTITION DES AGES DES PATIENTS\")\n",
    "\n",
    "# Boîte à moustaches \n",
    "plt.subplot(122)\n",
    "sns.boxplot(data=age, color='red')\n",
    "# plt.xlabel('Ages des patients')\n",
    "plt.title(\"BOITE À MOUSTACHE DES AGES DES PATIENTS\")\n",
    "plt.show()"
   ]
  },
  {
   "cell_type": "code",
   "execution_count": null,
   "id": "e685640b",
   "metadata": {},
   "outputs": [],
   "source": [
    "# Test de normalité\n",
    "stats.normaltest(age)"
   ]
  },
  {
   "cell_type": "code",
   "execution_count": null,
   "id": "a3351b5c",
   "metadata": {},
   "outputs": [],
   "source": [
    "# Resumé stat de l'age\n",
    "round(age.describe(), 0)"
   ]
  },
  {
   "cell_type": "code",
   "execution_count": null,
   "id": "b113faf5",
   "metadata": {},
   "outputs": [],
   "source": [
    "age.skew()"
   ]
  },
  {
   "cell_type": "code",
   "execution_count": null,
   "id": "417e581b",
   "metadata": {},
   "outputs": [],
   "source": [
    "age.kurtosis()"
   ]
  },
  {
   "cell_type": "code",
   "execution_count": null,
   "id": "31f8ea63",
   "metadata": {},
   "outputs": [],
   "source": [
    "TabEffAge = age.value_counts().reset_index().rename(columns={'index':'Age', 'age':'Nombre'})"
   ]
  },
  {
   "cell_type": "code",
   "execution_count": null,
   "id": "c1d5f6b7",
   "metadata": {},
   "outputs": [],
   "source": [
    "TabEffAge.sort_values(by='Age').head()"
   ]
  },
  {
   "cell_type": "markdown",
   "id": "7bc1553c",
   "metadata": {},
   "source": [
    "### Variable ScoreRelation"
   ]
  },
  {
   "cell_type": "code",
   "execution_count": null,
   "id": "7ac9ba02",
   "metadata": {},
   "outputs": [],
   "source": [
    "ScoreRelation = dfOk.loc[:, 'ScoreRelation']"
   ]
  },
  {
   "cell_type": "code",
   "execution_count": null,
   "id": "897f1f80",
   "metadata": {},
   "outputs": [],
   "source": [
    "# Histogramme\n",
    "plt.figure(figsize=(15,5))\n",
    "plt.subplot(121)\n",
    "# sns.histplot(ScoreRelation)\n",
    "sns.distplot(a=ScoreRelation, bins=10, color='blue',\n",
    "             hist_kws={\"edgecolor\": 'white'})\n",
    "plt.xlabel('ScoreRelations des patients')\n",
    "plt.title(\"REPARTITION DES ScoreRelations DES PATIENTS\")\n",
    "\n",
    "# Boîte à moustaches \n",
    "plt.subplot(122)\n",
    "sns.boxplot(data=ScoreRelation)\n",
    "# plt.xlabel('Score des patients')\n",
    "plt.title(\"BOÎTE À MOUSTACHE\")\n",
    "plt.show()"
   ]
  },
  {
   "cell_type": "code",
   "execution_count": null,
   "id": "0b10e7e8",
   "metadata": {},
   "outputs": [],
   "source": [
    "#Fonction pour faire le test de Normalité \n",
    "\n",
    "res = [0, 0, 0]\n",
    "\n",
    "for col in dfOk.columns:\n",
    "    if dfOk[col].dtype == 'float64':\n",
    "        for i in range(3):\n",
    "            res[i] = stats.normaltest(dfOk[col]).pvalue\n",
    "        print(f\"La p-value de _{col}_ est: {res[0]}\")\n",
    "        \n",
    "if (res[0]>0.05)==True:\n",
    "    print(\"On accepte H0, la distribution est normale.\")\n",
    "else:\n",
    "    print(\"On rejette H0, la distribution n'est pas normale.\")"
   ]
  },
  {
   "cell_type": "code",
   "execution_count": null,
   "id": "17c8a1cc",
   "metadata": {},
   "outputs": [],
   "source": [
    "res = []\n",
    "\n",
    "for col in dfOk.columns:\n",
    "    if dfOk[col].dtype == 'float64':\n",
    "        p_values = [stats.normaltest(dfOk[col]).pvalue]\n",
    "        res.append((col, p_values))\n",
    "\n",
    "for col, p_values in res:\n",
    "    print(f\"La p-value du test de normalité pour la colonne {col} est : {p_values}\")\n",
    "\n",
    "    if all(p_value > 0.05 for p_value in p_values):\n",
    "        print(f\"On accepte H0 pour la colonne {col}, la distribution est normale.\\n\")\n",
    "    else:\n",
    "        print(f\"On rejette H0 pour la colonne {col}, la distribution n'est pas normale.\\n\")\n"
   ]
  },
  {
   "cell_type": "code",
   "execution_count": null,
   "id": "e1d06320",
   "metadata": {},
   "outputs": [],
   "source": [
    "# Resumé stat de l'age\n",
    "round(ScoreRelation.describe(), 0)"
   ]
  },
  {
   "cell_type": "code",
   "execution_count": null,
   "id": "c41395ab",
   "metadata": {},
   "outputs": [],
   "source": [
    "round(ScoreRelation.skew(), 2)"
   ]
  },
  {
   "cell_type": "code",
   "execution_count": null,
   "id": "8161f9bd",
   "metadata": {},
   "outputs": [],
   "source": [
    "def stat_descriptive(tableau):\n",
    "    \n",
    "    resume_stat = print(\"Les statistiques descriptives sont: \\n\", round(tableau.describe(), 2), \"\\n\")\n",
    "    skewness = print(\"Le skewness est:\", round(tableau.skew(), 2), \"\\n\")\n",
    "    kurto = print(\"Le kurtosis est :\", round(tableau.kurtosis(), 2), \"\\n\")\n",
    "    \n",
    "    return(resume_stat, skewness, kurto);"
   ]
  },
  {
   "cell_type": "code",
   "execution_count": null,
   "id": "7dfe260d",
   "metadata": {},
   "outputs": [],
   "source": [
    "stat_descriptive(ScoreRelation)"
   ]
  },
  {
   "cell_type": "code",
   "execution_count": null,
   "id": "632a7b55",
   "metadata": {},
   "outputs": [],
   "source": []
  }
 ],
 "metadata": {
  "kernelspec": {
   "display_name": "Python 3 (ipykernel)",
   "language": "python",
   "name": "python3"
  },
  "language_info": {
   "codemirror_mode": {
    "name": "ipython",
    "version": 3
   },
   "file_extension": ".py",
   "mimetype": "text/x-python",
   "name": "python",
   "nbconvert_exporter": "python",
   "pygments_lexer": "ipython3",
   "version": "3.9.12"
  }
 },
 "nbformat": 4,
 "nbformat_minor": 5
}
