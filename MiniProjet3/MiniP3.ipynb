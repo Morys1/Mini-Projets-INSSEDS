{
 "cells": [
  {
   "cell_type": "markdown",
   "id": "07a75ce9",
   "metadata": {},
   "source": [
    "# MINI-PROJET STAT INFERENTIELLE"
   ]
  },
  {
   "cell_type": "code",
   "execution_count": 131,
   "id": "02cec417",
   "metadata": {},
   "outputs": [],
   "source": [
    "import numpy as np\n",
    "import pandas as pd\n",
    "import matplotlib.pyplot as plt\n",
    "import seaborn as sns\n",
    "import scipy.stats as stats\n",
    "import missingno as msno # Visualiser les NaN"
   ]
  },
  {
   "cell_type": "markdown",
   "id": "4cbdcfb3",
   "metadata": {},
   "source": [
    "## Importation et lecture du Jeu de données "
   ]
  },
  {
   "cell_type": "code",
   "execution_count": 132,
   "id": "6805dcdc",
   "metadata": {},
   "outputs": [],
   "source": [
    "donnees = pd.read_csv(\"satisfaction_hopital.csv\", sep=';')"
   ]
  },
  {
   "cell_type": "code",
   "execution_count": 133,
   "id": "fa7e0289",
   "metadata": {},
   "outputs": [],
   "source": [
    "df = donnees.copy()"
   ]
  },
  {
   "cell_type": "code",
   "execution_count": 134,
   "id": "d5dfa74f",
   "metadata": {},
   "outputs": [
    {
     "data": {
      "text/html": [
       "<div>\n",
       "<style scoped>\n",
       "    .dataframe tbody tr th:only-of-type {\n",
       "        vertical-align: middle;\n",
       "    }\n",
       "\n",
       "    .dataframe tbody tr th {\n",
       "        vertical-align: top;\n",
       "    }\n",
       "\n",
       "    .dataframe thead th {\n",
       "        text-align: right;\n",
       "    }\n",
       "</style>\n",
       "<table border=\"1\" class=\"dataframe\">\n",
       "  <thead>\n",
       "    <tr style=\"text-align: right;\">\n",
       "      <th></th>\n",
       "      <th>service</th>\n",
       "      <th>sexe</th>\n",
       "      <th>age</th>\n",
       "      <th>profession</th>\n",
       "      <th>amelioration.sante</th>\n",
       "      <th>amelioration.moral</th>\n",
       "      <th>recommander</th>\n",
       "      <th>score.relation</th>\n",
       "      <th>score,information</th>\n",
       "    </tr>\n",
       "  </thead>\n",
       "  <tbody>\n",
       "    <tr>\n",
       "      <th>0</th>\n",
       "      <td>3</td>\n",
       "      <td>0</td>\n",
       "      <td>41.0</td>\n",
       "      <td>4.0</td>\n",
       "      <td>1.0</td>\n",
       "      <td>0.0</td>\n",
       "      <td>1.0</td>\n",
       "      <td>36.0</td>\n",
       "      <td>22.0</td>\n",
       "    </tr>\n",
       "    <tr>\n",
       "      <th>1</th>\n",
       "      <td>3</td>\n",
       "      <td>1</td>\n",
       "      <td>29.0</td>\n",
       "      <td>8.0</td>\n",
       "      <td>2.0</td>\n",
       "      <td>3.0</td>\n",
       "      <td>2.0</td>\n",
       "      <td>33.0</td>\n",
       "      <td>36.0</td>\n",
       "    </tr>\n",
       "    <tr>\n",
       "      <th>2</th>\n",
       "      <td>3</td>\n",
       "      <td>1</td>\n",
       "      <td>83.0</td>\n",
       "      <td>2.0</td>\n",
       "      <td>2.0</td>\n",
       "      <td>1.0</td>\n",
       "      <td>2.0</td>\n",
       "      <td>40.0</td>\n",
       "      <td>37.0</td>\n",
       "    </tr>\n",
       "    <tr>\n",
       "      <th>3</th>\n",
       "      <td>3</td>\n",
       "      <td>0</td>\n",
       "      <td>66.0</td>\n",
       "      <td>3.0</td>\n",
       "      <td>2.0</td>\n",
       "      <td>0.0</td>\n",
       "      <td>2.0</td>\n",
       "      <td>32.0</td>\n",
       "      <td>35.0</td>\n",
       "    </tr>\n",
       "    <tr>\n",
       "      <th>4</th>\n",
       "      <td>3</td>\n",
       "      <td>1</td>\n",
       "      <td>84.0</td>\n",
       "      <td>NaN</td>\n",
       "      <td>NaN</td>\n",
       "      <td>NaN</td>\n",
       "      <td>NaN</td>\n",
       "      <td>NaN</td>\n",
       "      <td>NaN</td>\n",
       "    </tr>\n",
       "  </tbody>\n",
       "</table>\n",
       "</div>"
      ],
      "text/plain": [
       "   service  sexe   age  profession  amelioration.sante  amelioration.moral  \\\n",
       "0        3     0  41.0         4.0                 1.0                 0.0   \n",
       "1        3     1  29.0         8.0                 2.0                 3.0   \n",
       "2        3     1  83.0         2.0                 2.0                 1.0   \n",
       "3        3     0  66.0         3.0                 2.0                 0.0   \n",
       "4        3     1  84.0         NaN                 NaN                 NaN   \n",
       "\n",
       "   recommander  score.relation  score,information  \n",
       "0          1.0            36.0               22.0  \n",
       "1          2.0            33.0               36.0  \n",
       "2          2.0            40.0               37.0  \n",
       "3          2.0            32.0               35.0  \n",
       "4          NaN             NaN                NaN  "
      ]
     },
     "execution_count": 134,
     "metadata": {},
     "output_type": "execute_result"
    }
   ],
   "source": [
    "df.head()"
   ]
  },
  {
   "cell_type": "code",
   "execution_count": 135,
   "id": "2a00822c",
   "metadata": {},
   "outputs": [
    {
     "name": "stdout",
     "output_type": "stream",
     "text": [
      "<class 'pandas.core.frame.DataFrame'>\n",
      "RangeIndex: 534 entries, 0 to 533\n",
      "Data columns (total 9 columns):\n",
      " #   Column              Non-Null Count  Dtype  \n",
      "---  ------              --------------  -----  \n",
      " 0   service             534 non-null    int64  \n",
      " 1   sexe                534 non-null    int64  \n",
      " 2   age                 528 non-null    float64\n",
      " 3   profession          427 non-null    float64\n",
      " 4   amelioration.sante  376 non-null    float64\n",
      " 5   amelioration.moral  383 non-null    float64\n",
      " 6   recommander         405 non-null    float64\n",
      " 7   score.relation      349 non-null    float64\n",
      " 8   score,information   358 non-null    float64\n",
      "dtypes: float64(7), int64(2)\n",
      "memory usage: 37.7 KB\n"
     ]
    }
   ],
   "source": [
    "df.info()"
   ]
  },
  {
   "cell_type": "code",
   "execution_count": 136,
   "id": "b144144e",
   "metadata": {},
   "outputs": [],
   "source": [
    "# Renommer les colonnes\n",
    "df.rename(columns={'amelioration.sante':'AmelioSante', 'amelioration.moral':'AmelioMorale', \n",
    "                   'score.relation':'ScoreRelation', 'score,information':'ScoreInfo'}, inplace=True)"
   ]
  },
  {
   "cell_type": "code",
   "execution_count": 7,
   "id": "46493317",
   "metadata": {},
   "outputs": [
    {
     "data": {
      "text/html": [
       "<div>\n",
       "<style scoped>\n",
       "    .dataframe tbody tr th:only-of-type {\n",
       "        vertical-align: middle;\n",
       "    }\n",
       "\n",
       "    .dataframe tbody tr th {\n",
       "        vertical-align: top;\n",
       "    }\n",
       "\n",
       "    .dataframe thead th {\n",
       "        text-align: right;\n",
       "    }\n",
       "</style>\n",
       "<table border=\"1\" class=\"dataframe\">\n",
       "  <thead>\n",
       "    <tr style=\"text-align: right;\">\n",
       "      <th></th>\n",
       "      <th>service</th>\n",
       "      <th>sexe</th>\n",
       "      <th>age</th>\n",
       "      <th>profession</th>\n",
       "      <th>AmelioSante</th>\n",
       "      <th>AmelioMorale</th>\n",
       "      <th>recommander</th>\n",
       "      <th>ScoreRelation</th>\n",
       "      <th>ScoreInfo</th>\n",
       "    </tr>\n",
       "  </thead>\n",
       "  <tbody>\n",
       "    <tr>\n",
       "      <th>0</th>\n",
       "      <td>3</td>\n",
       "      <td>0</td>\n",
       "      <td>41.0</td>\n",
       "      <td>4.0</td>\n",
       "      <td>1.0</td>\n",
       "      <td>0.0</td>\n",
       "      <td>1.0</td>\n",
       "      <td>36.0</td>\n",
       "      <td>22.0</td>\n",
       "    </tr>\n",
       "    <tr>\n",
       "      <th>1</th>\n",
       "      <td>3</td>\n",
       "      <td>1</td>\n",
       "      <td>29.0</td>\n",
       "      <td>8.0</td>\n",
       "      <td>2.0</td>\n",
       "      <td>3.0</td>\n",
       "      <td>2.0</td>\n",
       "      <td>33.0</td>\n",
       "      <td>36.0</td>\n",
       "    </tr>\n",
       "    <tr>\n",
       "      <th>2</th>\n",
       "      <td>3</td>\n",
       "      <td>1</td>\n",
       "      <td>83.0</td>\n",
       "      <td>2.0</td>\n",
       "      <td>2.0</td>\n",
       "      <td>1.0</td>\n",
       "      <td>2.0</td>\n",
       "      <td>40.0</td>\n",
       "      <td>37.0</td>\n",
       "    </tr>\n",
       "    <tr>\n",
       "      <th>3</th>\n",
       "      <td>3</td>\n",
       "      <td>0</td>\n",
       "      <td>66.0</td>\n",
       "      <td>3.0</td>\n",
       "      <td>2.0</td>\n",
       "      <td>0.0</td>\n",
       "      <td>2.0</td>\n",
       "      <td>32.0</td>\n",
       "      <td>35.0</td>\n",
       "    </tr>\n",
       "    <tr>\n",
       "      <th>4</th>\n",
       "      <td>3</td>\n",
       "      <td>1</td>\n",
       "      <td>84.0</td>\n",
       "      <td>NaN</td>\n",
       "      <td>NaN</td>\n",
       "      <td>NaN</td>\n",
       "      <td>NaN</td>\n",
       "      <td>NaN</td>\n",
       "      <td>NaN</td>\n",
       "    </tr>\n",
       "  </tbody>\n",
       "</table>\n",
       "</div>"
      ],
      "text/plain": [
       "   service  sexe   age  profession  AmelioSante  AmelioMorale  recommander  \\\n",
       "0        3     0  41.0         4.0          1.0           0.0          1.0   \n",
       "1        3     1  29.0         8.0          2.0           3.0          2.0   \n",
       "2        3     1  83.0         2.0          2.0           1.0          2.0   \n",
       "3        3     0  66.0         3.0          2.0           0.0          2.0   \n",
       "4        3     1  84.0         NaN          NaN           NaN          NaN   \n",
       "\n",
       "   ScoreRelation  ScoreInfo  \n",
       "0           36.0       22.0  \n",
       "1           33.0       36.0  \n",
       "2           40.0       37.0  \n",
       "3           32.0       35.0  \n",
       "4            NaN        NaN  "
      ]
     },
     "execution_count": 7,
     "metadata": {},
     "output_type": "execute_result"
    }
   ],
   "source": [
    "df.head()"
   ]
  },
  {
   "cell_type": "markdown",
   "id": "d01c416e",
   "metadata": {},
   "source": [
    "## Changer le type des colonnes"
   ]
  },
  {
   "cell_type": "code",
   "execution_count": 8,
   "id": "72ed2dcb",
   "metadata": {},
   "outputs": [],
   "source": [
    "col = ['service', 'sexe', 'profession', 'AmelioSante', 'AmelioMorale', 'recommander']\n",
    "for nom in col: \n",
    "    df[nom]=df[nom].astype('category')"
   ]
  },
  {
   "cell_type": "code",
   "execution_count": 9,
   "id": "d0174c3b",
   "metadata": {},
   "outputs": [
    {
     "name": "stdout",
     "output_type": "stream",
     "text": [
      "<class 'pandas.core.frame.DataFrame'>\n",
      "RangeIndex: 534 entries, 0 to 533\n",
      "Data columns (total 9 columns):\n",
      " #   Column         Non-Null Count  Dtype   \n",
      "---  ------         --------------  -----   \n",
      " 0   service        534 non-null    category\n",
      " 1   sexe           534 non-null    category\n",
      " 2   age            528 non-null    float64 \n",
      " 3   profession     427 non-null    category\n",
      " 4   AmelioSante    376 non-null    category\n",
      " 5   AmelioMorale   383 non-null    category\n",
      " 6   recommander    405 non-null    category\n",
      " 7   ScoreRelation  349 non-null    float64 \n",
      " 8   ScoreInfo      358 non-null    float64 \n",
      "dtypes: category(6), float64(3)\n",
      "memory usage: 17.1 KB\n"
     ]
    }
   ],
   "source": [
    "df.info()"
   ]
  },
  {
   "cell_type": "code",
   "execution_count": 10,
   "id": "75f45163",
   "metadata": {},
   "outputs": [
    {
     "data": {
      "text/html": [
       "<div>\n",
       "<style scoped>\n",
       "    .dataframe tbody tr th:only-of-type {\n",
       "        vertical-align: middle;\n",
       "    }\n",
       "\n",
       "    .dataframe tbody tr th {\n",
       "        vertical-align: top;\n",
       "    }\n",
       "\n",
       "    .dataframe thead th {\n",
       "        text-align: right;\n",
       "    }\n",
       "</style>\n",
       "<table border=\"1\" class=\"dataframe\">\n",
       "  <thead>\n",
       "    <tr style=\"text-align: right;\">\n",
       "      <th></th>\n",
       "      <th>service</th>\n",
       "      <th>sexe</th>\n",
       "      <th>profession</th>\n",
       "      <th>AmelioSante</th>\n",
       "      <th>AmelioMorale</th>\n",
       "      <th>recommander</th>\n",
       "    </tr>\n",
       "  </thead>\n",
       "  <tbody>\n",
       "    <tr>\n",
       "      <th>count</th>\n",
       "      <td>534</td>\n",
       "      <td>534</td>\n",
       "      <td>427.0</td>\n",
       "      <td>376.0</td>\n",
       "      <td>383.0</td>\n",
       "      <td>405.0</td>\n",
       "    </tr>\n",
       "    <tr>\n",
       "      <th>unique</th>\n",
       "      <td>8</td>\n",
       "      <td>2</td>\n",
       "      <td>8.0</td>\n",
       "      <td>4.0</td>\n",
       "      <td>4.0</td>\n",
       "      <td>3.0</td>\n",
       "    </tr>\n",
       "    <tr>\n",
       "      <th>top</th>\n",
       "      <td>5</td>\n",
       "      <td>0</td>\n",
       "      <td>3.0</td>\n",
       "      <td>3.0</td>\n",
       "      <td>1.0</td>\n",
       "      <td>2.0</td>\n",
       "    </tr>\n",
       "    <tr>\n",
       "      <th>freq</th>\n",
       "      <td>71</td>\n",
       "      <td>268</td>\n",
       "      <td>124.0</td>\n",
       "      <td>161.0</td>\n",
       "      <td>179.0</td>\n",
       "      <td>269.0</td>\n",
       "    </tr>\n",
       "  </tbody>\n",
       "</table>\n",
       "</div>"
      ],
      "text/plain": [
       "        service  sexe  profession  AmelioSante  AmelioMorale  recommander\n",
       "count       534   534       427.0        376.0         383.0        405.0\n",
       "unique        8     2         8.0          4.0           4.0          3.0\n",
       "top           5     0         3.0          3.0           1.0          2.0\n",
       "freq         71   268       124.0        161.0         179.0        269.0"
      ]
     },
     "execution_count": 10,
     "metadata": {},
     "output_type": "execute_result"
    }
   ],
   "source": [
    "df.describe(include='category')"
   ]
  },
  {
   "cell_type": "code",
   "execution_count": 11,
   "id": "aeceee7a",
   "metadata": {},
   "outputs": [
    {
     "data": {
      "text/html": [
       "<div>\n",
       "<style scoped>\n",
       "    .dataframe tbody tr th:only-of-type {\n",
       "        vertical-align: middle;\n",
       "    }\n",
       "\n",
       "    .dataframe tbody tr th {\n",
       "        vertical-align: top;\n",
       "    }\n",
       "\n",
       "    .dataframe thead th {\n",
       "        text-align: right;\n",
       "    }\n",
       "</style>\n",
       "<table border=\"1\" class=\"dataframe\">\n",
       "  <thead>\n",
       "    <tr style=\"text-align: right;\">\n",
       "      <th></th>\n",
       "      <th>age</th>\n",
       "      <th>ScoreRelation</th>\n",
       "      <th>ScoreInfo</th>\n",
       "    </tr>\n",
       "  </thead>\n",
       "  <tbody>\n",
       "    <tr>\n",
       "      <th>count</th>\n",
       "      <td>528.000000</td>\n",
       "      <td>349.000000</td>\n",
       "      <td>358.000000</td>\n",
       "    </tr>\n",
       "    <tr>\n",
       "      <th>mean</th>\n",
       "      <td>58.212121</td>\n",
       "      <td>35.217765</td>\n",
       "      <td>31.910615</td>\n",
       "    </tr>\n",
       "    <tr>\n",
       "      <th>std</th>\n",
       "      <td>17.809249</td>\n",
       "      <td>4.623606</td>\n",
       "      <td>6.793295</td>\n",
       "    </tr>\n",
       "    <tr>\n",
       "      <th>min</th>\n",
       "      <td>18.000000</td>\n",
       "      <td>13.000000</td>\n",
       "      <td>13.000000</td>\n",
       "    </tr>\n",
       "    <tr>\n",
       "      <th>25%</th>\n",
       "      <td>45.000000</td>\n",
       "      <td>33.000000</td>\n",
       "      <td>28.000000</td>\n",
       "    </tr>\n",
       "    <tr>\n",
       "      <th>50%</th>\n",
       "      <td>60.000000</td>\n",
       "      <td>36.000000</td>\n",
       "      <td>33.000000</td>\n",
       "    </tr>\n",
       "    <tr>\n",
       "      <th>75%</th>\n",
       "      <td>72.000000</td>\n",
       "      <td>39.000000</td>\n",
       "      <td>38.000000</td>\n",
       "    </tr>\n",
       "    <tr>\n",
       "      <th>max</th>\n",
       "      <td>97.000000</td>\n",
       "      <td>40.000000</td>\n",
       "      <td>40.000000</td>\n",
       "    </tr>\n",
       "  </tbody>\n",
       "</table>\n",
       "</div>"
      ],
      "text/plain": [
       "              age  ScoreRelation   ScoreInfo\n",
       "count  528.000000     349.000000  358.000000\n",
       "mean    58.212121      35.217765   31.910615\n",
       "std     17.809249       4.623606    6.793295\n",
       "min     18.000000      13.000000   13.000000\n",
       "25%     45.000000      33.000000   28.000000\n",
       "50%     60.000000      36.000000   33.000000\n",
       "75%     72.000000      39.000000   38.000000\n",
       "max     97.000000      40.000000   40.000000"
      ]
     },
     "execution_count": 11,
     "metadata": {},
     "output_type": "execute_result"
    }
   ],
   "source": [
    "df.describe()"
   ]
  },
  {
   "cell_type": "markdown",
   "id": "d15d4207",
   "metadata": {},
   "source": [
    "## Visualisation des NaN"
   ]
  },
  {
   "cell_type": "code",
   "execution_count": 12,
   "id": "d11498dd",
   "metadata": {},
   "outputs": [
    {
     "data": {
      "image/png": "[encoded data removed]",
      "text/plain": [
       "<Figure size 1800x720 with 3 Axes>"
      ]
     },
     "metadata": {
      "needs_background": "light"
     },
     "output_type": "display_data"
    }
   ],
   "source": [
    "msno.bar(df)\n",
    "plt.title('VISUALISATION DES VALEURS MANQUANTES')\n",
    "plt.show()"
   ]
  },
  {
   "cell_type": "code",
   "execution_count": 13,
   "id": "a87bea49",
   "metadata": {},
   "outputs": [
    {
     "data": {
      "image/png": "[encoded data removed]",
      "text/plain": [
       "<Figure size 1800x720 with 2 Axes>"
      ]
     },
     "metadata": {
      "needs_background": "light"
     },
     "output_type": "display_data"
    }
   ],
   "source": [
    "msno.matrix(df)\n",
    "plt.title('VISUALISATION DES VALEURS MANQUANTES')\n",
    "plt.show()"
   ]
  },
  {
   "cell_type": "code",
   "execution_count": 14,
   "id": "7cae5659",
   "metadata": {},
   "outputs": [
    {
     "data": {
      "image/png": "[encoded data removed]",
      "text/plain": [
       "<Figure size 1440x864 with 2 Axes>"
      ]
     },
     "metadata": {
      "needs_background": "light"
     },
     "output_type": "display_data"
    }
   ],
   "source": [
    "msno.heatmap(df)\n",
    "plt.title('VISUALISATION DES VALEURS MANQUANTES')\n",
    "plt.show()"
   ]
  },
  {
   "cell_type": "markdown",
   "id": "250574f2",
   "metadata": {},
   "source": [
    "## Traitement des valeurs manquantes "
   ]
  },
  {
   "cell_type": "code",
   "execution_count": 15,
   "id": "63f73155",
   "metadata": {},
   "outputs": [
    {
     "data": {
      "text/plain": [
       "service            0\n",
       "sexe               0\n",
       "age                6\n",
       "profession       107\n",
       "AmelioSante      158\n",
       "AmelioMorale     151\n",
       "recommander      129\n",
       "ScoreRelation    185\n",
       "ScoreInfo        176\n",
       "dtype: int64"
      ]
     },
     "execution_count": 15,
     "metadata": {},
     "output_type": "execute_result"
    }
   ],
   "source": [
    "# Comptage des NaN\n",
    "df.isna().sum()"
   ]
  },
  {
   "cell_type": "code",
   "execution_count": 16,
   "id": "44ddb922",
   "metadata": {},
   "outputs": [
    {
     "data": {
      "text/plain": [
       "service           0.0\n",
       "sexe              0.0\n",
       "age               1.0\n",
       "profession       20.0\n",
       "AmelioSante      30.0\n",
       "AmelioMorale     28.0\n",
       "recommander      24.0\n",
       "ScoreRelation    35.0\n",
       "ScoreInfo        33.0\n",
       "dtype: float64"
      ]
     },
     "execution_count": 16,
     "metadata": {},
     "output_type": "execute_result"
    }
   ],
   "source": [
    "# Pourcentage des NaN\n",
    "round(df.isna().mean(), 2)*100"
   ]
  },
  {
   "cell_type": "code",
   "execution_count": 17,
   "id": "d4976f04",
   "metadata": {},
   "outputs": [],
   "source": [
    "# import the KNNimputer class\n",
    "from sklearn.impute import KNNImputer"
   ]
  },
  {
   "cell_type": "code",
   "execution_count": 18,
   "id": "da38a2ba",
   "metadata": {},
   "outputs": [],
   "source": [
    "# create an object for KNNImputer\n",
    "imputer = KNNImputer(n_neighbors=10)"
   ]
  },
  {
   "cell_type": "code",
   "execution_count": 19,
   "id": "b2c0d66e",
   "metadata": {},
   "outputs": [],
   "source": [
    "# Imputation\n",
    "dfImputer = imputer.fit_transform(df)"
   ]
  },
  {
   "cell_type": "code",
   "execution_count": 84,
   "id": "e2aefd0e",
   "metadata": {},
   "outputs": [
    {
     "data": {
      "text/html": [
       "<div>\n",
       "<style scoped>\n",
       "    .dataframe tbody tr th:only-of-type {\n",
       "        vertical-align: middle;\n",
       "    }\n",
       "\n",
       "    .dataframe tbody tr th {\n",
       "        vertical-align: top;\n",
       "    }\n",
       "\n",
       "    .dataframe thead th {\n",
       "        text-align: right;\n",
       "    }\n",
       "</style>\n",
       "<table border=\"1\" class=\"dataframe\">\n",
       "  <thead>\n",
       "    <tr style=\"text-align: right;\">\n",
       "      <th></th>\n",
       "      <th>0</th>\n",
       "      <th>1</th>\n",
       "      <th>2</th>\n",
       "      <th>3</th>\n",
       "      <th>4</th>\n",
       "      <th>5</th>\n",
       "      <th>6</th>\n",
       "      <th>7</th>\n",
       "      <th>8</th>\n",
       "    </tr>\n",
       "  </thead>\n",
       "  <tbody>\n",
       "    <tr>\n",
       "      <th>0</th>\n",
       "      <td>3.0</td>\n",
       "      <td>0.0</td>\n",
       "      <td>41.0</td>\n",
       "      <td>4.0</td>\n",
       "      <td>1.0</td>\n",
       "      <td>0.0</td>\n",
       "      <td>1.0</td>\n",
       "      <td>36.0</td>\n",
       "      <td>22.0</td>\n",
       "    </tr>\n",
       "    <tr>\n",
       "      <th>1</th>\n",
       "      <td>3.0</td>\n",
       "      <td>1.0</td>\n",
       "      <td>29.0</td>\n",
       "      <td>8.0</td>\n",
       "      <td>2.0</td>\n",
       "      <td>3.0</td>\n",
       "      <td>2.0</td>\n",
       "      <td>33.0</td>\n",
       "      <td>36.0</td>\n",
       "    </tr>\n",
       "    <tr>\n",
       "      <th>2</th>\n",
       "      <td>3.0</td>\n",
       "      <td>1.0</td>\n",
       "      <td>83.0</td>\n",
       "      <td>2.0</td>\n",
       "      <td>2.0</td>\n",
       "      <td>1.0</td>\n",
       "      <td>2.0</td>\n",
       "      <td>40.0</td>\n",
       "      <td>37.0</td>\n",
       "    </tr>\n",
       "    <tr>\n",
       "      <th>3</th>\n",
       "      <td>3.0</td>\n",
       "      <td>0.0</td>\n",
       "      <td>66.0</td>\n",
       "      <td>3.0</td>\n",
       "      <td>2.0</td>\n",
       "      <td>0.0</td>\n",
       "      <td>2.0</td>\n",
       "      <td>32.0</td>\n",
       "      <td>35.0</td>\n",
       "    </tr>\n",
       "    <tr>\n",
       "      <th>4</th>\n",
       "      <td>3.0</td>\n",
       "      <td>1.0</td>\n",
       "      <td>84.0</td>\n",
       "      <td>4.5</td>\n",
       "      <td>2.5</td>\n",
       "      <td>1.1</td>\n",
       "      <td>1.8</td>\n",
       "      <td>37.2</td>\n",
       "      <td>30.3</td>\n",
       "    </tr>\n",
       "  </tbody>\n",
       "</table>\n",
       "</div>"
      ],
      "text/plain": [
       "     0    1     2    3    4    5    6     7     8\n",
       "0  3.0  0.0  41.0  4.0  1.0  0.0  1.0  36.0  22.0\n",
       "1  3.0  1.0  29.0  8.0  2.0  3.0  2.0  33.0  36.0\n",
       "2  3.0  1.0  83.0  2.0  2.0  1.0  2.0  40.0  37.0\n",
       "3  3.0  0.0  66.0  3.0  2.0  0.0  2.0  32.0  35.0\n",
       "4  3.0  1.0  84.0  4.5  2.5  1.1  1.8  37.2  30.3"
      ]
     },
     "execution_count": 84,
     "metadata": {},
     "output_type": "execute_result"
    }
   ],
   "source": [
    "df_nan = pd.DataFrame(dfImputer)\n",
    "df_nan.head()"
   ]
  },
  {
   "cell_type": "code",
   "execution_count": 85,
   "id": "5934ae77",
   "metadata": {},
   "outputs": [],
   "source": [
    "# Renommer les colonnes\n",
    "df_nan.rename(columns={0:'service', 1:'sexe', 2:'age', 3:'profession', 4:'AmelioSante', 5:'AmelioMorale', 6:'recommander', \n",
    "                   7:'ScoreRelation', 8:'ScoreInfo'}, inplace=True)"
   ]
  },
  {
   "cell_type": "code",
   "execution_count": 86,
   "id": "827e85d3",
   "metadata": {},
   "outputs": [
    {
     "data": {
      "text/html": [
       "<div>\n",
       "<style scoped>\n",
       "    .dataframe tbody tr th:only-of-type {\n",
       "        vertical-align: middle;\n",
       "    }\n",
       "\n",
       "    .dataframe tbody tr th {\n",
       "        vertical-align: top;\n",
       "    }\n",
       "\n",
       "    .dataframe thead th {\n",
       "        text-align: right;\n",
       "    }\n",
       "</style>\n",
       "<table border=\"1\" class=\"dataframe\">\n",
       "  <thead>\n",
       "    <tr style=\"text-align: right;\">\n",
       "      <th></th>\n",
       "      <th>service</th>\n",
       "      <th>sexe</th>\n",
       "      <th>age</th>\n",
       "      <th>profession</th>\n",
       "      <th>AmelioSante</th>\n",
       "      <th>AmelioMorale</th>\n",
       "      <th>recommander</th>\n",
       "      <th>ScoreRelation</th>\n",
       "      <th>ScoreInfo</th>\n",
       "    </tr>\n",
       "  </thead>\n",
       "  <tbody>\n",
       "    <tr>\n",
       "      <th>0</th>\n",
       "      <td>3.0</td>\n",
       "      <td>0.0</td>\n",
       "      <td>41.0</td>\n",
       "      <td>4.0</td>\n",
       "      <td>1.0</td>\n",
       "      <td>0.0</td>\n",
       "      <td>1.0</td>\n",
       "      <td>36.0</td>\n",
       "      <td>22.0</td>\n",
       "    </tr>\n",
       "    <tr>\n",
       "      <th>1</th>\n",
       "      <td>3.0</td>\n",
       "      <td>1.0</td>\n",
       "      <td>29.0</td>\n",
       "      <td>8.0</td>\n",
       "      <td>2.0</td>\n",
       "      <td>3.0</td>\n",
       "      <td>2.0</td>\n",
       "      <td>33.0</td>\n",
       "      <td>36.0</td>\n",
       "    </tr>\n",
       "    <tr>\n",
       "      <th>2</th>\n",
       "      <td>3.0</td>\n",
       "      <td>1.0</td>\n",
       "      <td>83.0</td>\n",
       "      <td>2.0</td>\n",
       "      <td>2.0</td>\n",
       "      <td>1.0</td>\n",
       "      <td>2.0</td>\n",
       "      <td>40.0</td>\n",
       "      <td>37.0</td>\n",
       "    </tr>\n",
       "    <tr>\n",
       "      <th>3</th>\n",
       "      <td>3.0</td>\n",
       "      <td>0.0</td>\n",
       "      <td>66.0</td>\n",
       "      <td>3.0</td>\n",
       "      <td>2.0</td>\n",
       "      <td>0.0</td>\n",
       "      <td>2.0</td>\n",
       "      <td>32.0</td>\n",
       "      <td>35.0</td>\n",
       "    </tr>\n",
       "    <tr>\n",
       "      <th>4</th>\n",
       "      <td>3.0</td>\n",
       "      <td>1.0</td>\n",
       "      <td>84.0</td>\n",
       "      <td>4.5</td>\n",
       "      <td>2.5</td>\n",
       "      <td>1.1</td>\n",
       "      <td>1.8</td>\n",
       "      <td>37.2</td>\n",
       "      <td>30.3</td>\n",
       "    </tr>\n",
       "    <tr>\n",
       "      <th>...</th>\n",
       "      <td>...</td>\n",
       "      <td>...</td>\n",
       "      <td>...</td>\n",
       "      <td>...</td>\n",
       "      <td>...</td>\n",
       "      <td>...</td>\n",
       "      <td>...</td>\n",
       "      <td>...</td>\n",
       "      <td>...</td>\n",
       "    </tr>\n",
       "    <tr>\n",
       "      <th>529</th>\n",
       "      <td>8.0</td>\n",
       "      <td>1.0</td>\n",
       "      <td>81.0</td>\n",
       "      <td>5.3</td>\n",
       "      <td>2.6</td>\n",
       "      <td>2.2</td>\n",
       "      <td>1.5</td>\n",
       "      <td>35.4</td>\n",
       "      <td>27.7</td>\n",
       "    </tr>\n",
       "    <tr>\n",
       "      <th>530</th>\n",
       "      <td>8.0</td>\n",
       "      <td>0.0</td>\n",
       "      <td>69.0</td>\n",
       "      <td>3.8</td>\n",
       "      <td>2.3</td>\n",
       "      <td>1.6</td>\n",
       "      <td>1.7</td>\n",
       "      <td>35.3</td>\n",
       "      <td>29.2</td>\n",
       "    </tr>\n",
       "    <tr>\n",
       "      <th>531</th>\n",
       "      <td>8.0</td>\n",
       "      <td>1.0</td>\n",
       "      <td>30.0</td>\n",
       "      <td>4.0</td>\n",
       "      <td>2.0</td>\n",
       "      <td>1.0</td>\n",
       "      <td>1.0</td>\n",
       "      <td>32.0</td>\n",
       "      <td>33.4</td>\n",
       "    </tr>\n",
       "    <tr>\n",
       "      <th>532</th>\n",
       "      <td>8.0</td>\n",
       "      <td>1.0</td>\n",
       "      <td>30.0</td>\n",
       "      <td>8.0</td>\n",
       "      <td>1.0</td>\n",
       "      <td>2.0</td>\n",
       "      <td>2.0</td>\n",
       "      <td>30.0</td>\n",
       "      <td>34.0</td>\n",
       "    </tr>\n",
       "    <tr>\n",
       "      <th>533</th>\n",
       "      <td>8.0</td>\n",
       "      <td>0.0</td>\n",
       "      <td>50.0</td>\n",
       "      <td>3.8</td>\n",
       "      <td>2.3</td>\n",
       "      <td>2.3</td>\n",
       "      <td>1.7</td>\n",
       "      <td>36.0</td>\n",
       "      <td>32.8</td>\n",
       "    </tr>\n",
       "  </tbody>\n",
       "</table>\n",
       "<p>534 rows × 9 columns</p>\n",
       "</div>"
      ],
      "text/plain": [
       "     service  sexe   age  profession  AmelioSante  AmelioMorale  recommander  \\\n",
       "0        3.0   0.0  41.0         4.0          1.0           0.0          1.0   \n",
       "1        3.0   1.0  29.0         8.0          2.0           3.0          2.0   \n",
       "2        3.0   1.0  83.0         2.0          2.0           1.0          2.0   \n",
       "3        3.0   0.0  66.0         3.0          2.0           0.0          2.0   \n",
       "4        3.0   1.0  84.0         4.5          2.5           1.1          1.8   \n",
       "..       ...   ...   ...         ...          ...           ...          ...   \n",
       "529      8.0   1.0  81.0         5.3          2.6           2.2          1.5   \n",
       "530      8.0   0.0  69.0         3.8          2.3           1.6          1.7   \n",
       "531      8.0   1.0  30.0         4.0          2.0           1.0          1.0   \n",
       "532      8.0   1.0  30.0         8.0          1.0           2.0          2.0   \n",
       "533      8.0   0.0  50.0         3.8          2.3           2.3          1.7   \n",
       "\n",
       "     ScoreRelation  ScoreInfo  \n",
       "0             36.0       22.0  \n",
       "1             33.0       36.0  \n",
       "2             40.0       37.0  \n",
       "3             32.0       35.0  \n",
       "4             37.2       30.3  \n",
       "..             ...        ...  \n",
       "529           35.4       27.7  \n",
       "530           35.3       29.2  \n",
       "531           32.0       33.4  \n",
       "532           30.0       34.0  \n",
       "533           36.0       32.8  \n",
       "\n",
       "[534 rows x 9 columns]"
      ]
     },
     "execution_count": 86,
     "metadata": {},
     "output_type": "execute_result"
    }
   ],
   "source": [
    "df_nan"
   ]
  },
  {
   "cell_type": "code",
   "execution_count": 87,
   "id": "c2502d95",
   "metadata": {
    "scrolled": true
   },
   "outputs": [
    {
     "data": {
      "text/plain": [
       "Index(['service', 'sexe', 'age', 'profession', 'AmelioSante', 'AmelioMorale',\n",
       "       'recommander', 'ScoreRelation', 'ScoreInfo'],\n",
       "      dtype='object')"
      ]
     },
     "execution_count": 87,
     "metadata": {},
     "output_type": "execute_result"
    }
   ],
   "source": [
    "df.columns"
   ]
  },
  {
   "cell_type": "code",
   "execution_count": 88,
   "id": "b28eb6ef",
   "metadata": {},
   "outputs": [
    {
     "data": {
      "text/plain": [
       "service          0\n",
       "sexe             0\n",
       "age              0\n",
       "profession       0\n",
       "AmelioSante      0\n",
       "AmelioMorale     0\n",
       "recommander      0\n",
       "ScoreRelation    0\n",
       "ScoreInfo        0\n",
       "dtype: int64"
      ]
     },
     "execution_count": 88,
     "metadata": {},
     "output_type": "execute_result"
    }
   ],
   "source": [
    "df_nan.isna().sum()"
   ]
  },
  {
   "cell_type": "code",
   "execution_count": 89,
   "id": "3c49675e",
   "metadata": {},
   "outputs": [
    {
     "name": "stdout",
     "output_type": "stream",
     "text": [
      "[0, 1, 2, 3, 4, 5, 6, 7, 8]\n"
     ]
    }
   ],
   "source": [
    "j=[]\n",
    "for i in range(9):\n",
    "    i = i\n",
    "    j.append(i)\n",
    "print(j)"
   ]
  },
  {
   "cell_type": "code",
   "execution_count": 90,
   "id": "58756ada",
   "metadata": {},
   "outputs": [
    {
     "name": "stdout",
     "output_type": "stream",
     "text": [
      "0\n",
      "1\n",
      "2\n"
     ]
    }
   ],
   "source": [
    "for i in range(3):\n",
    "    print(i)"
   ]
  },
  {
   "cell_type": "markdown",
   "id": "78247aec",
   "metadata": {},
   "source": [
    "## Traitement des doublons"
   ]
  },
  {
   "cell_type": "code",
   "execution_count": 91,
   "id": "47a78015",
   "metadata": {},
   "outputs": [
    {
     "data": {
      "text/plain": [
       "12"
      ]
     },
     "execution_count": 91,
     "metadata": {},
     "output_type": "execute_result"
    }
   ],
   "source": [
    "len(df_nan[df_nan.duplicated()])"
   ]
  },
  {
   "cell_type": "code",
   "execution_count": 92,
   "id": "08bcd0a8",
   "metadata": {},
   "outputs": [
    {
     "name": "stderr",
     "output_type": "stream",
     "text": [
      "C:\\Users\\THINKPAD\\AppData\\Local\\Temp\\ipykernel_13120\\1626410291.py:1: UserWarning: Boolean Series key will be reindexed to match DataFrame index.\n",
      "  df_nan[df_nan.duplicated().sort_values()]\n"
     ]
    },
    {
     "data": {
      "text/html": [
       "<div>\n",
       "<style scoped>\n",
       "    .dataframe tbody tr th:only-of-type {\n",
       "        vertical-align: middle;\n",
       "    }\n",
       "\n",
       "    .dataframe tbody tr th {\n",
       "        vertical-align: top;\n",
       "    }\n",
       "\n",
       "    .dataframe thead th {\n",
       "        text-align: right;\n",
       "    }\n",
       "</style>\n",
       "<table border=\"1\" class=\"dataframe\">\n",
       "  <thead>\n",
       "    <tr style=\"text-align: right;\">\n",
       "      <th></th>\n",
       "      <th>service</th>\n",
       "      <th>sexe</th>\n",
       "      <th>age</th>\n",
       "      <th>profession</th>\n",
       "      <th>AmelioSante</th>\n",
       "      <th>AmelioMorale</th>\n",
       "      <th>recommander</th>\n",
       "      <th>ScoreRelation</th>\n",
       "      <th>ScoreInfo</th>\n",
       "    </tr>\n",
       "  </thead>\n",
       "  <tbody>\n",
       "    <tr>\n",
       "      <th>10</th>\n",
       "      <td>3.0</td>\n",
       "      <td>1.0</td>\n",
       "      <td>84.0</td>\n",
       "      <td>4.5</td>\n",
       "      <td>2.5</td>\n",
       "      <td>1.1</td>\n",
       "      <td>1.8</td>\n",
       "      <td>37.2</td>\n",
       "      <td>30.3</td>\n",
       "    </tr>\n",
       "    <tr>\n",
       "      <th>41</th>\n",
       "      <td>4.0</td>\n",
       "      <td>0.0</td>\n",
       "      <td>83.0</td>\n",
       "      <td>4.4</td>\n",
       "      <td>2.6</td>\n",
       "      <td>1.3</td>\n",
       "      <td>1.7</td>\n",
       "      <td>36.0</td>\n",
       "      <td>29.8</td>\n",
       "    </tr>\n",
       "    <tr>\n",
       "      <th>52</th>\n",
       "      <td>4.0</td>\n",
       "      <td>0.0</td>\n",
       "      <td>81.0</td>\n",
       "      <td>3.9</td>\n",
       "      <td>2.1</td>\n",
       "      <td>1.4</td>\n",
       "      <td>1.5</td>\n",
       "      <td>34.0</td>\n",
       "      <td>30.2</td>\n",
       "    </tr>\n",
       "    <tr>\n",
       "      <th>75</th>\n",
       "      <td>4.0</td>\n",
       "      <td>0.0</td>\n",
       "      <td>78.0</td>\n",
       "      <td>4.3</td>\n",
       "      <td>2.3</td>\n",
       "      <td>1.7</td>\n",
       "      <td>1.7</td>\n",
       "      <td>35.2</td>\n",
       "      <td>29.9</td>\n",
       "    </tr>\n",
       "    <tr>\n",
       "      <th>243</th>\n",
       "      <td>5.0</td>\n",
       "      <td>0.0</td>\n",
       "      <td>41.0</td>\n",
       "      <td>3.9</td>\n",
       "      <td>2.4</td>\n",
       "      <td>1.8</td>\n",
       "      <td>1.3</td>\n",
       "      <td>36.0</td>\n",
       "      <td>31.6</td>\n",
       "    </tr>\n",
       "    <tr>\n",
       "      <th>245</th>\n",
       "      <td>5.0</td>\n",
       "      <td>0.0</td>\n",
       "      <td>41.0</td>\n",
       "      <td>3.9</td>\n",
       "      <td>2.4</td>\n",
       "      <td>1.8</td>\n",
       "      <td>1.3</td>\n",
       "      <td>36.0</td>\n",
       "      <td>31.6</td>\n",
       "    </tr>\n",
       "    <tr>\n",
       "      <th>263</th>\n",
       "      <td>5.0</td>\n",
       "      <td>1.0</td>\n",
       "      <td>63.0</td>\n",
       "      <td>3.4</td>\n",
       "      <td>2.6</td>\n",
       "      <td>2.2</td>\n",
       "      <td>1.6</td>\n",
       "      <td>36.6</td>\n",
       "      <td>33.7</td>\n",
       "    </tr>\n",
       "    <tr>\n",
       "      <th>266</th>\n",
       "      <td>5.0</td>\n",
       "      <td>0.0</td>\n",
       "      <td>41.0</td>\n",
       "      <td>3.9</td>\n",
       "      <td>2.4</td>\n",
       "      <td>1.8</td>\n",
       "      <td>1.3</td>\n",
       "      <td>36.0</td>\n",
       "      <td>31.6</td>\n",
       "    </tr>\n",
       "    <tr>\n",
       "      <th>273</th>\n",
       "      <td>5.0</td>\n",
       "      <td>1.0</td>\n",
       "      <td>54.8</td>\n",
       "      <td>4.5</td>\n",
       "      <td>2.1</td>\n",
       "      <td>1.8</td>\n",
       "      <td>1.6</td>\n",
       "      <td>34.8</td>\n",
       "      <td>32.4</td>\n",
       "    </tr>\n",
       "    <tr>\n",
       "      <th>394</th>\n",
       "      <td>2.0</td>\n",
       "      <td>1.0</td>\n",
       "      <td>82.0</td>\n",
       "      <td>3.9</td>\n",
       "      <td>2.0</td>\n",
       "      <td>1.3</td>\n",
       "      <td>1.6</td>\n",
       "      <td>33.9</td>\n",
       "      <td>30.5</td>\n",
       "    </tr>\n",
       "    <tr>\n",
       "      <th>396</th>\n",
       "      <td>2.0</td>\n",
       "      <td>1.0</td>\n",
       "      <td>82.0</td>\n",
       "      <td>3.9</td>\n",
       "      <td>2.0</td>\n",
       "      <td>1.3</td>\n",
       "      <td>1.6</td>\n",
       "      <td>33.9</td>\n",
       "      <td>30.5</td>\n",
       "    </tr>\n",
       "    <tr>\n",
       "      <th>458</th>\n",
       "      <td>6.0</td>\n",
       "      <td>1.0</td>\n",
       "      <td>76.0</td>\n",
       "      <td>5.2</td>\n",
       "      <td>2.3</td>\n",
       "      <td>1.5</td>\n",
       "      <td>1.5</td>\n",
       "      <td>36.5</td>\n",
       "      <td>32.6</td>\n",
       "    </tr>\n",
       "  </tbody>\n",
       "</table>\n",
       "</div>"
      ],
      "text/plain": [
       "     service  sexe   age  profession  AmelioSante  AmelioMorale  recommander  \\\n",
       "10       3.0   1.0  84.0         4.5          2.5           1.1          1.8   \n",
       "41       4.0   0.0  83.0         4.4          2.6           1.3          1.7   \n",
       "52       4.0   0.0  81.0         3.9          2.1           1.4          1.5   \n",
       "75       4.0   0.0  78.0         4.3          2.3           1.7          1.7   \n",
       "243      5.0   0.0  41.0         3.9          2.4           1.8          1.3   \n",
       "245      5.0   0.0  41.0         3.9          2.4           1.8          1.3   \n",
       "263      5.0   1.0  63.0         3.4          2.6           2.2          1.6   \n",
       "266      5.0   0.0  41.0         3.9          2.4           1.8          1.3   \n",
       "273      5.0   1.0  54.8         4.5          2.1           1.8          1.6   \n",
       "394      2.0   1.0  82.0         3.9          2.0           1.3          1.6   \n",
       "396      2.0   1.0  82.0         3.9          2.0           1.3          1.6   \n",
       "458      6.0   1.0  76.0         5.2          2.3           1.5          1.5   \n",
       "\n",
       "     ScoreRelation  ScoreInfo  \n",
       "10            37.2       30.3  \n",
       "41            36.0       29.8  \n",
       "52            34.0       30.2  \n",
       "75            35.2       29.9  \n",
       "243           36.0       31.6  \n",
       "245           36.0       31.6  \n",
       "263           36.6       33.7  \n",
       "266           36.0       31.6  \n",
       "273           34.8       32.4  \n",
       "394           33.9       30.5  \n",
       "396           33.9       30.5  \n",
       "458           36.5       32.6  "
      ]
     },
     "execution_count": 92,
     "metadata": {},
     "output_type": "execute_result"
    }
   ],
   "source": [
    "df_nan[df_nan.duplicated().sort_values()]"
   ]
  },
  {
   "cell_type": "code",
   "execution_count": 93,
   "id": "4a42c95b",
   "metadata": {},
   "outputs": [
    {
     "data": {
      "text/html": [
       "<div>\n",
       "<style scoped>\n",
       "    .dataframe tbody tr th:only-of-type {\n",
       "        vertical-align: middle;\n",
       "    }\n",
       "\n",
       "    .dataframe tbody tr th {\n",
       "        vertical-align: top;\n",
       "    }\n",
       "\n",
       "    .dataframe thead th {\n",
       "        text-align: right;\n",
       "    }\n",
       "</style>\n",
       "<table border=\"1\" class=\"dataframe\">\n",
       "  <thead>\n",
       "    <tr style=\"text-align: right;\">\n",
       "      <th></th>\n",
       "      <th>service</th>\n",
       "      <th>sexe</th>\n",
       "      <th>age</th>\n",
       "      <th>profession</th>\n",
       "      <th>AmelioSante</th>\n",
       "      <th>AmelioMorale</th>\n",
       "      <th>recommander</th>\n",
       "      <th>ScoreRelation</th>\n",
       "      <th>ScoreInfo</th>\n",
       "    </tr>\n",
       "  </thead>\n",
       "  <tbody>\n",
       "    <tr>\n",
       "      <th>count</th>\n",
       "      <td>12.000000</td>\n",
       "      <td>12.000000</td>\n",
       "      <td>12.000000</td>\n",
       "      <td>12.000000</td>\n",
       "      <td>12.000000</td>\n",
       "      <td>12.000000</td>\n",
       "      <td>12.000000</td>\n",
       "      <td>12.000000</td>\n",
       "      <td>12.000000</td>\n",
       "    </tr>\n",
       "    <tr>\n",
       "      <th>mean</th>\n",
       "      <td>4.166667</td>\n",
       "      <td>0.500000</td>\n",
       "      <td>67.233333</td>\n",
       "      <td>4.141667</td>\n",
       "      <td>2.308333</td>\n",
       "      <td>1.583333</td>\n",
       "      <td>1.541667</td>\n",
       "      <td>35.508333</td>\n",
       "      <td>31.225000</td>\n",
       "    </tr>\n",
       "    <tr>\n",
       "      <th>std</th>\n",
       "      <td>1.267304</td>\n",
       "      <td>0.522233</td>\n",
       "      <td>18.053422</td>\n",
       "      <td>0.464089</td>\n",
       "      <td>0.215146</td>\n",
       "      <td>0.315748</td>\n",
       "      <td>0.167649</td>\n",
       "      <td>1.130131</td>\n",
       "      <td>1.227062</td>\n",
       "    </tr>\n",
       "    <tr>\n",
       "      <th>min</th>\n",
       "      <td>2.000000</td>\n",
       "      <td>0.000000</td>\n",
       "      <td>41.000000</td>\n",
       "      <td>3.400000</td>\n",
       "      <td>2.000000</td>\n",
       "      <td>1.100000</td>\n",
       "      <td>1.300000</td>\n",
       "      <td>33.900000</td>\n",
       "      <td>29.800000</td>\n",
       "    </tr>\n",
       "    <tr>\n",
       "      <th>25%</th>\n",
       "      <td>3.750000</td>\n",
       "      <td>0.000000</td>\n",
       "      <td>51.350000</td>\n",
       "      <td>3.900000</td>\n",
       "      <td>2.100000</td>\n",
       "      <td>1.300000</td>\n",
       "      <td>1.450000</td>\n",
       "      <td>34.600000</td>\n",
       "      <td>30.275000</td>\n",
       "    </tr>\n",
       "    <tr>\n",
       "      <th>50%</th>\n",
       "      <td>4.500000</td>\n",
       "      <td>0.500000</td>\n",
       "      <td>77.000000</td>\n",
       "      <td>3.900000</td>\n",
       "      <td>2.350000</td>\n",
       "      <td>1.600000</td>\n",
       "      <td>1.600000</td>\n",
       "      <td>36.000000</td>\n",
       "      <td>31.050000</td>\n",
       "    </tr>\n",
       "    <tr>\n",
       "      <th>75%</th>\n",
       "      <td>5.000000</td>\n",
       "      <td>1.000000</td>\n",
       "      <td>82.000000</td>\n",
       "      <td>4.425000</td>\n",
       "      <td>2.425000</td>\n",
       "      <td>1.800000</td>\n",
       "      <td>1.625000</td>\n",
       "      <td>36.125000</td>\n",
       "      <td>31.800000</td>\n",
       "    </tr>\n",
       "    <tr>\n",
       "      <th>max</th>\n",
       "      <td>6.000000</td>\n",
       "      <td>1.000000</td>\n",
       "      <td>84.000000</td>\n",
       "      <td>5.200000</td>\n",
       "      <td>2.600000</td>\n",
       "      <td>2.200000</td>\n",
       "      <td>1.800000</td>\n",
       "      <td>37.200000</td>\n",
       "      <td>33.700000</td>\n",
       "    </tr>\n",
       "  </tbody>\n",
       "</table>\n",
       "</div>"
      ],
      "text/plain": [
       "         service       sexe        age  profession  AmelioSante  AmelioMorale  \\\n",
       "count  12.000000  12.000000  12.000000   12.000000    12.000000     12.000000   \n",
       "mean    4.166667   0.500000  67.233333    4.141667     2.308333      1.583333   \n",
       "std     1.267304   0.522233  18.053422    0.464089     0.215146      0.315748   \n",
       "min     2.000000   0.000000  41.000000    3.400000     2.000000      1.100000   \n",
       "25%     3.750000   0.000000  51.350000    3.900000     2.100000      1.300000   \n",
       "50%     4.500000   0.500000  77.000000    3.900000     2.350000      1.600000   \n",
       "75%     5.000000   1.000000  82.000000    4.425000     2.425000      1.800000   \n",
       "max     6.000000   1.000000  84.000000    5.200000     2.600000      2.200000   \n",
       "\n",
       "       recommander  ScoreRelation  ScoreInfo  \n",
       "count    12.000000      12.000000  12.000000  \n",
       "mean      1.541667      35.508333  31.225000  \n",
       "std       0.167649       1.130131   1.227062  \n",
       "min       1.300000      33.900000  29.800000  \n",
       "25%       1.450000      34.600000  30.275000  \n",
       "50%       1.600000      36.000000  31.050000  \n",
       "75%       1.625000      36.125000  31.800000  \n",
       "max       1.800000      37.200000  33.700000  "
      ]
     },
     "execution_count": 93,
     "metadata": {},
     "output_type": "execute_result"
    }
   ],
   "source": [
    "df_nan[df_nan.duplicated()].describe()"
   ]
  },
  {
   "cell_type": "code",
   "execution_count": 94,
   "id": "e7f64b11",
   "metadata": {},
   "outputs": [
    {
     "name": "stdout",
     "output_type": "stream",
     "text": [
      "<class 'pandas.core.frame.DataFrame'>\n",
      "RangeIndex: 534 entries, 0 to 533\n",
      "Data columns (total 9 columns):\n",
      " #   Column         Non-Null Count  Dtype  \n",
      "---  ------         --------------  -----  \n",
      " 0   service        534 non-null    float64\n",
      " 1   sexe           534 non-null    float64\n",
      " 2   age            534 non-null    float64\n",
      " 3   profession     534 non-null    float64\n",
      " 4   AmelioSante    534 non-null    float64\n",
      " 5   AmelioMorale   534 non-null    float64\n",
      " 6   recommander    534 non-null    float64\n",
      " 7   ScoreRelation  534 non-null    float64\n",
      " 8   ScoreInfo      534 non-null    float64\n",
      "dtypes: float64(9)\n",
      "memory usage: 37.7 KB\n"
     ]
    }
   ],
   "source": [
    "df_nan.info()"
   ]
  },
  {
   "cell_type": "code",
   "execution_count": 95,
   "id": "1de6bf53",
   "metadata": {},
   "outputs": [],
   "source": [
    "# Changement des types des variables\n",
    "col = ['service', 'sexe', 'profession', 'AmelioSante', 'AmelioMorale', 'recommander']\n",
    "for nom in col: \n",
    "    df_nan[nom]=df_nan[nom].astype('int')"
   ]
  },
  {
   "cell_type": "code",
   "execution_count": 96,
   "id": "547c7e09",
   "metadata": {},
   "outputs": [],
   "source": [
    "# Changement des types des variables\n",
    "col = ['service', 'sexe', 'profession', 'AmelioSante', 'AmelioMorale', 'recommander']\n",
    "for nom in col: \n",
    "    df_nan[nom]=df_nan[nom].astype('category')"
   ]
  },
  {
   "cell_type": "code",
   "execution_count": 97,
   "id": "59758aa3",
   "metadata": {},
   "outputs": [
    {
     "ename": "KeyError",
     "evalue": "'abus'",
     "output_type": "error",
     "traceback": [
      "\u001b[1;31m---------------------------------------------------------------------------\u001b[0m",
      "\u001b[1;31mKeyError\u001b[0m                                  Traceback (most recent call last)",
      "File \u001b[1;32m~\\Anaconda3\\lib\\site-packages\\pandas\\core\\indexes\\base.py:3621\u001b[0m, in \u001b[0;36mIndex.get_loc\u001b[1;34m(self, key, method, tolerance)\u001b[0m\n\u001b[0;32m   3620\u001b[0m \u001b[38;5;28;01mtry\u001b[39;00m:\n\u001b[1;32m-> 3621\u001b[0m     \u001b[38;5;28;01mreturn\u001b[39;00m \u001b[38;5;28;43mself\u001b[39;49m\u001b[38;5;241;43m.\u001b[39;49m\u001b[43m_engine\u001b[49m\u001b[38;5;241;43m.\u001b[39;49m\u001b[43mget_loc\u001b[49m\u001b[43m(\u001b[49m\u001b[43mcasted_key\u001b[49m\u001b[43m)\u001b[49m\n\u001b[0;32m   3622\u001b[0m \u001b[38;5;28;01mexcept\u001b[39;00m \u001b[38;5;167;01mKeyError\u001b[39;00m \u001b[38;5;28;01mas\u001b[39;00m err:\n",
      "File \u001b[1;32m~\\Anaconda3\\lib\\site-packages\\pandas\\_libs\\index.pyx:136\u001b[0m, in \u001b[0;36mpandas._libs.index.IndexEngine.get_loc\u001b[1;34m()\u001b[0m\n",
      "File \u001b[1;32m~\\Anaconda3\\lib\\site-packages\\pandas\\_libs\\index.pyx:163\u001b[0m, in \u001b[0;36mpandas._libs.index.IndexEngine.get_loc\u001b[1;34m()\u001b[0m\n",
      "File \u001b[1;32mpandas\\_libs\\hashtable_class_helper.pxi:5198\u001b[0m, in \u001b[0;36mpandas._libs.hashtable.PyObjectHashTable.get_item\u001b[1;34m()\u001b[0m\n",
      "File \u001b[1;32mpandas\\_libs\\hashtable_class_helper.pxi:5206\u001b[0m, in \u001b[0;36mpandas._libs.hashtable.PyObjectHashTable.get_item\u001b[1;34m()\u001b[0m\n",
      "\u001b[1;31mKeyError\u001b[0m: 'abus'",
      "\nThe above exception was the direct cause of the following exception:\n",
      "\u001b[1;31mKeyError\u001b[0m                                  Traceback (most recent call last)",
      "Input \u001b[1;32mIn [97]\u001b[0m, in \u001b[0;36m<cell line: 3>\u001b[1;34m()\u001b[0m\n\u001b[0;32m      1\u001b[0m \u001b[38;5;66;03m# Changer les noms des modalités \u001b[39;00m\n\u001b[0;32m      2\u001b[0m df_nan[\u001b[38;5;124m'\u001b[39m\u001b[38;5;124mservice\u001b[39m\u001b[38;5;124m'\u001b[39m] \u001b[38;5;241m=\u001b[39m df_nan[\u001b[38;5;124m'\u001b[39m\u001b[38;5;124mservice\u001b[39m\u001b[38;5;124m'\u001b[39m]\u001b[38;5;241m.\u001b[39mmap({\u001b[38;5;241m0\u001b[39m: \u001b[38;5;124m\"\u001b[39m\u001b[38;5;124mnon.cons\u001b[39m\u001b[38;5;124m\"\u001b[39m, \u001b[38;5;241m1\u001b[39m: \u001b[38;5;124m\"\u001b[39m\u001b[38;5;124moui.cons\u001b[39m\u001b[38;5;124m\"\u001b[39m}) \n\u001b[1;32m----> 3\u001b[0m df_nan[\u001b[38;5;124m'\u001b[39m\u001b[38;5;124mabus.enf\u001b[39m\u001b[38;5;124m'\u001b[39m] \u001b[38;5;241m=\u001b[39m \u001b[43mdf_nan\u001b[49m\u001b[43m[\u001b[49m\u001b[38;5;124;43m'\u001b[39;49m\u001b[38;5;124;43mabus\u001b[39;49m\u001b[38;5;124;43m'\u001b[39;49m\u001b[43m]\u001b[49m\u001b[38;5;241m.\u001b[39mmap({\u001b[38;5;241m0\u001b[39m: \u001b[38;5;124m\"\u001b[39m\u001b[38;5;124mnon.abus\u001b[39m\u001b[38;5;124m\"\u001b[39m, \u001b[38;5;241m1\u001b[39m: \u001b[38;5;124m\"\u001b[39m\u001b[38;5;124moui.abus\u001b[39m\u001b[38;5;124m\"\u001b[39m})\n",
      "File \u001b[1;32m~\\Anaconda3\\lib\\site-packages\\pandas\\core\\frame.py:3505\u001b[0m, in \u001b[0;36mDataFrame.__getitem__\u001b[1;34m(self, key)\u001b[0m\n\u001b[0;32m   3503\u001b[0m \u001b[38;5;28;01mif\u001b[39;00m \u001b[38;5;28mself\u001b[39m\u001b[38;5;241m.\u001b[39mcolumns\u001b[38;5;241m.\u001b[39mnlevels \u001b[38;5;241m>\u001b[39m \u001b[38;5;241m1\u001b[39m:\n\u001b[0;32m   3504\u001b[0m     \u001b[38;5;28;01mreturn\u001b[39;00m \u001b[38;5;28mself\u001b[39m\u001b[38;5;241m.\u001b[39m_getitem_multilevel(key)\n\u001b[1;32m-> 3505\u001b[0m indexer \u001b[38;5;241m=\u001b[39m \u001b[38;5;28;43mself\u001b[39;49m\u001b[38;5;241;43m.\u001b[39;49m\u001b[43mcolumns\u001b[49m\u001b[38;5;241;43m.\u001b[39;49m\u001b[43mget_loc\u001b[49m\u001b[43m(\u001b[49m\u001b[43mkey\u001b[49m\u001b[43m)\u001b[49m\n\u001b[0;32m   3506\u001b[0m \u001b[38;5;28;01mif\u001b[39;00m is_integer(indexer):\n\u001b[0;32m   3507\u001b[0m     indexer \u001b[38;5;241m=\u001b[39m [indexer]\n",
      "File \u001b[1;32m~\\Anaconda3\\lib\\site-packages\\pandas\\core\\indexes\\base.py:3623\u001b[0m, in \u001b[0;36mIndex.get_loc\u001b[1;34m(self, key, method, tolerance)\u001b[0m\n\u001b[0;32m   3621\u001b[0m     \u001b[38;5;28;01mreturn\u001b[39;00m \u001b[38;5;28mself\u001b[39m\u001b[38;5;241m.\u001b[39m_engine\u001b[38;5;241m.\u001b[39mget_loc(casted_key)\n\u001b[0;32m   3622\u001b[0m \u001b[38;5;28;01mexcept\u001b[39;00m \u001b[38;5;167;01mKeyError\u001b[39;00m \u001b[38;5;28;01mas\u001b[39;00m err:\n\u001b[1;32m-> 3623\u001b[0m     \u001b[38;5;28;01mraise\u001b[39;00m \u001b[38;5;167;01mKeyError\u001b[39;00m(key) \u001b[38;5;28;01mfrom\u001b[39;00m \u001b[38;5;21;01merr\u001b[39;00m\n\u001b[0;32m   3624\u001b[0m \u001b[38;5;28;01mexcept\u001b[39;00m \u001b[38;5;167;01mTypeError\u001b[39;00m:\n\u001b[0;32m   3625\u001b[0m     \u001b[38;5;66;03m# If we have a listlike key, _check_indexing_error will raise\u001b[39;00m\n\u001b[0;32m   3626\u001b[0m     \u001b[38;5;66;03m#  InvalidIndexError. Otherwise we fall through and re-raise\u001b[39;00m\n\u001b[0;32m   3627\u001b[0m     \u001b[38;5;66;03m#  the TypeError.\u001b[39;00m\n\u001b[0;32m   3628\u001b[0m     \u001b[38;5;28mself\u001b[39m\u001b[38;5;241m.\u001b[39m_check_indexing_error(key)\n",
      "\u001b[1;31mKeyError\u001b[0m: 'abus'"
     ]
    }
   ],
   "source": [
    "# # Changer les noms des modalités \n",
    "# df_nan['service'] = df_nan['service'].map({0: \"non.cons\", 1: \"oui.cons\"}) \n",
    "# df_nan['abus.enf'] = df_nan['abus'].map({0: \"non.abus\", 1: \"oui.abus\"}) "
   ]
  },
  {
   "cell_type": "code",
   "execution_count": 98,
   "id": "372177c6",
   "metadata": {},
   "outputs": [
    {
     "ename": "AttributeError",
     "evalue": "'numpy.ndarray' object has no attribute 'unique'",
     "output_type": "error",
     "traceback": [
      "\u001b[1;31m---------------------------------------------------------------------------\u001b[0m",
      "\u001b[1;31mAttributeError\u001b[0m                            Traceback (most recent call last)",
      "Input \u001b[1;32mIn [98]\u001b[0m, in \u001b[0;36m<cell line: 2>\u001b[1;34m()\u001b[0m\n\u001b[0;32m      1\u001b[0m service \u001b[38;5;241m=\u001b[39m []\n\u001b[1;32m----> 2\u001b[0m \u001b[38;5;28;01mfor\u001b[39;00m num \u001b[38;5;129;01min\u001b[39;00m \u001b[43mdf_nan\u001b[49m\u001b[43m[\u001b[49m\u001b[38;5;124;43m'\u001b[39;49m\u001b[38;5;124;43mservice\u001b[39;49m\u001b[38;5;124;43m'\u001b[39;49m\u001b[43m]\u001b[49m\u001b[38;5;241;43m.\u001b[39;49m\u001b[43mvalues\u001b[49m\u001b[38;5;241;43m.\u001b[39;49m\u001b[43munique\u001b[49m():\n\u001b[0;32m      3\u001b[0m     df_nan[\u001b[38;5;124m'\u001b[39m\u001b[38;5;124mservice\u001b[39m\u001b[38;5;124m'\u001b[39m] \u001b[38;5;241m=\u001b[39m df_nan[\u001b[38;5;124m'\u001b[39m\u001b[38;5;124mservice\u001b[39m\u001b[38;5;124m'\u001b[39m]\u001b[38;5;241m.\u001b[39mmap({num: \u001b[38;5;124m\"\u001b[39m\u001b[38;5;124mnon.cons\u001b[39m\u001b[38;5;124m\"\u001b[39m})\n",
      "\u001b[1;31mAttributeError\u001b[0m: 'numpy.ndarray' object has no attribute 'unique'"
     ]
    }
   ],
   "source": [
    "service = []\n",
    "for num in df_nan['service'].values.unique():\n",
    "    df_nan['service'] = df_nan['service'].map({num: \"non.cons\"})"
   ]
  },
  {
   "cell_type": "code",
   "execution_count": 102,
   "id": "40f9f42e",
   "metadata": {},
   "outputs": [
    {
     "ename": "AttributeError",
     "evalue": "'numpy.ndarray' object has no attribute 'unique'",
     "output_type": "error",
     "traceback": [
      "\u001b[1;31m---------------------------------------------------------------------------\u001b[0m",
      "\u001b[1;31mAttributeError\u001b[0m                            Traceback (most recent call last)",
      "Input \u001b[1;32mIn [102]\u001b[0m, in \u001b[0;36m<cell line: 2>\u001b[1;34m()\u001b[0m\n\u001b[0;32m      1\u001b[0m liste \u001b[38;5;241m=\u001b[39m [\u001b[38;5;124m\"\u001b[39m\u001b[38;5;124mHomme\u001b[39m\u001b[38;5;124m\"\u001b[39m, \u001b[38;5;124m\"\u001b[39m\u001b[38;5;124mFemme\u001b[39m\u001b[38;5;124m\"\u001b[39m]\n\u001b[0;32m      2\u001b[0m \u001b[38;5;28;01mfor\u001b[39;00m i \u001b[38;5;129;01min\u001b[39;00m liste:\n\u001b[1;32m----> 3\u001b[0m     \u001b[38;5;28;01mfor\u001b[39;00m num \u001b[38;5;129;01min\u001b[39;00m \u001b[43mdf_nan\u001b[49m\u001b[43m[\u001b[49m\u001b[38;5;124;43m'\u001b[39;49m\u001b[38;5;124;43msexe\u001b[39;49m\u001b[38;5;124;43m'\u001b[39;49m\u001b[43m]\u001b[49m\u001b[38;5;241;43m.\u001b[39;49m\u001b[43mvalues\u001b[49m\u001b[38;5;241;43m.\u001b[39;49m\u001b[43munique\u001b[49m():\n\u001b[0;32m      4\u001b[0m         df_nan[\u001b[38;5;124m'\u001b[39m\u001b[38;5;124msexe\u001b[39m\u001b[38;5;124m'\u001b[39m] \u001b[38;5;241m=\u001b[39m df_nan[\u001b[38;5;124m'\u001b[39m\u001b[38;5;124msexe\u001b[39m\u001b[38;5;124m'\u001b[39m]\u001b[38;5;241m.\u001b[39mmap({num: i})\n\u001b[0;32m      5\u001b[0m         \u001b[38;5;28mprint\u001b[39m(df_nan[\u001b[38;5;124m'\u001b[39m\u001b[38;5;124msexe\u001b[39m\u001b[38;5;124m'\u001b[39m])\n",
      "\u001b[1;31mAttributeError\u001b[0m: 'numpy.ndarray' object has no attribute 'unique'"
     ]
    }
   ],
   "source": [
    "liste = [\"Homme\", \"Femme\"]\n",
    "for i in liste:\n",
    "    for num in df_nan['sexe'].values.unique():\n",
    "        df_nan['sexe'] = df_nan['sexe'].map({num: i})\n",
    "        print(df_nan['sexe'])"
   ]
  },
  {
   "cell_type": "code",
   "execution_count": 101,
   "id": "22f6a3eb",
   "metadata": {},
   "outputs": [
    {
     "data": {
      "text/plain": [
       "count       0\n",
       "unique      0\n",
       "top       NaN\n",
       "freq      NaN\n",
       "Name: sexe, dtype: object"
      ]
     },
     "execution_count": 101,
     "metadata": {},
     "output_type": "execute_result"
    }
   ],
   "source": [
    "df_nan['sexe'].describe()"
   ]
  },
  {
   "cell_type": "code",
   "execution_count": 100,
   "id": "dd9e7af5",
   "metadata": {},
   "outputs": [
    {
     "name": "stdout",
     "output_type": "stream",
     "text": [
      "<class 'pandas.core.frame.DataFrame'>\n",
      "RangeIndex: 534 entries, 0 to 533\n",
      "Data columns (total 9 columns):\n",
      " #   Column         Non-Null Count  Dtype   \n",
      "---  ------         --------------  -----   \n",
      " 0   service        65 non-null     object  \n",
      " 1   sexe           0 non-null      object  \n",
      " 2   age            534 non-null    float64 \n",
      " 3   profession     534 non-null    category\n",
      " 4   AmelioSante    534 non-null    category\n",
      " 5   AmelioMorale   534 non-null    category\n",
      " 6   recommander    534 non-null    category\n",
      " 7   ScoreRelation  534 non-null    float64 \n",
      " 8   ScoreInfo      534 non-null    float64 \n",
      "dtypes: category(4), float64(3), object(2)\n",
      "memory usage: 24.0+ KB\n"
     ]
    }
   ],
   "source": [
    "df_nan.info()"
   ]
  },
  {
   "cell_type": "code",
   "execution_count": 34,
   "id": "82d8e570",
   "metadata": {},
   "outputs": [
    {
     "data": {
      "text/html": [
       "<div>\n",
       "<style scoped>\n",
       "    .dataframe tbody tr th:only-of-type {\n",
       "        vertical-align: middle;\n",
       "    }\n",
       "\n",
       "    .dataframe tbody tr th {\n",
       "        vertical-align: top;\n",
       "    }\n",
       "\n",
       "    .dataframe thead th {\n",
       "        text-align: right;\n",
       "    }\n",
       "</style>\n",
       "<table border=\"1\" class=\"dataframe\">\n",
       "  <thead>\n",
       "    <tr style=\"text-align: right;\">\n",
       "      <th></th>\n",
       "      <th>service</th>\n",
       "      <th>sexe</th>\n",
       "      <th>age</th>\n",
       "      <th>profession</th>\n",
       "      <th>AmelioSante</th>\n",
       "      <th>AmelioMorale</th>\n",
       "      <th>recommander</th>\n",
       "      <th>ScoreRelation</th>\n",
       "      <th>ScoreInfo</th>\n",
       "    </tr>\n",
       "  </thead>\n",
       "  <tbody>\n",
       "    <tr>\n",
       "      <th>0</th>\n",
       "      <td>3</td>\n",
       "      <td>0</td>\n",
       "      <td>41.0</td>\n",
       "      <td>4</td>\n",
       "      <td>1</td>\n",
       "      <td>0</td>\n",
       "      <td>1</td>\n",
       "      <td>36.0</td>\n",
       "      <td>22.0</td>\n",
       "    </tr>\n",
       "    <tr>\n",
       "      <th>1</th>\n",
       "      <td>3</td>\n",
       "      <td>1</td>\n",
       "      <td>29.0</td>\n",
       "      <td>8</td>\n",
       "      <td>2</td>\n",
       "      <td>3</td>\n",
       "      <td>2</td>\n",
       "      <td>33.0</td>\n",
       "      <td>36.0</td>\n",
       "    </tr>\n",
       "    <tr>\n",
       "      <th>2</th>\n",
       "      <td>3</td>\n",
       "      <td>1</td>\n",
       "      <td>83.0</td>\n",
       "      <td>2</td>\n",
       "      <td>2</td>\n",
       "      <td>1</td>\n",
       "      <td>2</td>\n",
       "      <td>40.0</td>\n",
       "      <td>37.0</td>\n",
       "    </tr>\n",
       "    <tr>\n",
       "      <th>3</th>\n",
       "      <td>3</td>\n",
       "      <td>0</td>\n",
       "      <td>66.0</td>\n",
       "      <td>3</td>\n",
       "      <td>2</td>\n",
       "      <td>0</td>\n",
       "      <td>2</td>\n",
       "      <td>32.0</td>\n",
       "      <td>35.0</td>\n",
       "    </tr>\n",
       "    <tr>\n",
       "      <th>4</th>\n",
       "      <td>3</td>\n",
       "      <td>1</td>\n",
       "      <td>84.0</td>\n",
       "      <td>4</td>\n",
       "      <td>2</td>\n",
       "      <td>1</td>\n",
       "      <td>1</td>\n",
       "      <td>37.2</td>\n",
       "      <td>30.3</td>\n",
       "    </tr>\n",
       "  </tbody>\n",
       "</table>\n",
       "</div>"
      ],
      "text/plain": [
       "  service sexe   age profession AmelioSante AmelioMorale recommander  \\\n",
       "0       3    0  41.0          4           1            0           1   \n",
       "1       3    1  29.0          8           2            3           2   \n",
       "2       3    1  83.0          2           2            1           2   \n",
       "3       3    0  66.0          3           2            0           2   \n",
       "4       3    1  84.0          4           2            1           1   \n",
       "\n",
       "   ScoreRelation  ScoreInfo  \n",
       "0           36.0       22.0  \n",
       "1           33.0       36.0  \n",
       "2           40.0       37.0  \n",
       "3           32.0       35.0  \n",
       "4           37.2       30.3  "
      ]
     },
     "execution_count": 34,
     "metadata": {},
     "output_type": "execute_result"
    }
   ],
   "source": [
    "df_nan.head()"
   ]
  },
  {
   "cell_type": "code",
   "execution_count": 35,
   "id": "44880787",
   "metadata": {},
   "outputs": [
    {
     "data": {
      "text/html": [
       "<div>\n",
       "<style scoped>\n",
       "    .dataframe tbody tr th:only-of-type {\n",
       "        vertical-align: middle;\n",
       "    }\n",
       "\n",
       "    .dataframe tbody tr th {\n",
       "        vertical-align: top;\n",
       "    }\n",
       "\n",
       "    .dataframe thead th {\n",
       "        text-align: right;\n",
       "    }\n",
       "</style>\n",
       "<table border=\"1\" class=\"dataframe\">\n",
       "  <thead>\n",
       "    <tr style=\"text-align: right;\">\n",
       "      <th></th>\n",
       "      <th>age</th>\n",
       "      <th>ScoreRelation</th>\n",
       "      <th>ScoreInfo</th>\n",
       "    </tr>\n",
       "  </thead>\n",
       "  <tbody>\n",
       "    <tr>\n",
       "      <th>count</th>\n",
       "      <td>534.000000</td>\n",
       "      <td>534.000000</td>\n",
       "      <td>534.000000</td>\n",
       "    </tr>\n",
       "    <tr>\n",
       "      <th>mean</th>\n",
       "      <td>58.070412</td>\n",
       "      <td>35.330150</td>\n",
       "      <td>31.672472</td>\n",
       "    </tr>\n",
       "    <tr>\n",
       "      <th>std</th>\n",
       "      <td>17.772052</td>\n",
       "      <td>3.832395</td>\n",
       "      <td>5.845186</td>\n",
       "    </tr>\n",
       "    <tr>\n",
       "      <th>min</th>\n",
       "      <td>18.000000</td>\n",
       "      <td>13.000000</td>\n",
       "      <td>13.000000</td>\n",
       "    </tr>\n",
       "    <tr>\n",
       "      <th>25%</th>\n",
       "      <td>45.000000</td>\n",
       "      <td>33.800000</td>\n",
       "      <td>28.000000</td>\n",
       "    </tr>\n",
       "    <tr>\n",
       "      <th>50%</th>\n",
       "      <td>59.000000</td>\n",
       "      <td>36.000000</td>\n",
       "      <td>32.350000</td>\n",
       "    </tr>\n",
       "    <tr>\n",
       "      <th>75%</th>\n",
       "      <td>72.000000</td>\n",
       "      <td>38.000000</td>\n",
       "      <td>36.000000</td>\n",
       "    </tr>\n",
       "    <tr>\n",
       "      <th>max</th>\n",
       "      <td>97.000000</td>\n",
       "      <td>40.000000</td>\n",
       "      <td>40.000000</td>\n",
       "    </tr>\n",
       "  </tbody>\n",
       "</table>\n",
       "</div>"
      ],
      "text/plain": [
       "              age  ScoreRelation   ScoreInfo\n",
       "count  534.000000     534.000000  534.000000\n",
       "mean    58.070412      35.330150   31.672472\n",
       "std     17.772052       3.832395    5.845186\n",
       "min     18.000000      13.000000   13.000000\n",
       "25%     45.000000      33.800000   28.000000\n",
       "50%     59.000000      36.000000   32.350000\n",
       "75%     72.000000      38.000000   36.000000\n",
       "max     97.000000      40.000000   40.000000"
      ]
     },
     "execution_count": 35,
     "metadata": {},
     "output_type": "execute_result"
    }
   ],
   "source": [
    "df_nan.describe()"
   ]
  },
  {
   "cell_type": "code",
   "execution_count": 36,
   "id": "58f0ba80",
   "metadata": {},
   "outputs": [
    {
     "data": {
      "text/html": [
       "<div>\n",
       "<style scoped>\n",
       "    .dataframe tbody tr th:only-of-type {\n",
       "        vertical-align: middle;\n",
       "    }\n",
       "\n",
       "    .dataframe tbody tr th {\n",
       "        vertical-align: top;\n",
       "    }\n",
       "\n",
       "    .dataframe thead th {\n",
       "        text-align: right;\n",
       "    }\n",
       "</style>\n",
       "<table border=\"1\" class=\"dataframe\">\n",
       "  <thead>\n",
       "    <tr style=\"text-align: right;\">\n",
       "      <th></th>\n",
       "      <th>service</th>\n",
       "      <th>sexe</th>\n",
       "      <th>profession</th>\n",
       "      <th>AmelioSante</th>\n",
       "      <th>AmelioMorale</th>\n",
       "      <th>recommander</th>\n",
       "    </tr>\n",
       "  </thead>\n",
       "  <tbody>\n",
       "    <tr>\n",
       "      <th>count</th>\n",
       "      <td>534</td>\n",
       "      <td>534</td>\n",
       "      <td>534</td>\n",
       "      <td>534</td>\n",
       "      <td>534</td>\n",
       "      <td>534</td>\n",
       "    </tr>\n",
       "    <tr>\n",
       "      <th>unique</th>\n",
       "      <td>8</td>\n",
       "      <td>2</td>\n",
       "      <td>8</td>\n",
       "      <td>4</td>\n",
       "      <td>4</td>\n",
       "      <td>3</td>\n",
       "    </tr>\n",
       "    <tr>\n",
       "      <th>top</th>\n",
       "      <td>5</td>\n",
       "      <td>0</td>\n",
       "      <td>3</td>\n",
       "      <td>2</td>\n",
       "      <td>1</td>\n",
       "      <td>2</td>\n",
       "    </tr>\n",
       "    <tr>\n",
       "      <th>freq</th>\n",
       "      <td>71</td>\n",
       "      <td>268</td>\n",
       "      <td>156</td>\n",
       "      <td>271</td>\n",
       "      <td>307</td>\n",
       "      <td>273</td>\n",
       "    </tr>\n",
       "  </tbody>\n",
       "</table>\n",
       "</div>"
      ],
      "text/plain": [
       "        service  sexe  profession  AmelioSante  AmelioMorale  recommander\n",
       "count       534   534         534          534           534          534\n",
       "unique        8     2           8            4             4            3\n",
       "top           5     0           3            2             1            2\n",
       "freq         71   268         156          271           307          273"
      ]
     },
     "execution_count": 36,
     "metadata": {},
     "output_type": "execute_result"
    }
   ],
   "source": [
    "df_nan.describe(include='category')"
   ]
  },
  {
   "cell_type": "code",
   "execution_count": 37,
   "id": "39250b25",
   "metadata": {},
   "outputs": [],
   "source": [
    "dfOk=df_nan.drop_duplicates()"
   ]
  },
  {
   "cell_type": "code",
   "execution_count": 38,
   "id": "6e09cd88",
   "metadata": {},
   "outputs": [
    {
     "data": {
      "text/html": [
       "<div>\n",
       "<style scoped>\n",
       "    .dataframe tbody tr th:only-of-type {\n",
       "        vertical-align: middle;\n",
       "    }\n",
       "\n",
       "    .dataframe tbody tr th {\n",
       "        vertical-align: top;\n",
       "    }\n",
       "\n",
       "    .dataframe thead th {\n",
       "        text-align: right;\n",
       "    }\n",
       "</style>\n",
       "<table border=\"1\" class=\"dataframe\">\n",
       "  <thead>\n",
       "    <tr style=\"text-align: right;\">\n",
       "      <th></th>\n",
       "      <th>service</th>\n",
       "      <th>sexe</th>\n",
       "      <th>age</th>\n",
       "      <th>profession</th>\n",
       "      <th>AmelioSante</th>\n",
       "      <th>AmelioMorale</th>\n",
       "      <th>recommander</th>\n",
       "      <th>ScoreRelation</th>\n",
       "      <th>ScoreInfo</th>\n",
       "    </tr>\n",
       "  </thead>\n",
       "  <tbody>\n",
       "    <tr>\n",
       "      <th>0</th>\n",
       "      <td>3</td>\n",
       "      <td>0</td>\n",
       "      <td>41.0</td>\n",
       "      <td>4</td>\n",
       "      <td>1</td>\n",
       "      <td>0</td>\n",
       "      <td>1</td>\n",
       "      <td>36.0</td>\n",
       "      <td>22.0</td>\n",
       "    </tr>\n",
       "    <tr>\n",
       "      <th>1</th>\n",
       "      <td>3</td>\n",
       "      <td>1</td>\n",
       "      <td>29.0</td>\n",
       "      <td>8</td>\n",
       "      <td>2</td>\n",
       "      <td>3</td>\n",
       "      <td>2</td>\n",
       "      <td>33.0</td>\n",
       "      <td>36.0</td>\n",
       "    </tr>\n",
       "    <tr>\n",
       "      <th>2</th>\n",
       "      <td>3</td>\n",
       "      <td>1</td>\n",
       "      <td>83.0</td>\n",
       "      <td>2</td>\n",
       "      <td>2</td>\n",
       "      <td>1</td>\n",
       "      <td>2</td>\n",
       "      <td>40.0</td>\n",
       "      <td>37.0</td>\n",
       "    </tr>\n",
       "    <tr>\n",
       "      <th>3</th>\n",
       "      <td>3</td>\n",
       "      <td>0</td>\n",
       "      <td>66.0</td>\n",
       "      <td>3</td>\n",
       "      <td>2</td>\n",
       "      <td>0</td>\n",
       "      <td>2</td>\n",
       "      <td>32.0</td>\n",
       "      <td>35.0</td>\n",
       "    </tr>\n",
       "    <tr>\n",
       "      <th>4</th>\n",
       "      <td>3</td>\n",
       "      <td>1</td>\n",
       "      <td>84.0</td>\n",
       "      <td>4</td>\n",
       "      <td>2</td>\n",
       "      <td>1</td>\n",
       "      <td>1</td>\n",
       "      <td>37.2</td>\n",
       "      <td>30.3</td>\n",
       "    </tr>\n",
       "  </tbody>\n",
       "</table>\n",
       "</div>"
      ],
      "text/plain": [
       "  service sexe   age profession AmelioSante AmelioMorale recommander  \\\n",
       "0       3    0  41.0          4           1            0           1   \n",
       "1       3    1  29.0          8           2            3           2   \n",
       "2       3    1  83.0          2           2            1           2   \n",
       "3       3    0  66.0          3           2            0           2   \n",
       "4       3    1  84.0          4           2            1           1   \n",
       "\n",
       "   ScoreRelation  ScoreInfo  \n",
       "0           36.0       22.0  \n",
       "1           33.0       36.0  \n",
       "2           40.0       37.0  \n",
       "3           32.0       35.0  \n",
       "4           37.2       30.3  "
      ]
     },
     "execution_count": 38,
     "metadata": {},
     "output_type": "execute_result"
    }
   ],
   "source": [
    "dfOk.head()"
   ]
  },
  {
   "cell_type": "code",
   "execution_count": 39,
   "id": "54d44ef0",
   "metadata": {},
   "outputs": [
    {
     "data": {
      "text/plain": [
       "0"
      ]
     },
     "execution_count": 39,
     "metadata": {},
     "output_type": "execute_result"
    }
   ],
   "source": [
    "len(dfOk[dfOk.duplicated()])"
   ]
  },
  {
   "cell_type": "raw",
   "id": "5298e00e",
   "metadata": {},
   "source": [
    "Le resultat ci-dessus montre qu'il n'y a plus de doublons dans notre dataset\n",
    "Il n'y a également plus de NaN dans notre DataSet\n",
    "Nous pouvons Alors passer à l analyse a proprement dite."
   ]
  },
  {
   "cell_type": "markdown",
   "id": "d38281fb",
   "metadata": {},
   "source": [
    "## Traitement des valeurs aberrantes"
   ]
  },
  {
   "cell_type": "code",
   "execution_count": 40,
   "id": "2d405eb6",
   "metadata": {},
   "outputs": [
    {
     "data": {
      "image/png": "[encoded data removed]",
      "text/plain": [
       "<Figure size 1080x504 with 1 Axes>"
      ]
     },
     "metadata": {
      "needs_background": "light"
     },
     "output_type": "display_data"
    }
   ],
   "source": [
    "plt.figure(figsize=(15, 7))\n",
    "plt.boxplot(dfOk)\n",
    "plt.title('VISUALISATION DES VALEURS ABERRANTES')\n",
    "plt.xticks()\n",
    "plt.show() "
   ]
  },
  {
   "cell_type": "code",
   "execution_count": 41,
   "id": "66746867",
   "metadata": {},
   "outputs": [
    {
     "data": {
      "image/png": "[encoded data removed]",
      "text/plain": [
       "<Figure size 720x504 with 1 Axes>"
      ]
     },
     "metadata": {
      "needs_background": "light"
     },
     "output_type": "display_data"
    }
   ],
   "source": [
    "plt.figure(figsize=(10, 7))\n",
    "plt.boxplot(dfOk['ScoreRelation'])\n",
    "plt.title('VISUALISATION APPROFONDIE DE ScoreRelation AVANT WINZORISATION')\n",
    "plt.show() "
   ]
  },
  {
   "cell_type": "code",
   "execution_count": 42,
   "id": "430417dc",
   "metadata": {},
   "outputs": [],
   "source": [
    "from scipy.stats.mstats import winsorize # Pour Winzorizer"
   ]
  },
  {
   "cell_type": "code",
   "execution_count": 43,
   "id": "dd7581cd",
   "metadata": {},
   "outputs": [
    {
     "data": {
      "text/plain": [
       "0      36.0\n",
       "1      33.0\n",
       "2      40.0\n",
       "3      32.0\n",
       "4      37.2\n",
       "       ... \n",
       "529    35.4\n",
       "530    35.3\n",
       "531    32.0\n",
       "532    30.0\n",
       "533    36.0\n",
       "Name: ScoreRelation, Length: 522, dtype: float64"
      ]
     },
     "execution_count": 43,
     "metadata": {},
     "output_type": "execute_result"
    }
   ],
   "source": [
    "dfOk.loc[:,('ScoreRelation')]"
   ]
  },
  {
   "cell_type": "code",
   "execution_count": 44,
   "id": "6964ad65",
   "metadata": {},
   "outputs": [
    {
     "name": "stderr",
     "output_type": "stream",
     "text": [
      "C:\\Users\\THINKPAD\\AppData\\Local\\Temp\\ipykernel_13120\\1174329566.py:1: SettingWithCopyWarning: \n",
      "A value is trying to be set on a copy of a slice from a DataFrame.\n",
      "Try using .loc[row_indexer,col_indexer] = value instead\n",
      "\n",
      "See the caveats in the documentation: https://pandas.pydata.org/pandas-docs/stable/user_guide/indexing.html#returning-a-view-versus-a-copy\n",
      "  dfOk.loc[:,('ScoreRelation')] = winsorize(dfOk.loc[:,('ScoreRelation')], (0.05,0.05))\n"
     ]
    }
   ],
   "source": [
    "dfOk.loc[:,('ScoreRelation')] = winsorize(dfOk.loc[:,('ScoreRelation')], (0.05,0.05))"
   ]
  },
  {
   "cell_type": "code",
   "execution_count": 45,
   "id": "2f2844af",
   "metadata": {},
   "outputs": [
    {
     "data": {
      "image/png": "[encoded data removed]",
      "text/plain": [
       "<Figure size 720x504 with 1 Axes>"
      ]
     },
     "metadata": {
      "needs_background": "light"
     },
     "output_type": "display_data"
    }
   ],
   "source": [
    "plt.figure(figsize=(10, 7))\n",
    "plt.boxplot(dfOk['ScoreRelation'])\n",
    "plt.title('VISUALISATION DE ScoreRelation APRES WINZORISATION')\n",
    "plt.show()"
   ]
  },
  {
   "cell_type": "markdown",
   "id": "e30d7145",
   "metadata": {},
   "source": [
    "# II- Statistique Inferentielle"
   ]
  },
  {
   "cell_type": "markdown",
   "id": "8b1a4da8",
   "metadata": {},
   "source": [
    "## 1- Tests de comparaison de deux populations"
   ]
  },
  {
   "cell_type": "markdown",
   "id": "b75d7c86",
   "metadata": {},
   "source": [
    "### Variable age"
   ]
  },
  {
   "cell_type": "code",
   "execution_count": 46,
   "id": "bdff5375",
   "metadata": {},
   "outputs": [],
   "source": [
    "age = dfOk.loc[:, 'age']"
   ]
  },
  {
   "cell_type": "code",
   "execution_count": 47,
   "id": "819fdacc",
   "metadata": {},
   "outputs": [
    {
     "name": "stderr",
     "output_type": "stream",
     "text": [
      "C:\\Users\\THINKPAD\\Anaconda3\\lib\\site-packages\\seaborn\\distributions.py:2619: FutureWarning: `distplot` is a deprecated function and will be removed in a future version. Please adapt your code to use either `displot` (a figure-level function with similar flexibility) or `histplot` (an axes-level function for histograms).\n",
      "  warnings.warn(msg, FutureWarning)\n"
     ]
    },
    {
     "data": {
      "image/png": "[encoded data removed]",
      "text/plain": [
       "<Figure size 1080x432 with 2 Axes>"
      ]
     },
     "metadata": {
      "needs_background": "light"
     },
     "output_type": "display_data"
    }
   ],
   "source": [
    "# Histogramme\n",
    "plt.figure(figsize=(15,6))\n",
    "plt.subplot(121)\n",
    "sns.distplot(a=age, bins=10, color='red',\n",
    "             hist_kws={\"edgecolor\": 'white'})\n",
    "plt.xlabel('Ages des patients')\n",
    "plt.title(\"REPARTITION DES AGES DES PATIENTS\")\n",
    "\n",
    "# Boîte à moustaches \n",
    "plt.subplot(122)\n",
    "sns.boxplot(data=age, color='red')\n",
    "# plt.xlabel('Ages des patients')\n",
    "plt.title(\"BOITE À MOUSTACHE DES AGES DES PATIENTS\")\n",
    "plt.show()"
   ]
  },
  {
   "cell_type": "code",
   "execution_count": 48,
   "id": "e685640b",
   "metadata": {},
   "outputs": [
    {
     "data": {
      "text/plain": [
       "NormaltestResult(statistic=30.938546800468213, pvalue=1.9132861301853655e-07)"
      ]
     },
     "execution_count": 48,
     "metadata": {},
     "output_type": "execute_result"
    }
   ],
   "source": [
    "# Test de normalité\n",
    "stats.normaltest(age)"
   ]
  },
  {
   "cell_type": "code",
   "execution_count": 49,
   "id": "a3351b5c",
   "metadata": {},
   "outputs": [
    {
     "data": {
      "text/plain": [
       "count    522.0\n",
       "mean      58.0\n",
       "std       18.0\n",
       "min       18.0\n",
       "25%       45.0\n",
       "50%       59.0\n",
       "75%       71.0\n",
       "max       97.0\n",
       "Name: age, dtype: float64"
      ]
     },
     "execution_count": 49,
     "metadata": {},
     "output_type": "execute_result"
    }
   ],
   "source": [
    "# Resumé stat de l'age\n",
    "round(age.describe(), 0)"
   ]
  },
  {
   "cell_type": "code",
   "execution_count": 50,
   "id": "b113faf5",
   "metadata": {},
   "outputs": [
    {
     "data": {
      "text/plain": [
       "-0.16862279829393007"
      ]
     },
     "execution_count": 50,
     "metadata": {},
     "output_type": "execute_result"
    }
   ],
   "source": [
    "age.skew()"
   ]
  },
  {
   "cell_type": "code",
   "execution_count": 51,
   "id": "417e581b",
   "metadata": {},
   "outputs": [
    {
     "data": {
      "text/plain": [
       "-0.7189577831487912"
      ]
     },
     "execution_count": 51,
     "metadata": {},
     "output_type": "execute_result"
    }
   ],
   "source": [
    "age.kurtosis()"
   ]
  },
  {
   "cell_type": "code",
   "execution_count": 52,
   "id": "31f8ea63",
   "metadata": {},
   "outputs": [],
   "source": [
    "TabEffAge = age.value_counts().reset_index().rename(columns={'index':'Age', 'age':'Nombre'})"
   ]
  },
  {
   "cell_type": "code",
   "execution_count": 53,
   "id": "c1d5f6b7",
   "metadata": {},
   "outputs": [
    {
     "data": {
      "text/html": [
       "<div>\n",
       "<style scoped>\n",
       "    .dataframe tbody tr th:only-of-type {\n",
       "        vertical-align: middle;\n",
       "    }\n",
       "\n",
       "    .dataframe tbody tr th {\n",
       "        vertical-align: top;\n",
       "    }\n",
       "\n",
       "    .dataframe thead th {\n",
       "        text-align: right;\n",
       "    }\n",
       "</style>\n",
       "<table border=\"1\" class=\"dataframe\">\n",
       "  <thead>\n",
       "    <tr style=\"text-align: right;\">\n",
       "      <th></th>\n",
       "      <th>Age</th>\n",
       "      <th>Nombre</th>\n",
       "    </tr>\n",
       "  </thead>\n",
       "  <tbody>\n",
       "    <tr>\n",
       "      <th>62</th>\n",
       "      <td>18.0</td>\n",
       "      <td>3</td>\n",
       "    </tr>\n",
       "    <tr>\n",
       "      <th>72</th>\n",
       "      <td>19.0</td>\n",
       "      <td>2</td>\n",
       "    </tr>\n",
       "    <tr>\n",
       "      <th>69</th>\n",
       "      <td>20.0</td>\n",
       "      <td>2</td>\n",
       "    </tr>\n",
       "    <tr>\n",
       "      <th>57</th>\n",
       "      <td>21.0</td>\n",
       "      <td>3</td>\n",
       "    </tr>\n",
       "    <tr>\n",
       "      <th>65</th>\n",
       "      <td>22.0</td>\n",
       "      <td>3</td>\n",
       "    </tr>\n",
       "  </tbody>\n",
       "</table>\n",
       "</div>"
      ],
      "text/plain": [
       "     Age  Nombre\n",
       "62  18.0       3\n",
       "72  19.0       2\n",
       "69  20.0       2\n",
       "57  21.0       3\n",
       "65  22.0       3"
      ]
     },
     "execution_count": 53,
     "metadata": {},
     "output_type": "execute_result"
    }
   ],
   "source": [
    "TabEffAge.sort_values(by='Age').head()"
   ]
  },
  {
   "cell_type": "markdown",
   "id": "7bc1553c",
   "metadata": {},
   "source": [
    "### Variable ScoreRelation"
   ]
  },
  {
   "cell_type": "code",
   "execution_count": 54,
   "id": "7ac9ba02",
   "metadata": {},
   "outputs": [],
   "source": [
    "ScoreRelation = dfOk.loc[:, 'ScoreRelation']"
   ]
  },
  {
   "cell_type": "code",
   "execution_count": 55,
   "id": "897f1f80",
   "metadata": {},
   "outputs": [
    {
     "name": "stderr",
     "output_type": "stream",
     "text": [
      "C:\\Users\\THINKPAD\\Anaconda3\\lib\\site-packages\\seaborn\\distributions.py:2619: FutureWarning: `distplot` is a deprecated function and will be removed in a future version. Please adapt your code to use either `displot` (a figure-level function with similar flexibility) or `histplot` (an axes-level function for histograms).\n",
      "  warnings.warn(msg, FutureWarning)\n"
     ]
    },
    {
     "data": {
      "image/png": "[encoded data removed]",
      "text/plain": [
       "<Figure size 1080x360 with 2 Axes>"
      ]
     },
     "metadata": {
      "needs_background": "light"
     },
     "output_type": "display_data"
    }
   ],
   "source": [
    "# Histogramme\n",
    "plt.figure(figsize=(15,5))\n",
    "plt.subplot(121)\n",
    "# sns.histplot(ScoreRelation)\n",
    "sns.distplot(a=ScoreRelation, bins=10, color='blue',\n",
    "             hist_kws={\"edgecolor\": 'white'})\n",
    "plt.xlabel('ScoreRelations des patients')\n",
    "plt.title(\"REPARTITION DES ScoreRelations DES PATIENTS\")\n",
    "\n",
    "# Boîte à moustaches \n",
    "plt.subplot(122)\n",
    "sns.boxplot(data=ScoreRelation)\n",
    "# plt.xlabel('Score des patients')\n",
    "plt.title(\"BOÎTE À MOUSTACHE\")\n",
    "plt.show()"
   ]
  },
  {
   "cell_type": "code",
   "execution_count": 56,
   "id": "0b10e7e8",
   "metadata": {},
   "outputs": [
    {
     "name": "stdout",
     "output_type": "stream",
     "text": [
      "La p-value de _age_ est: 1.9132861301853655e-07\n",
      "La p-value de _ScoreRelation_ est: 2.6384468784958472e-08\n",
      "La p-value de _ScoreInfo_ est: 2.5309664767507705e-09\n",
      "On rejette H0, la distribution n'est pas normale.\n"
     ]
    }
   ],
   "source": [
    "#Fonction pour faire le test de Normalité \n",
    "\n",
    "res = [0, 0, 0]\n",
    "\n",
    "for col in dfOk.columns:\n",
    "    if dfOk[col].dtype == 'float64':\n",
    "        for i in range(3):\n",
    "            res[i] = stats.normaltest(dfOk[col]).pvalue\n",
    "        print(f\"La p-value de _{col}_ est: {res[0]}\")\n",
    "        \n",
    "if (res[0]>0.05)==True:\n",
    "    print(\"On accepte H0, la distribution est normale.\")\n",
    "else:\n",
    "    print(\"On rejette H0, la distribution n'est pas normale.\")"
   ]
  },
  {
   "cell_type": "code",
   "execution_count": 57,
   "id": "17c8a1cc",
   "metadata": {},
   "outputs": [
    {
     "name": "stdout",
     "output_type": "stream",
     "text": [
      "La p-value du test de normalité pour la colonne age est : [1.9132861301853655e-07]\n",
      "On rejette H0 pour la colonne age, la distribution n'est pas normale.\n",
      "\n",
      "La p-value du test de normalité pour la colonne ScoreRelation est : [2.6384468784958472e-08]\n",
      "On rejette H0 pour la colonne ScoreRelation, la distribution n'est pas normale.\n",
      "\n",
      "La p-value du test de normalité pour la colonne ScoreInfo est : [2.5309664767507705e-09]\n",
      "On rejette H0 pour la colonne ScoreInfo, la distribution n'est pas normale.\n",
      "\n"
     ]
    }
   ],
   "source": [
    "res = []\n",
    "\n",
    "for col in dfOk.columns:\n",
    "    if dfOk[col].dtype == 'float64':\n",
    "        p_values = [stats.normaltest(dfOk[col]).pvalue]\n",
    "        res.append((col, p_values))\n",
    "\n",
    "for col, p_values in res:\n",
    "    print(f\"La p-value du test de normalité pour la colonne {col} est : {p_values}\")\n",
    "\n",
    "    if all(p_value > 0.05 for p_value in p_values):\n",
    "        print(f\"On accepte H0 pour la colonne {col}, la distribution est normale.\\n\")\n",
    "    else:\n",
    "        print(f\"On rejette H0 pour la colonne {col}, la distribution n'est pas normale.\\n\")\n"
   ]
  },
  {
   "cell_type": "code",
   "execution_count": 58,
   "id": "e1d06320",
   "metadata": {},
   "outputs": [
    {
     "data": {
      "text/plain": [
       "count    522.0\n",
       "mean      36.0\n",
       "std        3.0\n",
       "min       28.0\n",
       "25%       34.0\n",
       "50%       36.0\n",
       "75%       38.0\n",
       "max       40.0\n",
       "Name: ScoreRelation, dtype: float64"
      ]
     },
     "execution_count": 58,
     "metadata": {},
     "output_type": "execute_result"
    }
   ],
   "source": [
    "# Resumé stat de l'age\n",
    "round(ScoreRelation.describe(), 0)"
   ]
  },
  {
   "cell_type": "code",
   "execution_count": 104,
   "id": "c09357d1",
   "metadata": {},
   "outputs": [
    {
     "data": {
      "text/plain": [
       "-0.68"
      ]
     },
     "execution_count": 104,
     "metadata": {},
     "output_type": "execute_result"
    }
   ],
   "source": [
    "round(ScoreRelation.skew(), 2)"
   ]
  },
  {
   "cell_type": "code",
   "execution_count": 129,
   "id": "f7127fe0",
   "metadata": {},
   "outputs": [],
   "source": [
    "def stat_descriptive(tableau):\n",
    "    \n",
    "    resume_stat = print(\"Les statistiques descriptives sont: \\n\", round(tableau.describe(), 2), \"\\n\")\n",
    "    skewness = print(\"Le skewness est:\", round(tableau.skew(), 2), \"\\n\")\n",
    "    kurto = print(\"Le kurtosis est :\", round(tableau.kurtosis(), 2), \"\\n\")\n",
    "    \n",
    "    return(resume_stat, skewness, kurto);"
   ]
  },
  {
   "cell_type": "code",
   "execution_count": 130,
   "id": "2343ac7f",
   "metadata": {},
   "outputs": [
    {
     "name": "stdout",
     "output_type": "stream",
     "text": [
      "Les statistiques descriptives sont: \n",
      " count    522.00\n",
      "mean      35.51\n",
      "std        3.33\n",
      "min       28.00\n",
      "25%       33.70\n",
      "50%       36.00\n",
      "75%       38.00\n",
      "max       40.00\n",
      "Name: ScoreRelation, dtype: float64 \n",
      "\n",
      "Le skewness est: -0.68 \n",
      "\n",
      "Le kurtosis est : -0.19 \n",
      "\n"
     ]
    },
    {
     "data": {
      "text/plain": [
       "(None, None, None)"
      ]
     },
     "execution_count": 130,
     "metadata": {},
     "output_type": "execute_result"
    }
   ],
   "source": [
    "stat_descriptive(ScoreRelation)"
   ]
  },
  {
   "cell_type": "code",
   "execution_count": null,
   "id": "9887fbdb",
   "metadata": {},
   "outputs": [],
   "source": []
  }
 ],
 "metadata": {
  "kernelspec": {
   "display_name": "Python 3 (ipykernel)",
   "language": "python",
   "name": "python3"
  },
  "language_info": {
   "codemirror_mode": {
    "name": "ipython",
    "version": 3
   },
   "file_extension": ".py",
   "mimetype": "text/x-python",
   "name": "python",
   "nbconvert_exporter": "python",
   "pygments_lexer": "ipython3",
   "version": "3.9.12"
  }
 },
 "nbformat": 4,
 "nbformat_minor": 5
}
